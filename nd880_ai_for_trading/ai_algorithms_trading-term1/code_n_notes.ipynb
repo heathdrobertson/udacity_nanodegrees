{
 "cells": [
  {
   "cell_type": "markdown",
   "metadata": {
    "toc": true
   },
   "source": [
    "<h1>Table of Contents<span class=\"tocSkip\"></span></h1>\n",
    "<div class=\"toc\"><ul class=\"toc-item\"><li><span><a href=\"#AI-for-Trading-Nanodegree-Program\" data-toc-modified-id=\"AI-for-Trading-Nanodegree-Program-1\"><span class=\"toc-item-num\">1&nbsp;&nbsp;</span>AI for Trading Nanodegree Program</a></span><ul class=\"toc-item\"><li><span><a href=\"#Tools\" data-toc-modified-id=\"Tools-1.1\"><span class=\"toc-item-num\">1.1&nbsp;&nbsp;</span>Tools</a></span></li></ul></li><li><span><a href=\"#Course-Notes-&amp;-Practice-Code\" data-toc-modified-id=\"Course-Notes-&amp;-Practice-Code-2\"><span class=\"toc-item-num\">2&nbsp;&nbsp;</span>Course Notes &amp; Practice Code</a></span><ul class=\"toc-item\"><li><span><a href=\"#Welcome-to-the-Nanodegree-Program\" data-toc-modified-id=\"Welcome-to-the-Nanodegree-Program-2.1\"><span class=\"toc-item-num\">2.1&nbsp;&nbsp;</span>Welcome to the Nanodegree Program</a></span></li><li><span><a href=\"#Get-Help-from-Peers-&amp;-Mentors\" data-toc-modified-id=\"Get-Help-from-Peers-&amp;-Mentors-2.2\"><span class=\"toc-item-num\">2.2&nbsp;&nbsp;</span>Get Help from Peers &amp; Mentors</a></span></li><li><span><a href=\"#Get-Help-with-Your-Account\" data-toc-modified-id=\"Get-Help-with-Your-Account-2.3\"><span class=\"toc-item-num\">2.3&nbsp;&nbsp;</span>Get Help with Your Account</a></span></li><li><span><a href=\"#Stock-Prices\" data-toc-modified-id=\"Stock-Prices-2.4\"><span class=\"toc-item-num\">2.4&nbsp;&nbsp;</span>Stock Prices</a></span></li><li><span><a href=\"#Market-Mechanics\" data-toc-modified-id=\"Market-Mechanics-2.5\"><span class=\"toc-item-num\">2.5&nbsp;&nbsp;</span>Market Mechanics</a></span></li><li><span><a href=\"#Data-Processing\" data-toc-modified-id=\"Data-Processing-2.6\"><span class=\"toc-item-num\">2.6&nbsp;&nbsp;</span>Data Processing</a></span></li><li><span><a href=\"#Stock-Returns\" data-toc-modified-id=\"Stock-Returns-2.7\"><span class=\"toc-item-num\">2.7&nbsp;&nbsp;</span>Stock Returns</a></span><ul class=\"toc-item\"><li><span><a href=\"#Compound-Interest-and-Log-Returns\" data-toc-modified-id=\"Compound-Interest-and-Log-Returns-2.7.1\"><span class=\"toc-item-num\">2.7.1&nbsp;&nbsp;</span>Compound Interest and Log Returns</a></span></li><li><span><a href=\"#Numerical-Stability\" data-toc-modified-id=\"Numerical-Stability-2.7.2\"><span class=\"toc-item-num\">2.7.2&nbsp;&nbsp;</span>Numerical Stability</a></span></li><li><span><a href=\"#np.prod(1/np.array(range(1,-1000)))\" data-toc-modified-id=\"np.prod(1/np.array(range(1,-1000)))-2.7.3\"><span class=\"toc-item-num\">2.7.3&nbsp;&nbsp;</span>np.prod(1/np.array(range(1, 1000)))</a></span></li></ul></li><li><span><a href=\"#Momentum-Trading\" data-toc-modified-id=\"Momentum-Trading-2.8\"><span class=\"toc-item-num\">2.8&nbsp;&nbsp;</span>Momentum Trading</a></span><ul class=\"toc-item\"><li><span><a href=\"#Momentum-Based-Trading-Strategy\" data-toc-modified-id=\"Momentum-Based-Trading-Strategy-2.8.1\"><span class=\"toc-item-num\">2.8.1&nbsp;&nbsp;</span>Momentum Based Trading Strategy</a></span></li></ul></li><li><span><a href=\"#Project-1:-Trading-with-Momentum\" data-toc-modified-id=\"Project-1:-Trading-with-Momentum-2.9\"><span class=\"toc-item-num\">2.9&nbsp;&nbsp;</span>Project 1: Trading with Momentum</a></span></li><li><span><a href=\"#Quant-Workflow\" data-toc-modified-id=\"Quant-Workflow-2.10\"><span class=\"toc-item-num\">2.10&nbsp;&nbsp;</span>Quant Workflow</a></span></li><li><span><a href=\"#Outliers-&amp;-Filtering\" data-toc-modified-id=\"Outliers-&amp;-Filtering-2.11\"><span class=\"toc-item-num\">2.11&nbsp;&nbsp;</span>Outliers &amp; Filtering</a></span></li><li><span><a href=\"#Regression\" data-toc-modified-id=\"Regression-2.12\"><span class=\"toc-item-num\">2.12&nbsp;&nbsp;</span>Regression</a></span></li><li><span><a href=\"#Time-Series-Modeling\" data-toc-modified-id=\"Time-Series-Modeling-2.13\"><span class=\"toc-item-num\">2.13&nbsp;&nbsp;</span>Time Series Modeling</a></span></li><li><span><a href=\"#Volatility\" data-toc-modified-id=\"Volatility-2.14\"><span class=\"toc-item-num\">2.14&nbsp;&nbsp;</span>Volatility</a></span></li><li><span><a href=\"#Pairs-Trading-&amp;-Mean-Reversion\" data-toc-modified-id=\"Pairs-Trading-&amp;-Mean-Reversion-2.15\"><span class=\"toc-item-num\">2.15&nbsp;&nbsp;</span>Pairs Trading &amp; Mean Reversion</a></span></li><li><span><a href=\"#Project-2:-Breakout-Strategy\" data-toc-modified-id=\"Project-2:-Breakout-Strategy-2.16\"><span class=\"toc-item-num\">2.16&nbsp;&nbsp;</span>Project 2: Breakout Strategy</a></span></li><li><span><a href=\"#Stocks,-Indices,-Funds\" data-toc-modified-id=\"Stocks,-Indices,-Funds-2.17\"><span class=\"toc-item-num\">2.17&nbsp;&nbsp;</span>Stocks, Indices, Funds</a></span></li><li><span><a href=\"#ETFs\" data-toc-modified-id=\"ETFs-2.18\"><span class=\"toc-item-num\">2.18&nbsp;&nbsp;</span>ETFs</a></span></li><li><span><a href=\"#Portfolio-Risk-and-Return\" data-toc-modified-id=\"Portfolio-Risk-and-Return-2.19\"><span class=\"toc-item-num\">2.19&nbsp;&nbsp;</span>Portfolio Risk and Return</a></span></li><li><span><a href=\"#Portfolio-Optimization\" data-toc-modified-id=\"Portfolio-Optimization-2.20\"><span class=\"toc-item-num\">2.20&nbsp;&nbsp;</span>Portfolio Optimization</a></span></li><li><span><a href=\"#Project-3:-Smart-Beta-&amp;-Portfolio-Optimization\" data-toc-modified-id=\"Project-3:-Smart-Beta-&amp;-Portfolio-Optimization-2.21\"><span class=\"toc-item-num\">2.21&nbsp;&nbsp;</span>Project 3: Smart Beta &amp; Portfolio Optimization</a></span></li><li><span><a href=\"#Factors\" data-toc-modified-id=\"Factors-2.22\"><span class=\"toc-item-num\">2.22&nbsp;&nbsp;</span>Factors</a></span></li><li><span><a href=\"#Factor-Models-and-Types-of-Factors\" data-toc-modified-id=\"Factor-Models-and-Types-of-Factors-2.23\"><span class=\"toc-item-num\">2.23&nbsp;&nbsp;</span>Factor Models and Types of Factors</a></span></li><li><span><a href=\"#Risk-Factor-Models\" data-toc-modified-id=\"Risk-Factor-Models-2.24\"><span class=\"toc-item-num\">2.24&nbsp;&nbsp;</span>Risk Factor Models</a></span></li><li><span><a href=\"#Time-Series-and-Cross-Sectional-Risk-Models\" data-toc-modified-id=\"Time-Series-and-Cross-Sectional-Risk-Models-2.25\"><span class=\"toc-item-num\">2.25&nbsp;&nbsp;</span>Time Series and Cross Sectional Risk Models</a></span></li><li><span><a href=\"#Risk-Factor-Models-with-PCA\" data-toc-modified-id=\"Risk-Factor-Models-with-PCA-2.26\"><span class=\"toc-item-num\">2.26&nbsp;&nbsp;</span>Risk Factor Models with PCA</a></span></li><li><span><a href=\"#Alpha-Factors\" data-toc-modified-id=\"Alpha-Factors-2.27\"><span class=\"toc-item-num\">2.27&nbsp;&nbsp;</span>Alpha Factors</a></span></li><li><span><a href=\"#Alpha-Factor-Research-Methods\" data-toc-modified-id=\"Alpha-Factor-Research-Methods-2.28\"><span class=\"toc-item-num\">2.28&nbsp;&nbsp;</span>Alpha Factor Research Methods</a></span></li><li><span><a href=\"#Advanced-Portfolio-Optimization\" data-toc-modified-id=\"Advanced-Portfolio-Optimization-2.29\"><span class=\"toc-item-num\">2.29&nbsp;&nbsp;</span>Advanced Portfolio Optimization</a></span></li><li><span><a href=\"#Project-4:-Alpha-Research-and-Factor-Modeling\" data-toc-modified-id=\"Project-4:-Alpha-Research-and-Factor-Modeling-2.30\"><span class=\"toc-item-num\">2.30&nbsp;&nbsp;</span>Project 4: Alpha Research and Factor Modeling</a></span></li></ul></li><li><span><a href=\"#End-of-Term-1\" data-toc-modified-id=\"End-of-Term-1-3\"><span class=\"toc-item-num\">3&nbsp;&nbsp;</span>End of Term 1</a></span></li><li><span><a href=\"#Useful-Information\" data-toc-modified-id=\"Useful-Information-4\"><span class=\"toc-item-num\">4&nbsp;&nbsp;</span>Useful Information</a></span><ul class=\"toc-item\"><li><span><a href=\"#Reading-&amp;-Reference\" data-toc-modified-id=\"Reading-&amp;-Reference-4.1\"><span class=\"toc-item-num\">4.1&nbsp;&nbsp;</span>Reading &amp; Reference</a></span><ul class=\"toc-item\"><li><span><a href=\"#Lesson-28-Research-Papers\" data-toc-modified-id=\"Lesson-28-Research-Papers-4.1.1\"><span class=\"toc-item-num\">4.1.1&nbsp;&nbsp;</span>Lesson 28 Research Papers</a></span></li><li><span><a href=\"#Data-Resources\" data-toc-modified-id=\"Data-Resources-4.1.2\"><span class=\"toc-item-num\">4.1.2&nbsp;&nbsp;</span>Data Resources</a></span></li></ul></li></ul></li><li><span><a href=\"#Code\" data-toc-modified-id=\"Code-5\"><span class=\"toc-item-num\">5&nbsp;&nbsp;</span>Code</a></span><ul class=\"toc-item\"><li><span><a href=\"#Code-Libraries\" data-toc-modified-id=\"Code-Libraries-5.1\"><span class=\"toc-item-num\">5.1&nbsp;&nbsp;</span>Code Libraries</a></span><ul class=\"toc-item\"><li><span><a href=\"#Zipine\" data-toc-modified-id=\"Zipine-5.1.1\"><span class=\"toc-item-num\">5.1.1&nbsp;&nbsp;</span><a href=\"http://www.zipline.io/\" target=\"_blank\">Zipine</a></a></span></li><li><span><a href=\"#Alphalens\" data-toc-modified-id=\"Alphalens-5.1.2\"><span class=\"toc-item-num\">5.1.2&nbsp;&nbsp;</span><a href=\"http://quantopian.github.io/alphalens/\" target=\"_blank\">Alphalens</a></a></span></li><li><span><a href=\"#Pyfolio\" data-toc-modified-id=\"Pyfolio-5.1.3\"><span class=\"toc-item-num\">5.1.3&nbsp;&nbsp;</span><a href=\"https://quantopian.github.io/pyfolio/\" target=\"_blank\">Pyfolio</a></a></span></li></ul></li><li><span><a href=\"#Tutorials-&amp;-Instruction\" data-toc-modified-id=\"Tutorials-&amp;-Instruction-5.2\"><span class=\"toc-item-num\">5.2&nbsp;&nbsp;</span>Tutorials &amp; Instruction</a></span></li><li><span><a href=\"#Hacking\" data-toc-modified-id=\"Hacking-5.3\"><span class=\"toc-item-num\">5.3&nbsp;&nbsp;</span>Hacking</a></span><ul class=\"toc-item\"><li><span><a href=\"#⇧H:-show-keyboard-shortcuts\" data-toc-modified-id=\"⇧H:-show-keyboard-shortcuts-5.3.1\"><span class=\"toc-item-num\">5.3.1&nbsp;&nbsp;</span>⇧H: show keyboard shortcuts</a></span></li></ul></li></ul></li></ul></div>"
   ]
  },
  {
   "cell_type": "markdown",
   "metadata": {},
   "source": [
    "# AI for Trading Nanodegree Program\n",
    "\n",
    "## Tools\n",
    "\n",
    "- [Code Notes (Hypothes.is)](https://hypothes.is/users/heath.d.robertson)\n",
    "- [Formulas (Screenshots)](https://photos.app.goo.gl/N8bkxPQvavkgvAxL7)\n",
    "- [LaTex Equation Editor](https://www.codecogs.com/latex/eqneditor.php)\n",
    "\n",
    "\n",
    "__Projects__\n",
    "\n",
    "- [P1 Trading with Momentum](project_notebooks/p1/project_1_starter.ipynb)\n",
    "- [P2 Breakout Strategy](project_notebooks/p2/project_2_starter.ipynb)\n",
    "- [P3 Smart Beta Portfolio and Portfolio Optimization](project_notebooks/p3/project_3_starter.ipynb)\n",
    "- [P4 Multi-factor Model](/notebooks/project_notebooks/p4/project_4_starter.ipynb)\n",
    "\n",
    "__Course Quiz & Code Practice Notebooks__\n",
    "\n",
    "- [L2 Stock Data](./lesson_notebooks/L02/stock_data.ipynb)\n",
    "- [L3 Resample Data](./lesson_notebooks/l3/resample_data.ipynb)\n",
    "- [L5 Calculate Returns](./lesson_notebooks/l5/calculate_returns.ipynb)\n",
    "- [L5 Returns Distributions](./lesson_notebooks/l5/returns_distributions.ipynb)\n",
    "- [L6 Dtype](./lesson_notebooks/l6/dtype.ipynb)\n",
    "- [L6 Calculate Top & Bottom Performing](./lesson_notebooks/l6/top_and_bottom_performing.ipynb)\n",
    "- [L10 Normality](lesson_notebooks/l10/test_normality_solution.ipynb)\n",
    "- [L11 Time Series Modeling ARMA & ARIMA Quiz](lesson_notebooks/l11/autoregression_quiz.ipynb)\n",
    "- [L12 Rolling Windows](lesson_notebooks/l12/rolling_windows.ipynb)\n",
    "- [L15 Exercise: Finding Pairs](lesson_notebooks/l15/pairs_candidates.ipynb)\n",
    "- [L17 Quiz: Rate of Returns Over Multiple Periods](lesson_notebooks/l17/cumsum_and_cumprod.ipynb)\n",
    "- [L19 Quiz: np.cov](lesson_notebooks/l19/m3l4_covariance.ipynb)\n",
    "- [L20 Exercise: cvxpy](lesson_notebooks/l20/m3l4_cvxpy_basic.ipynb)\n",
    "- [L20 Exercise: cvxpy advanced optimization](lesson_notebooks/l20/m3l4_cvxpy_advanced.ipynb)\n"
   ]
  },
  {
   "cell_type": "markdown",
   "metadata": {},
   "source": [
    "# Course Notes & Practice Code"
   ]
  },
  {
   "cell_type": "markdown",
   "metadata": {},
   "source": [
    "## Welcome to the Nanodegree Program\n",
    "___"
   ]
  },
  {
   "cell_type": "markdown",
   "metadata": {},
   "source": [
    "## Get Help from Peers & Mentors"
   ]
  },
  {
   "cell_type": "markdown",
   "metadata": {},
   "source": [
    "## Get Help with Your Account"
   ]
  },
  {
   "cell_type": "markdown",
   "metadata": {},
   "source": [
    "## Stock Prices\n",
    "___\n",
    "\n",
    "[Lesson 4]()\n",
    "\n",
    "**Learn about stocks and common terminology used when analyzing stocks.**\n",
    "\n",
    "1. Stocks\n",
    "2. Stock Prices\n",
    "3. Terminology\n",
    "4. [Quiz: Stock Data](./lesson_notebooks/L02/stock_data.ipynb)"
   ]
  },
  {
   "cell_type": "markdown",
   "metadata": {},
   "source": [
    "## Market Mechanics\n",
    "___\n",
    "\n",
    "\n",
    "[Lesson 5](https://classroom.udacity.com/nanodegrees/nd880/parts/9a3a9589-7bc6-4694-81e0-8c3cb1aea251/modules/ff0c8cc4-2cf0-4d10-b053-d4694d8c4ea3/lessons/acf72c80-6f2c-4acb-b0d2-5f1d85b35d84/concepts/ea223350-2b90-4a0b-8e07-abd21a3f5728)\n",
    "\n",
    "**Learn about how modern stock markets function, how trades are executed and prices are set. Study market behavior, and analyze price and volume data to identify potential trading signals.**\n",
    "\n",
    "1. Intro\n",
    "2. Farmers' Market\n",
    "3. Trading Stocks\n",
    "4. Liquidity\n",
    "5. Tick Data\n",
    "6. OHLC: Open, High, Low, Close\n",
    "7. [Quiz: Resample Data](./lesson_notebooks/L03/resample_data.ipynb)\n",
    "8. Volume\n",
    "9. Gaps in Market Data\n",
    "10. Markets in Different Timezones\n",
    "11. Summary"
   ]
  },
  {
   "cell_type": "markdown",
   "metadata": {},
   "source": [
    "## Data Processing\n",
    "____\n",
    "\n"
   ]
  },
  {
   "cell_type": "markdown",
   "metadata": {},
   "source": [
    "## Stock Returns\n",
    "___\n",
    "\n",
    "- [L5 Calculate Returns](./lesson_notebooks/l5/calculate_returns.ipynb)\n",
    "- [L5 Returns Distributions](./lesson_notebooks/l5/returns_distributions.ipynb)"
   ]
  },
  {
   "cell_type": "markdown",
   "metadata": {},
   "source": [
    "### Compound Interest and Log Returns\n",
    "[NumPy Financial Functions](https://docs.scipy.org/doc/numpy-1.13.0/reference/routines.financial.html)\n",
    "\n",
    "__Continuously Compounded Annual Return__\n",
    "\n",
    "$$ ln\\left ( p_{t} / p_{t-1} \\right ) $$"
   ]
  },
  {
   "cell_type": "code",
   "execution_count": 3,
   "metadata": {},
   "outputs": [
    {
     "name": "stdout",
     "output_type": "stream",
     "text": [
      "1.0408\n",
      "0.04\n"
     ]
    }
   ],
   "source": [
    "import numpy as np\n",
    "\n",
    "total_anual = 104.08\n",
    "init_amount = 100.00\n",
    "\n",
    "e_r = total_anual/init_amount\n",
    "print(e_r)\n",
    "\n",
    "r = np.log(e_r)\n",
    "print(round(r, 2))"
   ]
  },
  {
   "cell_type": "code",
   "execution_count": 4,
   "metadata": {},
   "outputs": [
    {
     "name": "stdout",
     "output_type": "stream",
     "text": [
      "$127.12\n"
     ]
    }
   ],
   "source": [
    "pt = 100.00\n",
    "int_rate = 0.02\n",
    "compound = pt * np.exp(int_rate*12)\n",
    "print(\"${:.2f}\".format(compound))"
   ]
  },
  {
   "cell_type": "markdown",
   "metadata": {},
   "source": [
    "### Numerical Stability\n",
    "\n",
    "Multiplication of many small numbers can result in the problem that the product is smaller than the smallest number representable in computer memory. Sometimes the computation will incorrectly yield the value 0. This is called arithmetic underflow. The use of logarithms can help with this, since it enables the representation of much smaller (and much larger) numbers. For example:"
   ]
  },
  {
   "cell_type": "code",
   "execution_count": 6,
   "metadata": {},
   "outputs": [
    {
     "data": {
      "text/plain": [
       "-5905.220423209189"
      ]
     },
     "execution_count": 6,
     "metadata": {},
     "output_type": "execute_result"
    }
   ],
   "source": [
    "sum(np.log(1/np.array(range(1, 1000))))"
   ]
  },
  {
   "cell_type": "markdown",
   "metadata": {},
   "source": [
    "### np.prod(1/np.array(range(1, 1000)))"
   ]
  },
  {
   "cell_type": "markdown",
   "metadata": {},
   "source": [
    "##### Returns\n",
    "__Raw Returns__\n",
    "- r = Raw Return \n",
    "    - $ r = \\frac{p_{t} - p_{t-1}}{p_{t-1}} $\n",
    "    - $  r = e^{R} - 1 $\n",
    "\n",
    "__Log Returns__\n",
    "- R = Log Return\n",
    "    - $ R = log_{e}\\left ( \\frac{ p_{t} }{p_{t-1}} \\right ) = ln \\left ( \\frac{p_{t}}{p_{t-1}} \\right ) $\n",
    "    - $ R = ln\\left(r + 1 \\right ) $\n",
    "\n"
   ]
  },
  {
   "cell_type": "code",
   "execution_count": 1,
   "metadata": {},
   "outputs": [
    {
     "name": "stdout",
     "output_type": "stream",
     "text": [
      "Raw Return = 5.0%\n"
     ]
    }
   ],
   "source": [
    "pt_1 = 1000.00 # Purchase $1000 of stock\n",
    "pt = 1050.00 # Sold stock at $1050\n",
    "\n",
    "r = (pt - pt_1)/pt_1\n",
    "print(\"Raw Return = {0:.1f}%\".format(r*100))"
   ]
  },
  {
   "cell_type": "code",
   "execution_count": 2,
   "metadata": {},
   "outputs": [
    {
     "ename": "NameError",
     "evalue": "name 'np' is not defined",
     "output_type": "error",
     "traceback": [
      "\u001b[0;31m---------------------------------------------------------------------------\u001b[0m",
      "\u001b[0;31mNameError\u001b[0m                                 Traceback (most recent call last)",
      "\u001b[0;32m<ipython-input-2-31effa430be5>\u001b[0m in \u001b[0;36m<module>\u001b[0;34m()\u001b[0m\n\u001b[0;32m----> 1\u001b[0;31m \u001b[0mR\u001b[0m \u001b[0;34m=\u001b[0m \u001b[0mnp\u001b[0m\u001b[0;34m.\u001b[0m\u001b[0mlog\u001b[0m\u001b[0;34m(\u001b[0m\u001b[0mr\u001b[0m \u001b[0;34m+\u001b[0m \u001b[0;36m1\u001b[0m\u001b[0;34m)\u001b[0m\u001b[0;34m\u001b[0m\u001b[0m\n\u001b[0m\u001b[1;32m      2\u001b[0m \u001b[0mprint\u001b[0m\u001b[0;34m(\u001b[0m\u001b[0;34m\"Log Return = {0}%\"\u001b[0m\u001b[0;34m.\u001b[0m\u001b[0mformat\u001b[0m\u001b[0;34m(\u001b[0m\u001b[0mR\u001b[0m\u001b[0;34m*\u001b[0m\u001b[0;36m100\u001b[0m\u001b[0;34m)\u001b[0m\u001b[0;34m)\u001b[0m\u001b[0;34m\u001b[0m\u001b[0m\n",
      "\u001b[0;31mNameError\u001b[0m: name 'np' is not defined"
     ]
    }
   ],
   "source": [
    "R = np.log(r + 1)\n",
    "print(\"Log Return = {0}%\".format(R*100))"
   ]
  },
  {
   "cell_type": "code",
   "execution_count": 9,
   "metadata": {},
   "outputs": [
    {
     "name": "stdout",
     "output_type": "stream",
     "text": [
      "1.05\n",
      "2.718281828459045\n",
      "1.0\n"
     ]
    }
   ],
   "source": [
    "print(pt/pt_1)\n",
    "print(np.e)\n",
    "print(np.log(np.e))"
   ]
  },
  {
   "cell_type": "markdown",
   "metadata": {},
   "source": [
    "## Momentum Trading\n",
    "___\n",
    "\n",
    "- [L6 Calculate Top & Bottom Performing](./top_and_bottom_performing.ipynb)\n",
    "\n",
    "### Momentum Based Trading Strategy\n",
    "![./images/5_step_strategy.png](./images/5_step_strategy.png)\n",
    "\n",
    "__Momentum indicator calculation:__\n",
    "\n",
    "$ x_{t} = $ Month-end Price\n",
    "\n",
    "$$ \\log_{e}\\left (x_{t} \\right ) - \\log_{e}\\left (x_{t-1} \\right ) $$\n",
    "\n"
   ]
  },
  {
   "cell_type": "markdown",
   "metadata": {},
   "source": [
    "## Project 1: Trading with Momentum\n",
    "____\n",
    "\n",
    "[Project Notebook](./project_notebooks/p1/project_1_starter.ipynb)\n",
    "\n",
    "__Trading with Momentum Project__\n",
    "\n",
    "- Implement a trading strategy\n",
    "    - Test the strategy to see if it has the potential to be profitable. \n",
    "    - Strategy will be built from a universe of stocks and time range. \n",
    "- Generate a trading signal based on a momentum indicator. \n",
    "    - Compute the signal for the time range given.\n",
    "        - Apply signal to the dataset to produce projected returns. \n",
    "- Perform a statistical test on the mean of the returns.\n",
    "    - Determine if there is alpha in the signal. \n",
    "- Dataset: End of day from Quotemedia."
   ]
  },
  {
   "cell_type": "markdown",
   "metadata": {},
   "source": [
    "## Quant Workflow\n",
    "\n"
   ]
  },
  {
   "cell_type": "markdown",
   "metadata": {},
   "source": [
    "## Outliers & Filtering\n",
    "\n",
    " 1. Intro\n",
    " 2. Sources of Outliers\n",
    "    - Extreme or unexpected values in market data, which may or may not represent real events.\n",
    "        - e.g. Solar Energy Company, price fluctuation when a solar eclipse occurs.\n",
    " 3. Quiz: Outliers Due to Real Events\n",
    " 4. Outliers, Signals and Strategies\n",
    "     - Volume = Number of Shares Traded\n",
    "     - Turnover = Volume Traded * Price Per Share\n",
    " 5. Spotting Outliers in Raw Data\n",
    " 6. Handling Outliers in Raw Data\n",
    " 7. Spotting Outliers in Signal Returns\n",
    "     - After you calculate returns from a trading signal, you may suspect the presence of outliers when you examine the distribution of signal returns.\n",
    " 8. Handling Outliers in Signal Returns\n",
    " 9. Generating Robust Trading Signals\n",
    " 10. Summary\n",
    "\n"
   ]
  },
  {
   "cell_type": "markdown",
   "metadata": {},
   "source": [
    "## Regression\n",
    "\n",
    " 1. Intro\n",
    "     1. Checking if your data fits a normal distribution.\n",
    "     2. Checking if your data is stationary over time.\n",
    "     3. And what to do if one or both of the above is not.\n",
    " 2. Distributions\n",
    " 3. [Exercise: Visualize Distributions](https://classroom.udacity.com/nanodegrees/nd880/parts/9a3a9589-7bc6-4694-81e0-8c3cb1aea251/modules/f91e6d6f-1a0d-4f3c-a5ca-41e8750a38e8/lessons/218b6b3f-d178-4a4a-a9be-70a5ec114aef/concepts/ec3827d6-7bba-4c2c-983a-5b3c29738522#)\n",
    "    ![Visualize](./images/distributions.png)\n",
    " 4. Parameters of a Distribution\n",
    "     1. Probability Density Function (PDF)\n",
    "     2. $ X \\sim D $\n",
    "         1. A random variable X follows a probability distribution D.\n",
    "     3. $ P\\left(x|D\\right) = p\\left(x\\right) $\n",
    "         1. The probability of x given D.\n",
    "     4. The Standard Normal Distribution is centered on zero (hence μ = 0), and has a standard deviation of 1 (σ = 1).\n",
    " 5. Quiz: Standard Normal Distribution\n",
    " 6. Testing for Normality\n",
    " 7. Quiz: Normality\n",
    " 8. [Exercise: Normality](lesson_notebooks/l10/test_normality_solution.ipynb)\n",
    " 9. Heteroskedasticity\n",
    " 10. Transforming Data\n",
    " 11. Linear Regression\n",
    " 12. Breusch Pagan in Depth (Optional)\n",
    " 13. Quiz: Regression\n",
    " 14. Multivariate Linear Regression\n",
    " 15. Regression in Trading\n",
    " 16. [Exercise: regression with two stocks](lesson_notebooks/l10/regression.ipynb)\n",
    " 17. Summary\n",
    " 18. Interlude: Your Brain"
   ]
  },
  {
   "cell_type": "code",
   "execution_count": null,
   "metadata": {},
   "outputs": [],
   "source": []
  },
  {
   "cell_type": "markdown",
   "metadata": {},
   "source": [
    "## Time Series Modeling\n",
    "___\n",
    "\n",
    "**Learn about advanced methods for time series analysis, including ARMA, ARIMA, Kalman Filters, Particle Filters, and recurrent neural networks.**\n",
    "\n",
    "1. Time Series Modeling\n",
    "2. Autoregressive Models\n",
    "3. Moving Average Models\n",
    "4. Advanced Time Series Models\n",
    "5. Exercise: ARMA and ARIMA\n",
    "6. Kalman Filter\n",
    "7. Particle Filter\n",
    "8. Recurrent Neural Networks\n",
    "9. Summary\n"
   ]
  },
  {
   "cell_type": "markdown",
   "metadata": {},
   "source": [
    "## Volatility\n",
    "\n",
    " 1. What is Volatility?\n",
    " 2. Historical Volatility\n",
    " 3. Annualized Volatility\n"
   ]
  },
  {
   "cell_type": "markdown",
   "metadata": {},
   "source": [
    " 4. Quiz: Scale of Volatility\n",
    "     - Volatility is a very important concept that you need to understand to become a good trader. It becomes critical for risk management and options trading, but can be used to design more intelligent equity trading strategies as well."
   ]
  },
  {
   "cell_type": "code",
   "execution_count": 140,
   "metadata": {
    "scrolled": true
   },
   "outputs": [
    {
     "name": "stdout",
     "output_type": "stream",
     "text": [
      "Most volatile stock: B\n"
     ]
    }
   ],
   "source": [
    "import pandas as pd\n",
    "import numpy as np\n",
    "\n",
    "def get_most_volatile(prices):\n",
    "    \"\"\"Return the ticker symbol for the most volatile stock.\n",
    "    \n",
    "    Parameters\n",
    "    ----------\n",
    "    prices : pandas.DataFrame\n",
    "        a pandas.DataFrame object with columns: ['ticker', 'date', 'price']\n",
    "    \n",
    "    Returns\n",
    "    -------\n",
    "    ticker : string\n",
    "        ticker symbol for the most volatile stock\n",
    "    \n",
    "    Notes\n",
    "    -----\n",
    "    pd.Series.apply(func()) applys a function to every column.\n",
    "    l = p.apply(np.log).std()\n",
    "    print(l)\n",
    "    print(l.idxmax())\n",
    "    print(l.min())\n",
    "    \"\"\"\n",
    "    # TODO: Fill in this function.\n",
    "    p = prices.pivot(index='date', columns='ticker', values='price')\n",
    "    return p.apply(np.log).std().idxmax()\n",
    "\n",
    "def test_run(filename='data/prices.csv'):\n",
    "    \"\"\"Test run get_most_volatile() with stock prices from a file.\"\"\"\n",
    "    prices = pd.read_csv(filename, parse_dates=['date'])\n",
    "    print(\"Most volatile stock: {}\".format(get_most_volatile(prices)))\n",
    "\n",
    "\n",
    "if __name__ == '__main__':\n",
    "    test_run()"
   ]
  },
  {
   "cell_type": "markdown",
   "metadata": {},
   "source": []
  },
  {
   "cell_type": "markdown",
   "metadata": {},
   "source": [
    " 5. [Quiz: Volatility](lesson_notebooks/l12/rolling_windows.ipynb)\n",
    " 6. [L12 Rolling Windows](lesson_notebooks/l12/rolling_windows.ipynb)\n",
    " 7. Quiz: Rolling Windows\n"
   ]
  },
  {
   "cell_type": "markdown",
   "metadata": {},
   "source": [
    " 8. Exponentially Weighted Moving Average\n",
    "    - [Pandas Exponentially Weighted Windows](http://pandas.pydata.org/pandas-docs/stable/computation.html#exponentially-weighted-windows)"
   ]
  },
  {
   "cell_type": "code",
   "execution_count": 250,
   "metadata": {},
   "outputs": [
    {
     "name": "stdout",
     "output_type": "stream",
     "text": [
      "                  price  log_return  log_return_squared      ewma  volatility\n",
      "date                                                                         \n",
      "2017-06-26   811.158830   -0.006882            0.000047  0.000037    0.006080\n",
      "2017-06-27   814.600795    0.004234            0.000018  0.000031    0.005590\n",
      "2017-06-28   810.344363   -0.005239            0.000027  0.000030    0.005487\n",
      "2017-06-29   806.478233   -0.004782            0.000023  0.000028    0.005286\n",
      "2017-06-30:  809.728071    0.004022            0.000016  0.000024    0.004941\n",
      "Most recent volatility estimate: 0.004941\n"
     ]
    }
   ],
   "source": [
    "import pandas as pd\n",
    "import numpy as np\n",
    "\n",
    "def estimate_volatility(prices, l):\n",
    "    \"\"\"Create an exponential moving average model of the volatility of a stock\n",
    "    price, and return the most recent (last) volatility estimate.\n",
    "    \n",
    "    Parameters\n",
    "    ----------\n",
    "    prices : pandas.Series\n",
    "        A series of adjusted closing prices for a stock.\n",
    "        \n",
    "    l : float\n",
    "        The 'lambda' parameter of the exponential moving average model. Making\n",
    "        this value smaller will cause the model to weight older terms less \n",
    "        relative to more recent terms.\n",
    "        \n",
    "    Returns\n",
    "    -------\n",
    "    last_vol : float\n",
    "        The last element of your exponential moving averge volatility model series.\n",
    "    \n",
    "    Answer\n",
    "    ------\n",
    "    That's correct! The exponential moving average model of volatility tracks changes in the volatility. The lambda parameter determines how responsive the estimate of the daily volatility is to the most recent daily return.\n",
    "    \"\"\"\n",
    "    #Log Returns\n",
    "    alpha = 1-l\n",
    "    p = prices.to_frame()\n",
    "    p['log_return'] = np.log(p['price']/p['price'].shift(1))\n",
    "    p['log_return_squared'] = np.square(p['log_return'])\n",
    "    p['ewma'] = p['log_return_squared'].ewm(alpha=alpha).mean()\n",
    "    p['volatility'] = np.sqrt(p['ewma'])\n",
    "    print(p.tail(5))\n",
    "    return p['volatility'][-1]\n",
    "\n",
    "def test_run(filename='./data/ema_data.csv'):\n",
    "    \"\"\"Test run get_most_volatile() with stock prices from a file.\"\"\"\n",
    "    prices = pd.read_csv(filename, parse_dates=['date'], index_col='date', squeeze=True)\n",
    "    print(\"Most recent volatility estimate: {:.6f}\".format(estimate_volatility(prices, 0.7)))\n",
    "\n",
    "\n",
    "if __name__ == '__main__':\n",
    "    # 2.374120\n",
    "    test_run()"
   ]
  },
  {
   "cell_type": "markdown",
   "metadata": {},
   "source": [
    "9. Quiz: Estimate Volatility\n",
    "10. Forecasting Volatility\n",
    "11. Markets & Volatility\n",
    "12. Using Volatility for Equity Trading\n",
    "13. Breakout Strategies\n",
    "14. Summary"
   ]
  },
  {
   "cell_type": "markdown",
   "metadata": {},
   "source": [
    "## Pairs Trading & Mean Reversion \n",
    "___\n",
    "[Lesson](https://classroom.udacity.com/nanodegrees/nd880/parts/9a3a9589-7bc6-4694-81e0-8c3cb1aea251/modules/f91e6d6f-1a0d-4f3c-a5ca-41e8750a38e8/lessons/a8a46395-26cb-4f43-b81c-48625e628f15/concepts/3b56a656-3435-4aa1-9280-9da8a6dc7e6e)\n",
    "1. Intro\n",
    "2. Mean Reversion\n",
    "3. Pairs Trading\n",
    "4. Finding Pairs to Trade\n",
    "5. Quiz: Identify Pairs to Trade\n",
    "6. Cointegration\n",
    "7. ADF and roots\n",
    "8. Clustering Stocks\n",
    "9. Trade Pairs of Stocks\n",
    "10. [Exercise: Finding Pairs](notebooks/lesson_notebooks/l15/pairs_candidates.ipynb)\n",
    "11. Variations of Pairs Trading and Mean Reversion Trading\n",
    "12. 3 or more stocks (optional)\n",
    "13. Details of Johansen Test (optional)\n",
    "14. Summary - Pairs Trading and Mean Reversion \n",
    "     - Remember that mean reversion trading follows these general steps.\n",
    "        1. Find a pair of assets or a pair of portfolios that have some economic link,\n",
    "        2. compute the hedge ratio, \n",
    "        3. use the hedge ratio to compute the spread, \n",
    "        4. test whether the spread is stationary, \n",
    "        5. if the spread is stationary, \n",
    "        6. consider the pair a candidate for mean reversion trading. \n",
    "        7. Next, choose thresholds for the spread. \n",
    "        8. When the spread widens beyond its historical average, short the spread. \n",
    "        9. When the spread narrows beyond its historical average, go along the spread. \n",
    "        10.  Most important of all, remember to backtest your model."
   ]
  },
  {
   "cell_type": "markdown",
   "metadata": {},
   "source": []
  },
  {
   "cell_type": "markdown",
   "metadata": {},
   "source": [
    "## Project 2: Breakout Strategy"
   ]
  },
  {
   "cell_type": "markdown",
   "metadata": {},
   "source": [
    "## Stocks, Indices, Funds\n",
    "___\n",
    "\n",
    "[Lesson 17](https://classroom.udacity.com/nanodegrees/nd880/parts/9a3a9589-7bc6-4694-81e0-8c3cb1aea251/modules/8f3047b9-8592-4c29-aa80-3cfad73529cf/lessons/99485236-63a1-4329-9cbf-db6cab410882/concepts/a6371354-b63f-402f-83eb-7768902faafb)\n",
    "\n",
    "__Gain an overview of stocks, indices and funds. Also learn how to construct an index.__\n",
    "\n",
    "1. Intro Module 3\n",
    "2. Intro to this lesson\n",
    "    - Stocks\n",
    "        - Equity = Assets - Liabilities\n",
    "        - Stock or Shares represent partial ownership of a company’s equity.\n",
    "3. Indices\n",
    "4. Market Cap\n",
    "5. Growth V. Value\n",
    "6. Ratios\n",
    "7. Index Categories\n",
    "8. Price Weighting\n",
    "9. Market Cap Weighting\n",
    "10. Adding or Removing from an Index\n",
    "11. How an Index is Constructed\n",
    "12. Hang Seng Index Construction\n",
    "13. Index after Add or Delete\n",
    "14. Funds\n",
    "15. Active vs. Passive\n",
    "16. [L16 Quiz: Rate of Returns Over Multiple Periods](lesson_notebooks/l17/cumsum_and_cumprod.ipynb)\n",
    "17. Smart Beta\n",
    "18. Mutual Funds\n",
    "19. Hedge Funds\n",
    "20. Relative and Absolute Returns\n",
    "21. Hedging Strategies\n",
    "22. Net Asset Value\n",
    "23. Expense Ratios\n",
    "24. Open End Mutual Funds\n",
    "25. Handling Withdrawals\n",
    "26. Close End Mutual Funds\n",
    "27. Transaction Costs\n",
    "28. Summary\n"
   ]
  },
  {
   "cell_type": "markdown",
   "metadata": {},
   "source": [
    "## ETFs\n",
    "___\n",
    "\n",
    "[Lesson 18](https://classroom.udacity.com/nanodegrees/nd880/parts/9a3a9589-7bc6-4694-81e0-8c3cb1aea251/modules/8f3047b9-8592-4c29-aa80-3cfad73529cf/lessons/b59d570e-eee1-425a-8186-6e051d0733fb/concepts/bc255c95-19d2-47f9-a962-91d78db0f118)\n",
    "\n",
    "__Learn about Exchanged Traded Funds (ETFs) and how they are used by investors and fund managers.__\n",
    "\n",
    "1. Intro\n",
    "2. Shortcomings of Mutual Funds\n",
    "3. How ETFs are Used\n",
    "4. Hedging\n",
    "5. ETF Sponsors\n",
    "6. Authorized Participant and the Create Process\n",
    "7. Redeeming Shares\n",
    "8. Lower Operational Costs & Taxes\n",
    "9. Arbitrage\n",
    "10. Arbitrage for Efficient ETF Pricing\n",
    "11. Summary\n",
    "12. Interlude: Meditation"
   ]
  },
  {
   "cell_type": "markdown",
   "metadata": {},
   "source": [
    "## Portfolio Risk and Return\n",
    "___\n",
    "\n",
    "[Lesson 19](https://classroom.udacity.com/nanodegrees/nd880/parts/9a3a9589-7bc6-4694-81e0-8c3cb1aea251)\n",
    "\n",
    "__Learn the fundamentals of portfolio theory, which are key to designing portfolios for mutual funds, hedge funds and ETFs.__\n",
    "\n",
    "1. Intro\n",
    "2. Diversification\n",
    "3. Portfolio Mean\n",
    "    - $ E \\left ( r_{p} \\right ) = x_{A}E\\left ( r_{A} \\right ) + x_{B}E\\left ( r_{B} \\right ) $\n",
    "4. Portfolio Variance\n",
    "    - Derivation of Portfolio Variance\n",
    "    - $ \\sigma_{P}^{2} = x_{A}^{2} \\sigma_{A}^{2} + x_{B}^{2} \\sigma_{B}^{2} + 2x_{A}x_{B}Cov\\left( r_{A}, r_{B}\\right)$\n",
    "5. Reducing Risk\n",
    "6. Quiz: Variance of a 3-Asset Portfolio\n",
    "7. The Covariance Matrix and Quadratic Forms\n",
    "    - [Calculating Covariance & Correlation](http://ci.columbia.edu/ci/premba_test/c0331/s7/s7_5.html)\n",
    "8. Calculate a Covariance Matrix\n",
    "9. Quiz: np.cov\n",
    "10. The Efficient Frontier\n",
    "11. Capital Market Line\n",
    "12. The Sharpe Ratio\n",
    "13. Other Risk Measures\n",
    "14. The Capital Assets Pricing Model\n",
    "15. Quiz: Portfolio Return with a 3-Asset Portfolio\n",
    "16. Summary"
   ]
  },
  {
   "cell_type": "markdown",
   "metadata": {},
   "source": [
    "$ x_{A} = \\frac{\\sigma_{B}^{2} - \\sigma_{A}\\sigma_{B}\\rho_{r_{A} r_{B}}}{\\sigma_{A}^{2} + \\sigma_{B}^{2} - 2\\rho_{r_{A} r_{B}}} $"
   ]
  },
  {
   "cell_type": "code",
   "execution_count": 69,
   "metadata": {},
   "outputs": [
    {
     "name": "stdout",
     "output_type": "stream",
     "text": [
      "0.125 0.875\n",
      "0.058125\n",
      "0.10625\n"
     ]
    }
   ],
   "source": [
    "#What weights on Stocks A and B, xA and xB, will give the minimum variance portfolio?\n",
    "from numpy import sqrt, square\n",
    "\n",
    "E_rA = 0.15 #Stock A Expected Return\n",
    "sA_vol = 0.10 #Stock A Volitility (Standard Deviation of Log Returns)\n",
    "sA_var = square(sA_vol) #Stock A Varriance (Varriance = Volitility Squared)\n",
    "\n",
    "E_rB = 0.10 #Stock B Expected Return\n",
    "sB_vol = 0.05 #Stock B Volitility (Standard Deviation of Log Returns)\n",
    "sB_var = square(sB_vol) #Stock B Varriance (Varriance = Volitility Squared)\n",
    "\n",
    "co_sA_sB = 0.25 #Correlation or co-varriance of stocks A & B\n",
    "\n",
    "xA = (sB_var - (sA_vol * sB_vol * co_sA_sB)) / ((sA_var + sB_var) - (2 * sA_vol * sB_vol * co_sA_sB)) #Weight of stock A \n",
    "xB = 1 - xA #Weight of stock B\n",
    "print(xA, xB)\n",
    "\n",
    "minimum_variance_portfolio = (xA * sA_var) + (xB * sB_var) + (2 * xA * xB * co_sA_sB)\n",
    "print(minimum_variance_portfolio)\n",
    "expected_portfolio_return = (xA * E_rA) + (xB * E_rB)\n",
    "print(expected_portfolio_return)"
   ]
  },
  {
   "cell_type": "markdown",
   "metadata": {},
   "source": [
    "##  Portfolio Optimization\n",
    "___\n",
    "\n",
    "[Lesson 20](https://classroom.udacity.com/nanodegrees/nd880/parts/9a3a9589-7bc6-4694-81e0-8c3cb1aea251)\n",
    "\n",
    "__Learn how to optimize portfolios to meet certain criteria and constraints. Get hands on experience in optimizing a portfolio with the cvxpy Python library.__\n",
    "\n",
    "1. Intro\n",
    "2. What is Optimization?\n",
    "3. Optimization with Constraints\n",
    "4. Two-Asset Portfolio Optimization\n",
    "5. Quiz: Portfolio Optimization with 2 Stocks\n",
    "6. Formulating Portfolio Optimization Problems\n",
    "7. cvxpy\n",
    "8. [L20 Exercise: cvxpy](lesson_notebooks/l20/m3l4_cvxpy_basic.ipynb)\n",
    "9. [L20 Exercise: cvxpy advanced optimization](lesson_notebooks/l20/m3l4_cvxpy_advanced.ipynb)\n",
    "10. Rebalancing a Portfolio\n",
    "11. Rebalancing Strategies\n",
    "12. Limitations of the Classical Approach\n",
    "13. Summary"
   ]
  },
  {
   "cell_type": "code",
   "execution_count": 1,
   "metadata": {},
   "outputs": [
    {
     "name": "stdout",
     "output_type": "stream",
     "text": [
      "var0[0] var0[1]\n",
      "Optimal value of x: 1.000000\n",
      "Optimal value of the objective: 1.000000\n"
     ]
    }
   ],
   "source": [
    "import cvxpy as cvx\n",
    "import numpy as np\n",
    "\n",
    "x, y = cvx.Variable(2)\n",
    "print(x, y)\n",
    "objective = cvx.Minimize((x - y)**2)\n",
    "constraints = [x + y == 1, x - y >= 1]\n",
    "problem = cvx.Problem(objective, constraints)\n",
    "result = problem.solve()\n",
    "\n",
    "print('Optimal value of x: {:.6f}'.format(x.value))\n",
    "print('Optimal value of the objective: {:.6f}'.format(problem.value))"
   ]
  },
  {
   "cell_type": "markdown",
   "metadata": {},
   "source": [
    "## Project 3: Smart Beta & Portfolio Optimization\n",
    "\n",
    "\n",
    "[Lesson 21](/notebooks/project_notebooks/p3/project_3_starter.ipynb)\n",
    "\n",
    "**Build a smart beta portfolio against an index and optimize a portfolio using quadratic programming.**\n"
   ]
  },
  {
   "cell_type": "markdown",
   "metadata": {},
   "source": [
    "## Factors\n",
    "\n",
    "[Lesson 22](https://classroom.udacity.com/nanodegrees/nd880/parts/9a3a9589-7bc6-4694-81e0-8c3cb1aea251/modules/1976c245-f4ec-42bf-9611-180753a3a4df/lessons/1425b655-9ad6-433d-8d33-4306426669c9/concepts/a3f988fd-0e18-4469-ad77-6fa6b322dc36)\n",
    "\n",
    "**In the next 7 lessons and project, learn about factor investing and alpha research. These lessons and the project were designed by Jonathan Larkin, equities trader and quant investor.**\n",
    "\n",
    "1. Intro to the Module\n",
    "2. Intro to the Lesson\n",
    "3. Example of a factor\n",
    "4. Quiz: Quiz: factor values and weights\n",
    "5. Standardizing a factor\n",
    "6. De-mean part 1\n",
    "7. De-mean part 2\n",
    "8. Rescale part 1\n",
    "9. Rescale Part 2\n",
    "10. Overview for standardizing a factor\n",
    "11. Quiz: Quiz: dollar neutral and leverage ratio\n",
    "12. Zipline Pipeline\n",
    "13. Zipline Coding Exercises"
   ]
  },
  {
   "cell_type": "code",
   "execution_count": 3,
   "metadata": {},
   "outputs": [
    {
     "name": "stdout",
     "output_type": "stream",
     "text": [
      "\n",
      "Mean ----\n",
      "0    5.666667\n",
      "dtype: float64\n",
      "\n",
      "De-meaned ----\n",
      "          0\n",
      "0 -3.666667\n",
      "1  6.333333\n",
      "2 -2.666667\n",
      "\n",
      "Sum of de-meaned ----\n",
      "0   -8.881784e-16\n",
      "dtype: float64\n",
      "\n",
      "Sum of absolute de-meaned ----\n",
      "0    12.666667\n",
      "dtype: float64\n",
      "\n",
      "Rescaled ----\n",
      "0    1.0\n",
      "dtype: float64\n"
     ]
    }
   ],
   "source": [
    "import pandas as pd\n",
    "from numpy import mean\n",
    "\n",
    "s1 = 2\n",
    "s2 = 12\n",
    "s3 = 3\n",
    "p = pd.DataFrame([s1,s2,s3])\n",
    "\n",
    "print('\\nMean ----')\n",
    "m = p.mean()\n",
    "print(m)\n",
    "\n",
    "print('\\nDe-meaned ----')\n",
    "dm = p.subtract(m)\n",
    "print(dm)\n",
    "\n",
    "print('\\nSum of de-meaned ----')\n",
    "sum_m = dm.sum()\n",
    "print(sum_m)\n",
    "\n",
    "print('\\nSum of absolute de-meaned ----')\n",
    "sum_dm = dm.abs().sum()\n",
    "print(sum_dm)\n",
    "\n",
    "print('\\nRescaled ----')\n",
    "rescaled = dm.abs().divide(sum_dm)\n",
    "print(rescaled.sum())"
   ]
  },
  {
   "cell_type": "markdown",
   "metadata": {},
   "source": [
    "## Factor Models and Types of Factors\n",
    "\n",
    "[Lesson 23](https://classroom.udacity.com/nanodegrees/nd880/parts/9a3a9589-7bc6-4694-81e0-8c3cb1aea251/modules/1976c245-f4ec-42bf-9611-180753a3a4df/lessons/8d431822-328a-4cc9-a5ab-3a1240b1acbc/concepts/403ac393-cdea-44bd-9b23-6928e588aa23)\n",
    "\n",
    "**Learn the theory of factor models, distinguish between alpha and risk factors, and get an overview of types of factors.**\n",
    "\n",
    "1. Intro to Lesson\n",
    "2. What is a Factor Model?\n",
    "3. Factor Returns as Latent Variables\n",
    "4. Terminology\n",
    "5. Factor Model Assumptions\n",
    "6. Covariance Matrix Using a Factor Model\n",
    "7. Factor Models in Quant Finance\n",
    "8. Risk Factors v. Alpha Factors\n",
    "9. Risk Factors v. Alpha Factors part 2\n",
    "10. Risk Factors v. Alpha Factors part 3\n",
    "11. How an alpha factor becomes a risk factor part 1\n",
    "12. How an alpha factor becomes a risk factor part 2\n",
    "13. Momentum or Reversal\n",
    "14. Price-Volume Factors\n",
    "15. Volume Factors\n",
    "16. Fundamentals\n",
    "17. Fundamental Ratios\n",
    "18. Event-Driven Factors\n",
    "19. Index Changes\n",
    "20. Pre and Post Event\n",
    "21. Analyst Ratings\n",
    "22. Alternative Data\n",
    "23. Sentiment Analysis on News and Social Media\n",
    "24. NLP used to enhance Fundamental Analysis\n",
    "25. Other Alternative Data\n",
    "26. Summary"
   ]
  },
  {
   "cell_type": "markdown",
   "metadata": {},
   "source": [
    "## Risk Factor Models\n",
    "\n",
    "[Lesson 24](https://classroom.udacity.com/nanodegrees/nd880/parts/9a3a9589-7bc6-4694-81e0-8c3cb1aea251/modules/1976c245-f4ec-42bf-9611-180753a3a4df/lessons/de470330-cbcf-401c-9b5e-e72129b2e34d/concepts/6356336f-2ea9-4a67-899d-f6d2a742233e)\n",
    "\n",
    "**Learn how to model portfolio risk using factors.**\n",
    "\n",
    "1. Intro\n",
    "2. install libraries\n",
    "3. Motivation for Risk Factor Models\n",
    "4. Historical Variance Exercise\n",
    "5. Factor Model of Asset Return\n",
    "6. Factor Model of Asset Return Exercise\n",
    "7. Factor Model of Portfolio Return\n",
    "8. Preview of Portfolio Variance Formula\n",
    "9. Factor Model of Portfolio Return Exercise\n",
    "10. Variance of one stock\n",
    "11. Taking constants out of Variance and Covariance (optional)\n",
    "12. Variance of 2 stocks part 1\n",
    "13. Variance of 2 stocks part 2\n",
    "14. Covariance Matrix of Assets Exercise\n",
    "15. Portfolio Variance using Factor Model\n",
    "16. Portfolio Variance Exercise\n",
    "17. Types of Risk Models\n",
    "18. Interlude"
   ]
  },
  {
   "cell_type": "markdown",
   "metadata": {},
   "source": [
    "## Time Series and Cross Sectional Risk Models\n",
    "\n",
    "[Lesson 25](https://classroom.udacity.com/nanodegrees/nd880/parts/9a3a9589-7bc6-4694-81e0-8c3cb1aea251/modules/1976c245-f4ec-42bf-9611-180753a3a4df/lessons/220338f7-85c1-499e-b228-71ae53b21410/concepts/7e374e22-a3c6-40fb-8e8a-f5e1571b83fb)\n",
    "\n",
    "**Learn about two important types of risk models: time series and cross-sectional risk models.**\n",
    "\n",
    "1. Time Series Model: Factor Variance\n",
    "2. Time Series Model: Factor Exposure\n",
    "3. Time Series Model: specific variance\n",
    "4. Time Series Risk Model\n",
    "5. Size\n",
    "6. SMB\n",
    "7. Value (HML)\n",
    "8. Fama French SMB and HML\n",
    "9. Fama French Risk Model\n",
    "10. Cross Sectional Model\n",
    "11. A different approach\n",
    "12. Categorical Factors\n",
    "13. Categorical Variable Estimation\n",
    "14. Cross Section: Specific Variance\n",
    "15. Fundamental Factors\n",
    "16. Summary"
   ]
  },
  {
   "cell_type": "markdown",
   "metadata": {},
   "source": [
    "## Risk Factor Models with PCA\n",
    "\n",
    "[Lesson 26](https://classroom.udacity.com/nanodegrees/nd880/parts/9a3a9589-7bc6-4694-81e0-8c3cb1aea251/modules/1976c245-f4ec-42bf-9611-180753a3a4df/lessons/eb063d38-d314-46bc-aeb5-12288aa5249c/concepts/b6542a6b-076a-4a04-ac6a-87807d96111a)\n",
    "\n",
    "**Learn about Principle Component Analysis and how it's used to build risk factor models.**\n",
    "\n",
    "1. Statistical Risk Model\n",
    "2. Vectors Two Ways\n",
    "3. Refresh Linear Algebra\n",
    "4. Bases as Languages\n",
    "5. Translating Between Bases\n",
    "6. The Core Idea\n",
    "7. PCA Exercise\n",
    "8. Writing it Down: Part 1\n",
    "9. Writing it Down: Part 2\n",
    "10. Writing it Down: Part 3\n",
    "11. Writing it Down: Part 4\n",
    "12. The Principal Components\n",
    "13. Explained Variance\n",
    "14. PCA Toy Problem\n",
    "15. PCA Coding Exercise\n",
    "16. PCA as a Factor Model\n",
    "17. PCA as a Factor Model: Part 2\n",
    "18. PCA as a Factor Model Coding Exercise\n",
    "19. Outro"
   ]
  },
  {
   "cell_type": "markdown",
   "metadata": {},
   "source": [
    "## Alpha Factors\n",
    "\n",
    "[Lesson 27]()\n",
    "\n",
    "**Learn about alpha generation and evaluation from a practitioner's perspective.**\n",
    "\n",
    "1. Intro: Efficient Market hypothesis and Arbitrage opportunities\n",
    "2. install libraries\n",
    "3. Alpha Factors versus Risk Factor Modeling\n",
    "4. Definition of key words\n",
    "5. Researching Alphas from Academic Papers\n",
    "6. Controlling for Risk within an Alpha Factor Part 1\n",
    "7. Controlling for Risk within an Alpha Factor Part 2\n",
    "8. [Sector Neutral Exercise](/notebooks/lesson_notebooks/L27/sector_neutral_solution.ipynb)\n",
    "9. Ranking Part 1\n",
    "10. Ranking Part 2\n",
    "11. Ranking in Zipline\n",
    "12. [Ranking exercise](/notebooks/lesson_notebooks/L27/rank_solution.ipynb)\n",
    "13. Z score\n",
    "14. Quiz: z-score quiz\n",
    "15. [z-score exercise](/notebooks/lesson_notebooks/L27/zscore_solution.ipynb)\n",
    "16. Smoothing\n",
    "17. Smoothing Quiz 1\n",
    "18. [Smoothing Exercise](/notebooks/lesson_notebooks/L27/smoothing_solution.ipynb)\n",
    "19. Factor Returns\n",
    "20. Factor returns quiz\n",
    "21. get_clean_factor_and_forward_returns\n",
    "22. [Factor and forward returns exercise](/notebooks/lesson_notebooks/L27/clean_forward_returns_solution.ipynb)\n",
    "23. Universe construction rule\n",
    "24. Return Denominator, Leverage, and Factor Returns\n",
    "25. Quiz: Making dollar neutral and leverage ratio equal to one\n",
    "26. [Factor returns coding exercise](/notebooks/lesson_notebooks/L27/factor_returns_solution.ipynb)\n",
    "27. Sharpe Ratio\n",
    "28. [Sharpe Ratio Coding Exercise](/notebooks/lesson_notebooks/L27/sharpe_ratio_solution.ipynb)\n",
    "29. Halfway There!\n",
    "30. Ranked Information Coefficient (Rank IC) : Part 1\n",
    "31. Ranked Information Coefficient (Rank IC) : Part 2\n",
    "32. [Quiz: Quiz factor_information_coefficient](https://quantopian.github.io/alphalens/alphalens.html?highlight=factor_information_coefficient#alphalens.performance.factor_information_coefficient)\n",
    "33. Rank IC coding exercise\n",
    "34. The Fundamental Law of Active Management: Part 1\n",
    "35. The Fundamental Law of Active Management: Part 2\n",
    "36. Real World Constraints: Liquidity\n",
    "37. Real World Constraints: Transaction Costs\n",
    "38. Turnover as a Proxy for Real World Constraints\n",
    "39. Factor Rank Autocorrelation (Turnover)\n",
    "    - $ corr\\left ( \\alpha_{t-1}, \\alpha_{t} \\right ) $\n",
    "40. [Turnover Exercise](/notebooks/lesson_notebooks/L27/turnover_solution.ipynb)\n",
    "41. Quantile Analysis Part 1\n",
    "42. Quantile Analysis Part 2\n",
    "43. mean returns by quantile quiz\n",
    "44. [Quantile analysis exercise](/notebooks/lesson_notebooks/L27/quantiles_solution.ipynb)\n",
    "45. Quantiles: Academic Research vs. Practitioners\n",
    "46. Transfer Coefficient\n",
    "47. Transfer Coefficient Coding Exercise\n",
    "48. It’s all Relative\n",
    "49. Conditional Factors\n",
    "50. Summary\n",
    "51. Interlude: Reading Academic Research Papers, Part 1\n",
    "52. Interlude: Reading Academic Research Papers, Part 2\n",
    "53. Interlude: Reading Academic Res"
   ]
  },
  {
   "cell_type": "markdown",
   "metadata": {},
   "source": [
    "## Alpha Factor Research Methods\n",
    "\n",
    "[Lesson 28](https://classroom.udacity.com/nanodegrees/nd880/parts/9a3a9589-7bc6-4694-81e0-8c3cb1aea251/modules/1976c245-f4ec-42bf-9611-180753a3a4df/lessons/7b84611e-c33c-4399-9445-0dbe370fee57/concepts/699638c1-5567-42bb-9161-0afe90884dd9)\n",
    "\n",
    "**Learn about alpha research from a practitioner's perspective.**\n",
    "\n",
    "1. Case Studies Intro\n",
    "2. install libraries\n",
    "3. Overnight Returns Abstract\n",
    "4. Overnight Returns Possible Alpha Factors\n",
    "5. Overnight Returns Data, Universe, Methods\n",
    "6. Overnight Returns: Methods: Quantile Analysis\n",
    "7. [Overnight Returns exercise](/notebooks/lesson_notebooks/L28/overnight_returns_solution.ipynb)\n",
    "8. Winners and Losers in Momentum Investing\n",
    "9. Winners and Losers: Accelerated and Decelerated Gains and Losses\n",
    "10. Winners and Losers: approximating curves with polynomials\n",
    "11. Quiz: Winners and Losers Content Quiz\n",
    "12. Winners and Losers: Creating a joint factor\n",
    "13. [Winners and Losers in Momentum Exercise](/notebooks/lesson_notebooks/L28/regression_against_time_solution.ipynb)\n",
    "14. Skewness and Momentum: Attentional Bias\n",
    "15. Skewness and Momentum: Defining Skew\n",
    "16. Skewness and Momentum: Momentum Enhanced or weakened by Skew\n",
    "17. Skewness and Momentum: Conditional Factor\n",
    "18. iVol: Value and Idiosyncratic volatility Overview\n",
    "19. iVol: Arbitrage and Efficient Pricing of Stocks\n",
    "20. iVol: Arbitrage Risk\n",
    "21. iVol: Idiosyncratic Volatility\n",
    "22. iVol: Value, Fundamental or Discretionary Investing\n",
    "23. iVOL: Quantamental Investing\n",
    "24. iVol: Joint Factor: Volatility Enhanced Price Earnings Ratio\n",
    "25. iVol: Generalizing the volatility Factor\n",
    "26. Summary\n",
    "27. Interlude\n"
   ]
  },
  {
   "cell_type": "markdown",
   "metadata": {},
   "source": [
    "## Advanced Portfolio Optimization\n",
    "\n",
    "[Lesson 29](https://classroom.udacity.com/nanodegrees/nd880/parts/9a3a9589-7bc6-4694-81e0-8c3cb1aea251/modules/1976c245-f4ec-42bf-9611-180753a3a4df/lessons/49dfb769-aafb-4d35-b18f-5bd856e33527/concepts/f65e74c6-562d-49f5-aa65-936a5f93bc42)\n",
    "\n",
    "**Learn about portfolio optimization using alpha factors and risk factor models.**\n",
    "\n",
    "1. Intro\n",
    "2. Setting Up the Problem: Alphas\n",
    "3. Setting Up the Problem: Risk\n",
    "4. Regularization\n",
    "5. Standard Constraints\n",
    "6. Leverage Constraint\n",
    "7. Factor Exposure and Position Constraints\n",
    "8. Alternative Ways of Setting Up the Problem\n",
    "9. Estimation Error\n",
    "10. Infeasible Problems\n",
    "11. Transaction Costs\n",
    "12. Will the Portfolios Be Different?\n",
    "13. Path Dependency\n",
    "14. What Is Optimization Doing to Our Alphas?\n",
    "15. Outro\n",
    "16. Interlude\n",
    "17. Feedback"
   ]
  },
  {
   "cell_type": "markdown",
   "metadata": {},
   "source": [
    "## Project 4: Alpha Research and Factor Modeling\n",
    "\n",
    "[Project 4](/notebooks/project_notebooks/p4/project_4_starter.ipynb)\n",
    "\n",
    "\n",
    "**Research and implement alpha factors, build a risk factor model. Use alpha factors and risk factors to optimize a portfolio.**"
   ]
  },
  {
   "cell_type": "markdown",
   "metadata": {},
   "source": [
    "# End of Term 1"
   ]
  },
  {
   "cell_type": "markdown",
   "metadata": {},
   "source": [
    "# Useful Information"
   ]
  },
  {
   "cell_type": "markdown",
   "metadata": {},
   "source": [
    "## Reading & Reference\n",
    "\n",
    "- [Forecasting: Principles and Practice](https://otexts.org/fpp2/)\n",
    "- [Calculating Covariance & Correlation](http://ci.columbia.edu/ci/premba_test/c0331/s7/s7_5.html)\n",
    "- [Do Stock Prices Fully Reflect Information in Accruals and Cash Flows about Future Earnings? -- Richard Sloan](http://econ.au.dk/fileadmin/Economics_Business/Education/Summer_University_2012/6308_Advanced_Financial_Accounting/Advanced_Financial_Accounting/2/Sloan_1996_TAR.pdf)\n",
    "\n",
    "\n",
    "### Lesson 28 Research Papers\n",
    "\n",
    "- [Overnight Returns and Firm-Specific Investor Sentiment](https://papers.ssrn.com/sol3/papers.cfm?abstract_id=2554010)\n",
    "- [The Formation Process of Winners and Losers in Momentum Investing](https://papers.ssrn.com/sol3/papers.cfm?abstract_id=2610571)\n",
    "- [Expected Skewness and Momentum](https://papers.ssrn.com/sol3/papers.cfm?abstract_id=2600014)\n",
    "- [Arbitrage Asymmetry and the Idiosyncratic Volatility Puzzle](https://papers.ssrn.com/sol3/papers.cfm?abstract_id=2155491)\n",
    "\n",
    "### Data Resources\n",
    "\n",
    "- [Center for Research in Security Prices (CRSP)](http://www.crsp.com/)"
   ]
  },
  {
   "cell_type": "markdown",
   "metadata": {},
   "source": [
    "# Code"
   ]
  },
  {
   "cell_type": "markdown",
   "metadata": {},
   "source": [
    "## Code Libraries\n",
    "___\n",
    "\n",
    "### [Zipine](http://www.zipline.io/)\n",
    "\n",
    "- [zipline.pipeline.factors.basic](https://www.zipline.io/_modules/zipline/pipeline/factors/basic.html)\n",
    "- [zipline.pipeline.factors.Returns](https://www.zipline.io/_modules/zipline/pipeline/factors/basic.html#Returns)\n",
    "- [zipline.pipeline.CustomFactor](https://www.zipline.io/_modules/zipline/pipeline/factors/factor.html#CustomFactor)\n",
    "- [zipline.pipeline.factors.Factor](https://www.zipline.io/_modules/zipline/pipeline/factors/factor.html#Factor)\n",
    "\n",
    "### [Alphalens](http://quantopian.github.io/alphalens/)\n",
    "\n",
    "- [alphalens.performance.mean_return_by_quantile](https://quantopian.github.io/alphalens/alphalens.html#alphalens.performance.mean_return_by_quantile)\n",
    "\n",
    "### [Pyfolio](https://quantopian.github.io/pyfolio/)\n",
    "\n",
    "- []()\n"
   ]
  },
  {
   "cell_type": "markdown",
   "metadata": {},
   "source": [
    "## Tutorials & Instruction\n",
    "\n",
    "- [Using Mulitindex DataFram](https://youtu.be/tcRGa2soc-c)"
   ]
  },
  {
   "cell_type": "markdown",
   "metadata": {},
   "source": [
    "## Hacking"
   ]
  },
  {
   "cell_type": "markdown",
   "metadata": {},
   "source": [
    "### ⇧H: show keyboard shortcuts"
   ]
  },
  {
   "cell_type": "code",
   "execution_count": 4,
   "metadata": {},
   "outputs": [
    {
     "name": "stdout",
     "output_type": "stream",
     "text": [
      "31.968\n"
     ]
    }
   ],
   "source": [
    "a = 5 * 4000\n",
    "b = 4 * 3000\n",
    "ab = a+b\n",
    "e = 0.001\n",
    "\n",
    "nav = (ab-(ab*e))/1000\n",
    "print(nav)"
   ]
  },
  {
   "cell_type": "code",
   "execution_count": 8,
   "metadata": {},
   "outputs": [
    {
     "name": "stdout",
     "output_type": "stream",
     "text": [
      "0.045000000000000005\n",
      "0.045500000000000006\n"
     ]
    }
   ],
   "source": [
    "e = .9*.05\n",
    "print(e)\n",
    "c = .1*.005\n",
    "print(e+c)"
   ]
  },
  {
   "cell_type": "code",
   "execution_count": 26,
   "metadata": {},
   "outputs": [
    {
     "data": {
      "text/plain": [
       "[1, 3, 5, 7, 9]"
      ]
     },
     "execution_count": 26,
     "metadata": {},
     "output_type": "execute_result"
    }
   ],
   "source": [
    "t = [1, 2, 3, 4, 5, 6, 7, 8, 9, 10]\n",
    "t[::2]"
   ]
  },
  {
   "cell_type": "code",
   "execution_count": 65,
   "metadata": {},
   "outputs": [
    {
     "name": "stdout",
     "output_type": "stream",
     "text": [
      "[10, 9, 8, 7, 6, 5, 4, 3, 2, 1, 0]\n",
      "4\n",
      "[10, 9, 8, 7]\n",
      "6\n",
      "[8, 7, 6, 5]\n",
      "8\n",
      "[6, 5, 4, 3]\n",
      "10\n",
      "[4, 3, 2, 1]\n"
     ]
    }
   ],
   "source": [
    "forw = [i for i in range(11)]\n",
    "lst = forw[::-1]\n",
    "print(lst)\n",
    "shift_size = 2\n",
    "chunk_size = 4\n",
    "\n",
    "\n",
    "for i in range(4, len(lst), 2):\n",
    "    print(i)\n",
    "    print(lst[i-4:i])\n"
   ]
  },
  {
   "cell_type": "code",
   "execution_count": 10,
   "metadata": {},
   "outputs": [
    {
     "name": "stdout",
     "output_type": "stream",
     "text": [
      "Hi Bob there!\n"
     ]
    }
   ],
   "source": [
    "# The get() method on dicts\n",
    "# and its \"default\" argument\n",
    "\n",
    "name_for_userid = {\n",
    "    382: \"Alice\",\n",
    "    590: \"Bob\",\n",
    "    951: \"Dilbert\",\n",
    "}\n",
    "\n",
    "def greeting(userid):\n",
    "    return f\"Hi {name_for_userid.get(userid)} there!\"\n",
    "\n",
    "print(greeting(590))"
   ]
  },
  {
   "cell_type": "code",
   "execution_count": null,
   "metadata": {},
   "outputs": [],
   "source": []
  }
 ],
 "metadata": {
  "kernelspec": {
   "display_name": "Python 3",
   "language": "python",
   "name": "python3"
  },
  "language_info": {
   "codemirror_mode": {
    "name": "ipython",
    "version": 3
   },
   "file_extension": ".py",
   "mimetype": "text/x-python",
   "name": "python",
   "nbconvert_exporter": "python",
   "pygments_lexer": "ipython3",
   "version": "3.6.8"
  },
  "toc": {
   "base_numbering": "1",
   "nav_menu": {
    "height": "295px",
    "width": "480px"
   },
   "number_sections": true,
   "sideBar": true,
   "skip_h1_title": false,
   "title_cell": "Table of Contents",
   "title_sidebar": "Contents",
   "toc_cell": true,
   "toc_position": {
    "height": "calc(100% - 180px)",
    "left": "10px",
    "top": "150px",
    "width": "384px"
   },
   "toc_section_display": true,
   "toc_window_display": true
  }
 },
 "nbformat": 4,
 "nbformat_minor": 2
}
