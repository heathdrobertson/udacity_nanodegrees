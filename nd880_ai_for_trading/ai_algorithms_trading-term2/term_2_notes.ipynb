{
 "cells": [
  {
   "cell_type": "markdown",
   "metadata": {
    "slideshow": {
     "slide_type": "slide"
    },
    "toc": true
   },
   "source": [
    "<h1>Table of Contents<span class=\"tocSkip\"></span></h1>\n",
    "<div class=\"toc\"><ul class=\"toc-item\"><li><span><a href=\"#Term-2:-AI-Algorithms-in-Trading\" data-toc-modified-id=\"Term-2:-AI-Algorithms-in-Trading-1\"><span class=\"toc-item-num\">1&nbsp;&nbsp;</span>Term 2: AI Algorithms in Trading</a></span><ul class=\"toc-item\"><li><span><a href=\"#Lesson-1---Welcome-to-Term-2!\" data-toc-modified-id=\"Lesson-1---Welcome-to-Term-2!-1.1\"><span class=\"toc-item-num\">1.1&nbsp;&nbsp;</span>Lesson 1 - Welcome to Term 2!</a></span></li><li><span><a href=\"#Lesson-2---Intro-to-Natural-Language-Processing\" data-toc-modified-id=\"Lesson-2---Intro-to-Natural-Language-Processing-1.2\"><span class=\"toc-item-num\">1.2&nbsp;&nbsp;</span>Lesson 2 - Intro to Natural Language Processing</a></span></li><li><span><a href=\"#Lesson-3-Text-Processing\" data-toc-modified-id=\"Lesson-3-Text-Processing-1.3\"><span class=\"toc-item-num\">1.3&nbsp;&nbsp;</span>Lesson 3 Text Processing</a></span></li><li><span><a href=\"#Lesson-4---Feature-Extraction\" data-toc-modified-id=\"Lesson-4---Feature-Extraction-1.4\"><span class=\"toc-item-num\">1.4&nbsp;&nbsp;</span>Lesson 4 - Feature Extraction</a></span></li><li><span><a href=\"#Lesson-5---Financial-Statements\" data-toc-modified-id=\"Lesson-5---Financial-Statements-1.5\"><span class=\"toc-item-num\">1.5&nbsp;&nbsp;</span>Lesson 5 - Financial Statements</a></span><ul class=\"toc-item\"><li><span><a href=\"#RegEx-Cheatsheet\" data-toc-modified-id=\"RegEx-Cheatsheet-1.5.1\"><span class=\"toc-item-num\">1.5.1&nbsp;&nbsp;</span>RegEx Cheatsheet</a></span></li></ul></li><li><span><a href=\"#Lesson-6---Basic-NLP-Analysis\" data-toc-modified-id=\"Lesson-6---Basic-NLP-Analysis-1.6\"><span class=\"toc-item-num\">1.6&nbsp;&nbsp;</span>Lesson 6 - Basic NLP Analysis</a></span></li><li><span><a href=\"#Project-5:-NLP-on-Financial-Statements\" data-toc-modified-id=\"Project-5:-NLP-on-Financial-Statements-1.7\"><span class=\"toc-item-num\">1.7&nbsp;&nbsp;</span>Project 5: NLP on Financial Statements</a></span></li><li><span><a href=\"#Lesson-8---Introduction-to-Neural-Networks\" data-toc-modified-id=\"Lesson-8---Introduction-to-Neural-Networks-1.8\"><span class=\"toc-item-num\">1.8&nbsp;&nbsp;</span>Lesson 8 - Introduction to Neural Networks</a></span></li><li><span><a href=\"#Lesson-9---Training-Neural-Networks\" data-toc-modified-id=\"Lesson-9---Training-Neural-Networks-1.9\"><span class=\"toc-item-num\">1.9&nbsp;&nbsp;</span>Lesson 9 - Training Neural Networks</a></span></li><li><span><a href=\"#Lesson-10---Deep-Learning-with-PyTorch\" data-toc-modified-id=\"Lesson-10---Deep-Learning-with-PyTorch-1.10\"><span class=\"toc-item-num\">1.10&nbsp;&nbsp;</span>Lesson 10 - Deep Learning with PyTorch</a></span></li><li><span><a href=\"#Lesson-11---Recurrent-Neural-Networks\" data-toc-modified-id=\"Lesson-11---Recurrent-Neural-Networks-1.11\"><span class=\"toc-item-num\">1.11&nbsp;&nbsp;</span>Lesson 11 - Recurrent Neural Networks</a></span><ul class=\"toc-item\"><li><span><a href=\"#Recurrent-Layers\" data-toc-modified-id=\"Recurrent-Layers-1.11.1\"><span class=\"toc-item-num\">1.11.1&nbsp;&nbsp;</span>Recurrent Layers</a></span></li></ul></li><li><span><a href=\"#Lesson-12---Embeddings-&amp;-Word2Vec\" data-toc-modified-id=\"Lesson-12---Embeddings-&amp;-Word2Vec-1.12\"><span class=\"toc-item-num\">1.12&nbsp;&nbsp;</span>Lesson 12 - Embeddings &amp; Word2Vec</a></span><ul class=\"toc-item\"><li><span><a href=\"#Supporting-Materials\" data-toc-modified-id=\"Supporting-Materials-1.12.1\"><span class=\"toc-item-num\">1.12.1&nbsp;&nbsp;</span>Supporting Materials</a></span></li></ul></li><li><span><a href=\"#Lesson-13---Sentiment-Prediction-RNN\" data-toc-modified-id=\"Lesson-13---Sentiment-Prediction-RNN-1.13\"><span class=\"toc-item-num\">1.13&nbsp;&nbsp;</span>Lesson 13 - Sentiment Prediction RNN</a></span></li><li><span><a href=\"#Project-6---Sentiment-Analysis-with-Neural-Networks\" data-toc-modified-id=\"Project-6---Sentiment-Analysis-with-Neural-Networks-1.14\"><span class=\"toc-item-num\">1.14&nbsp;&nbsp;</span>Project 6 - Sentiment Analysis with Neural Networks</a></span></li><li><span><a href=\"#Lesson-15---Overview\" data-toc-modified-id=\"Lesson-15---Overview-1.15\"><span class=\"toc-item-num\">1.15&nbsp;&nbsp;</span>Lesson 15 - Overview</a></span></li><li><span><a href=\"#Lesson-16---Decision-Trees\" data-toc-modified-id=\"Lesson-16---Decision-Trees-1.16\"><span class=\"toc-item-num\">1.16&nbsp;&nbsp;</span>Lesson 16 - Decision Trees</a></span></li><li><span><a href=\"#Lesson-17---Model-Testing-and-Evaluation\" data-toc-modified-id=\"Lesson-17---Model-Testing-and-Evaluation-1.17\"><span class=\"toc-item-num\">1.17&nbsp;&nbsp;</span>Lesson 17 - Model Testing and Evaluation</a></span></li><li><span><a href=\"#Lesson-18---Random-Forests\" data-toc-modified-id=\"Lesson-18---Random-Forests-1.18\"><span class=\"toc-item-num\">1.18&nbsp;&nbsp;</span>Lesson 18 - Random Forests</a></span></li><li><span><a href=\"#Lesson-19---Feature-Engineering\" data-toc-modified-id=\"Lesson-19---Feature-Engineering-1.19\"><span class=\"toc-item-num\">1.19&nbsp;&nbsp;</span>Lesson 19 - Feature Engineering</a></span></li><li><span><a href=\"#Lesson-20---Overlapping-Labels\" data-toc-modified-id=\"Lesson-20---Overlapping-Labels-1.20\"><span class=\"toc-item-num\">1.20&nbsp;&nbsp;</span>Lesson 20 - Overlapping Labels</a></span></li><li><span><a href=\"#Lesson-21---Feature-Importance\" data-toc-modified-id=\"Lesson-21---Feature-Importance-1.21\"><span class=\"toc-item-num\">1.21&nbsp;&nbsp;</span>Lesson 21 - Feature Importance</a></span></li><li><span><a href=\"#Project-7---Combine-Signals-for-Enhanced-Alpha\" data-toc-modified-id=\"Project-7---Combine-Signals-for-Enhanced-Alpha-1.22\"><span class=\"toc-item-num\">1.22&nbsp;&nbsp;</span>Project 7 - Combine Signals for Enhanced Alpha</a></span><ul class=\"toc-item\"><li><span><a href=\"#Supporting-Materials\" data-toc-modified-id=\"Supporting-Materials-1.22.1\"><span class=\"toc-item-num\">1.22.1&nbsp;&nbsp;</span>Supporting Materials</a></span></li></ul></li><li><span><a href=\"#Strengthen-Your-Online-Presence-Using-LinkedIn\" data-toc-modified-id=\"Strengthen-Your-Online-Presence-Using-LinkedIn-1.23\"><span class=\"toc-item-num\">1.23&nbsp;&nbsp;</span>Strengthen Your Online Presence Using LinkedIn</a></span></li><li><span><a href=\"#Optimize-Your-GitHub-Profile\" data-toc-modified-id=\"Optimize-Your-GitHub-Profile-1.24\"><span class=\"toc-item-num\">1.24&nbsp;&nbsp;</span>Optimize Your GitHub Profile</a></span></li><li><span><a href=\"#Lesson-25---Intro-to-Backtesting\" data-toc-modified-id=\"Lesson-25---Intro-to-Backtesting-1.25\"><span class=\"toc-item-num\">1.25&nbsp;&nbsp;</span>Lesson 25 - Intro to Backtesting</a></span><ul class=\"toc-item\"><li><span><a href=\"#Supporting-Materials\" data-toc-modified-id=\"Supporting-Materials-1.25.1\"><span class=\"toc-item-num\">1.25.1&nbsp;&nbsp;</span>Supporting Materials</a></span></li></ul></li><li><span><a href=\"#Lesson-26---Optimization-with-Transaction-Costs\" data-toc-modified-id=\"Lesson-26---Optimization-with-Transaction-Costs-1.26\"><span class=\"toc-item-num\">1.26&nbsp;&nbsp;</span>Lesson 26 - Optimization with Transaction Costs</a></span></li><li><span><a href=\"#Lesson-27---Attribution\" data-toc-modified-id=\"Lesson-27---Attribution-1.27\"><span class=\"toc-item-num\">1.27&nbsp;&nbsp;</span>Lesson 27 - Attribution</a></span></li><li><span><a href=\"#Project-8---Backtesting\" data-toc-modified-id=\"Project-8---Backtesting-1.28\"><span class=\"toc-item-num\">1.28&nbsp;&nbsp;</span>Project 8 - Backtesting</a></span></li></ul></li><li><span><a href=\"#Resources-&amp;-Links\" data-toc-modified-id=\"Resources-&amp;-Links-2\"><span class=\"toc-item-num\">2&nbsp;&nbsp;</span>Resources &amp; Links</a></span></li></ul></div>"
   ]
  },
  {
   "cell_type": "markdown",
   "metadata": {},
   "source": [
    "# Term 2: AI Algorithms in Trading \n",
    "**Welcome to Term 2! Say hello to your instructors and get an overview of the program.**\n",
    "\n",
    "__Tools__\n",
    "\n",
    "- [LaTex Equation Editor](https://www.codecogs.com/latex/eqneditor.php)\n",
    "- [RegEx Testing](https://www.regextester.com/95875)\n",
    "- [PyTourch Docs](https://pytorch.org/docs/stable/index.html)\n",
    "- [Codehappens](codehappens_here.ipynb)\n",
    "- [Formulas (Screenshots)](https://photos.app.goo.gl/N8bkxPQvavkgvAxL7)\n",
    "\n",
    "\n",
    "__Reference__\n",
    "\n",
    "- [Natural Language Toolkit (NLTK)](https://www.nltk.org/)\n",
    "- [Beautiful Soup](https://www.crummy.com/software/BeautifulSoup/bs4/doc/)\n",
    "- [Regular Expresssions](https://docs.python.org/3.6/library/re.html#module-re)\n",
    "\n",
    "__Projects__\n",
    "\n",
    "- [P5 NLP on Financial Statements](/notebooks/project_notebooks/p5/project_5_starter.ipynb)\n",
    "- [P6 Sentiment Analysis with Neural Networks](/notebooks/project_notebooks/p6/project_6_starter.ipynb)\n",
    "- [Project 7: Combine Signals for Enhanced Alpha](/notebooks/project_notebooks/p7/project_7_starter.ipynb)"
   ]
  },
  {
   "cell_type": "code",
   "execution_count": 1,
   "metadata": {},
   "outputs": [],
   "source": [
    "from toilethill import auto_notebook_links"
   ]
  },
  {
   "cell_type": "markdown",
   "metadata": {},
   "source": [
    "## Lesson 1 - Welcome to Term 2!\n",
    "**Say hello to your instructors and get an overview of the program.**"
   ]
  },
  {
   "cell_type": "markdown",
   "metadata": {},
   "source": [
    "## Lesson 2 - Intro to Natural Language Processing\n",
    "**Learn how to build a Natural Language Processing pipeline.**"
   ]
  },
  {
   "cell_type": "markdown",
   "metadata": {},
   "source": [
    "## Lesson 3 Text Processing\n",
    "**Learn to prepare text obtained from different sources for further processing, by cleaning, normalizing and splitting it into individual words or tokens.**\n",
    "\n",
    "--- \n"
   ]
  },
  {
   "cell_type": "code",
   "execution_count": 2,
   "metadata": {},
   "outputs": [
    {
     "data": {
      "text/markdown": [
       "### __Text Processing Code Examples__"
      ],
      "text/plain": [
       "<IPython.core.display.Markdown object>"
      ]
     },
     "metadata": {},
     "output_type": "display_data"
    },
    {
     "data": {
      "text/html": [
       "<div style=\"background-color:#f7f7f7;padding:10px;border:1px solid #cfcfcf;     border-radius:4px;line-height:1.2em;\"><ul><li><a href=\"lesson_notebooks/l3/code_examples/text_processing-zh.ipynb\" target=\"_blank\">Text Processing-Zh</a></li><li><a href=\"lesson_notebooks/l3/code_examples/text_processing.ipynb\" target=\"_blank\">Text Processing</a></li></ul></div>"
      ],
      "text/plain": [
       "<IPython.core.display.HTML object>"
      ]
     },
     "metadata": {},
     "output_type": "display_data"
    }
   ],
   "source": [
    "auto_notebook_links('lesson_notebooks/l3/code_examples/', \"__Text Processing Code Examples__\")"
   ]
  },
  {
   "cell_type": "code",
   "execution_count": 3,
   "metadata": {},
   "outputs": [
    {
     "data": {
      "text/markdown": [
       "### __Processing Tweets__"
      ],
      "text/plain": [
       "<IPython.core.display.Markdown object>"
      ]
     },
     "metadata": {},
     "output_type": "display_data"
    },
    {
     "data": {
      "text/html": [
       "<div style=\"background-color:#f7f7f7;padding:10px;border:1px solid #cfcfcf;     border-radius:4px;line-height:1.2em;\"><ul><li><a href=\"lesson_notebooks/l3/process_tweets/process_tweets.ipynb\" target=\"_blank\">Process Tweets</a> :             <a href=\"lesson_notebooks/l3/process_tweets/process_tweets_solution.ipynb\" target=\"_blank\">Solution</a></li></ul></div>"
      ],
      "text/plain": [
       "<IPython.core.display.HTML object>"
      ]
     },
     "metadata": {},
     "output_type": "display_data"
    }
   ],
   "source": [
    "auto_notebook_links('lesson_notebooks/l3/process_tweets/', \"__Processing Tweets__\")"
   ]
  },
  {
   "cell_type": "markdown",
   "metadata": {},
   "source": [
    "## Lesson 4 - Feature Extraction\n",
    "**Transform text using methods like Bag-of-Words, TF-IDF, Word2Vec and GloVE to extract features that you can use in machine learning models.**"
   ]
  },
  {
   "cell_type": "markdown",
   "metadata": {},
   "source": [
    "## Lesson 5 - Financial Statements\n",
    "**Learn how to scrape data from financial documents using Regular Expressions and BeautifulSoup**\n",
    "\n",
    "[Code](codehappens_here.ipynb#re,-BeautifulSoup,-&-NLTK)\n",
    "\n",
    "\n",
    "\n",
    "### RegEx Cheatsheet\n",
    "\n",
    "__[Python RegEx Module - (re)](https://docs.python.org/3.6/library/re.html#module-re)__\n",
    "\n",
    "__[JS RegExp Reference](https://www.w3schools.com/jsref/jsref_obj_regexp.asp)__\n",
    "\n",
    "**Metacharacters**\n",
    "* use a single `|` to say 'or'\n",
    "* `[ ]` - says any of the characters inside the brackets.\n",
    "* `( )` - a marked subexpression also called a block or capturing group.\n",
    "* `?` make the preceding token optional\n",
    "* `.+` - matches all characters to the end of the line\n",
    "* `*` - matches zero or more occurrences of the regular expression.\n",
    "* use parentheses to group characters as using the `|` alone divide the regex into only a left and right side.\n",
    "* `^` matches only if it's at the beginning of a string\n",
    "* `$` matches only if it's the end of a string\n",
    "* `+` is greedy - it won't just get the next token. it will keep searching until it reaches the last one.\n",
    "* `+?` is not greedy - it will just search to the next occurrence of a token.\n",
    "* `{3}` - would match 3 occurrences of the preceding token\n",
    "* `{3,4}` - could match the range of 3 to 4 characters of the preceding token\n",
    "\n",
    "**Flags**\n",
    "* `\\w` - matches any word character\n",
    "* `\\W` = used to find a non-word character\n",
    "* `\\r` = carriage return\n",
    "* `\\n` = new lines\n",
    "* `\\s` = space characters\n",
    "* `\\S` = used to find a non-whitespace character\n",
    "* `\\d` = digits 0-9\n",
    "* `\\D` = used to find a non-digit character\n",
    "* `\\b` = used to find a match at the beginning or end of a word\n",
    "* `\\B` = used to find a match not at the beginning or end of a word\n",
    "\n",
    "**Lookahead and Lookbehind**\n",
    "* `(?=foo)`  = Lookahead.\n",
    "    * Asserts that what immediately follows the current position in the string is `foo`.\n",
    "* `(?<=foo)`  = Lookbehind.\n",
    "    * Asserts that what immediately precedes the current position in the string is `foo`.\n",
    "* `(?!foo)`  = Negative Lookahead\n",
    "    * \tAsserts that what immediately follows the current position in the string is not `foo`.\n",
    "* `(?<!foo)`  = Negative Lookbehind. \n",
    "    * Asserts that what immediately precedes the current position in the string is not `foo`."
   ]
  },
  {
   "cell_type": "code",
   "execution_count": 4,
   "metadata": {},
   "outputs": [
    {
     "data": {
      "text/markdown": [
       "### __RegEx Code Exercises__"
      ],
      "text/plain": [
       "<IPython.core.display.Markdown object>"
      ]
     },
     "metadata": {},
     "output_type": "display_data"
    },
    {
     "data": {
      "text/html": [
       "<div style=\"background-color:#f7f7f7;padding:10px;border:1px solid #cfcfcf;     border-radius:4px;line-height:1.2em;\"><ul><li><a href=\"lesson_notebooks/l5/regex/applying_regexes_10ks.ipynb\" target=\"_blank\">Applying Regexes 10Ks</a> :             <a href=\"lesson_notebooks/l5/regex/applying_regexes_10ks_solution.ipynb\" target=\"_blank\">Solution</a></li><li><a href=\"lesson_notebooks/l5/regex/character_sets.ipynb\" target=\"_blank\">Character Sets</a> :             <a href=\"lesson_notebooks/l5/regex/character_sets_solution.ipynb\" target=\"_blank\">Solution</a></li><li><a href=\"lesson_notebooks/l5/regex/finding_complicated_patterns.ipynb\" target=\"_blank\">Finding Complicated Patterns</a> :             <a href=\"lesson_notebooks/l5/regex/finding_complicated_patterns_solution.ipynb\" target=\"_blank\">Solution</a></li><li><a href=\"lesson_notebooks/l5/regex/finding_metacharacters.ipynb\" target=\"_blank\">Finding Metacharacters</a> :             <a href=\"lesson_notebooks/l5/regex/finding_metacharacters_solution.ipynb\" target=\"_blank\">Solution</a></li><li><a href=\"lesson_notebooks/l5/regex/finding_words.ipynb\" target=\"_blank\">Finding Words</a> :             <a href=\"lesson_notebooks/l5/regex/finding_words_solution.ipynb\" target=\"_blank\">Solution</a></li><li><a href=\"lesson_notebooks/l5/regex/raw_strings.ipynb\" target=\"_blank\">Raw Strings</a></li><li><a href=\"lesson_notebooks/l5/regex/simple_metacharacters.ipynb\" target=\"_blank\">Simple Metacharacters</a></li><li><a href=\"lesson_notebooks/l5/regex/simple_patterns.ipynb\" target=\"_blank\">Simple Patterns</a> :             <a href=\"lesson_notebooks/l5/regex/simple_patterns_solution.ipynb\" target=\"_blank\">Solution</a></li><li><a href=\"lesson_notebooks/l5/regex/substitutions_and_flags.ipynb\" target=\"_blank\">Substitutions And Flags</a></li><li><a href=\"lesson_notebooks/l5/regex/word_boundaries.ipynb\" target=\"_blank\">Word Boundaries</a> :             <a href=\"lesson_notebooks/l5/regex/word_boundaries_solution.ipynb\" target=\"_blank\">Solution</a></li></ul></div>"
      ],
      "text/plain": [
       "<IPython.core.display.HTML object>"
      ]
     },
     "metadata": {},
     "output_type": "display_data"
    }
   ],
   "source": [
    "auto_notebook_links('lesson_notebooks/l5/regex/', \"__RegEx Code Exercises__\")"
   ]
  },
  {
   "cell_type": "code",
   "execution_count": 5,
   "metadata": {},
   "outputs": [
    {
     "data": {
      "text/markdown": [
       "### __BeautifulSoup Code Exercises__"
      ],
      "text/plain": [
       "<IPython.core.display.Markdown object>"
      ]
     },
     "metadata": {},
     "output_type": "display_data"
    },
    {
     "data": {
      "text/html": [
       "<div style=\"background-color:#f7f7f7;padding:10px;border:1px solid #cfcfcf;     border-radius:4px;line-height:1.2em;\"><ul><li><a href=\"lesson_notebooks/l5/beautifulsoup/children_tags.ipynb\" target=\"_blank\">Children Tags</a> :             <a href=\"lesson_notebooks/l5/beautifulsoup/children_tags_solution.ipynb\" target=\"_blank\">Solution</a></li><li><a href=\"lesson_notebooks/l5/beautifulsoup/coding_exercise.ipynb\" target=\"_blank\">Coding Exercise</a> :             <a href=\"lesson_notebooks/l5/beautifulsoup/coding_exercise_solution.ipynb\" target=\"_blank\">Solution</a></li><li><a href=\"lesson_notebooks/l5/beautifulsoup/navigating_the_parse_tree.ipynb\" target=\"_blank\">Navigating The Parse Tree</a> :             <a href=\"lesson_notebooks/l5/beautifulsoup/navigating_the_parse_tree_solution.ipynb\" target=\"_blank\">Solution</a></li><li><a href=\"lesson_notebooks/l5/beautifulsoup/parsing_an_html_file.ipynb\" target=\"_blank\">Parsing An Html File</a></li><li><a href=\"lesson_notebooks/l5/beautifulsoup/requests_library.ipynb\" target=\"_blank\">Requests Library</a> :             <a href=\"lesson_notebooks/l5/beautifulsoup/requests_library_solution.ipynb\" target=\"_blank\">Solution</a></li><li><a href=\"lesson_notebooks/l5/beautifulsoup/searching_by_class_and_regexes.ipynb\" target=\"_blank\">Searching By Class And Regexes</a> :             <a href=\"lesson_notebooks/l5/beautifulsoup/searching_by_class_and_regexes_solution.ipynb\" target=\"_blank\">Solution</a></li><li><a href=\"lesson_notebooks/l5/beautifulsoup/searching_the_parse_tree.ipynb\" target=\"_blank\">Searching The Parse Tree</a> :             <a href=\"lesson_notebooks/l5/beautifulsoup/searching_the_parse_tree_solution.ipynb\" target=\"_blank\">Solution</a></li></ul></div>"
      ],
      "text/plain": [
       "<IPython.core.display.HTML object>"
      ]
     },
     "metadata": {},
     "output_type": "display_data"
    }
   ],
   "source": [
    "auto_notebook_links('lesson_notebooks/l5/beautifulsoup/', \"__BeautifulSoup Code Exercises__\")"
   ]
  },
  {
   "cell_type": "markdown",
   "metadata": {},
   "source": [
    "## Lesson 6 - Basic NLP Analysis\n",
    "**Learn how to apply to NLP to financial statements**\n"
   ]
  },
  {
   "cell_type": "code",
   "execution_count": 6,
   "metadata": {},
   "outputs": [
    {
     "data": {
      "text/markdown": [
       "### __Readablity__"
      ],
      "text/plain": [
       "<IPython.core.display.Markdown object>"
      ]
     },
     "metadata": {},
     "output_type": "display_data"
    },
    {
     "data": {
      "text/html": [
       "<div style=\"background-color:#f7f7f7;padding:10px;border:1px solid #cfcfcf;     border-radius:4px;line-height:1.2em;\"><ul><li><a href=\"lesson_notebooks/l6/readability/Readability_Exercises.ipynb\" target=\"_blank\">Readability Exercises</a></li></ul></div>"
      ],
      "text/plain": [
       "<IPython.core.display.HTML object>"
      ]
     },
     "metadata": {},
     "output_type": "display_data"
    }
   ],
   "source": [
    "auto_notebook_links('lesson_notebooks/l6/readability/', '__Readablity__')"
   ]
  },
  {
   "cell_type": "markdown",
   "metadata": {},
   "source": [
    "## Project 5: NLP on Financial Statements\n",
    "**NLP Analysis on 10-k financial statements to generate an alpha factor.**\n",
    "\n",
    "- [P5](/notebooks/project_notebooks/p5/project_5_starter.ipynb)"
   ]
  },
  {
   "cell_type": "markdown",
   "metadata": {},
   "source": [
    "## Lesson 8 - Introduction to Neural Networks\n",
    "**In this lesson, Luis will teach you the foundations of deep learning and neural networks. You'll also implement gradient descent and backpropagation in python, right here in the classroom!**\n",
    "\n",
    "\n",
    "[Code AND Perceptron](codehappens_here.ipynb#The-AND-Perceptron)\n",
    "\n",
    "[Code NOT Perceptron](codehappens_here.ipynb#The-NOT-Perceptron)\n",
    "\n",
    "The XOR Perceptron = One or the other but not both.\n",
    "The NAND Perceptron = One AND NOT the other."
   ]
  },
  {
   "cell_type": "code",
   "execution_count": 7,
   "metadata": {},
   "outputs": [
    {
     "data": {
      "text/markdown": [
       "### __Gradient Descent__"
      ],
      "text/plain": [
       "<IPython.core.display.Markdown object>"
      ]
     },
     "metadata": {},
     "output_type": "display_data"
    },
    {
     "data": {
      "text/html": [
       "<div style=\"background-color:#f7f7f7;padding:10px;border:1px solid #cfcfcf;     border-radius:4px;line-height:1.2em;\"><ul><li><a href=\"lesson_notebooks/l8/gradient_descent/Gradient_Descent.ipynb\" target=\"_blank\">Gradient Descent</a> :             <a href=\"lesson_notebooks/l8/gradient_descent/Gradient_Descent_solution.ipynb\" target=\"_blank\">Solution</a></li></ul></div>"
      ],
      "text/plain": [
       "<IPython.core.display.HTML object>"
      ]
     },
     "metadata": {},
     "output_type": "display_data"
    }
   ],
   "source": [
    "auto_notebook_links('lesson_notebooks/l8/gradient_descent/', '__Gradient Descent__')"
   ]
  },
  {
   "cell_type": "code",
   "execution_count": 8,
   "metadata": {},
   "outputs": [
    {
     "data": {
      "text/markdown": [
       "### __Analyzing Student Data__"
      ],
      "text/plain": [
       "<IPython.core.display.Markdown object>"
      ]
     },
     "metadata": {},
     "output_type": "display_data"
    },
    {
     "data": {
      "text/html": [
       "<div style=\"background-color:#f7f7f7;padding:10px;border:1px solid #cfcfcf;     border-radius:4px;line-height:1.2em;\"><ul><li><a href=\"lesson_notebooks/l8/analyzing_student_data/Student_Admissions.ipynb\" target=\"_blank\">Student Admissions</a> :             <a href=\"lesson_notebooks/l8/analyzing_student_data/Student_Admissions_solution.ipynb\" target=\"_blank\">Solution</a></li></ul></div>"
      ],
      "text/plain": [
       "<IPython.core.display.HTML object>"
      ]
     },
     "metadata": {},
     "output_type": "display_data"
    }
   ],
   "source": [
    "auto_notebook_links('lesson_notebooks/l8/analyzing_student_data/', '__Analyzing Student Data__')"
   ]
  },
  {
   "cell_type": "markdown",
   "metadata": {},
   "source": [
    "## Lesson 9 - Training Neural Networks\n",
    "**Now that you know what neural networks are, in this lesson you will learn several techniques to improve their training.**"
   ]
  },
  {
   "cell_type": "markdown",
   "metadata": {},
   "source": [
    "## Lesson 10 - Deep Learning with PyTorch\n",
    "**Learn how to use PyTorch for building deep learning models**\n",
    "\n",
    "- [PyTourch Docs](https://pytorch.org/docs/stable/index.html)"
   ]
  },
  {
   "cell_type": "code",
   "execution_count": 9,
   "metadata": {},
   "outputs": [
    {
     "data": {
      "text/markdown": [
       "### __Lesson Notebooks for PyTorch__"
      ],
      "text/plain": [
       "<IPython.core.display.Markdown object>"
      ]
     },
     "metadata": {},
     "output_type": "display_data"
    },
    {
     "data": {
      "text/html": [
       "<div style=\"background-color:#f7f7f7;padding:10px;border:1px solid #cfcfcf;     border-radius:4px;line-height:1.2em;\"><ul><li><a href=\"lesson_notebooks/l10/Part 1 - Tensors in PyTorch.ipynb\" target=\"_blank\">Part 1 - Tensors In Pytorch</a> :             <a href=\"lesson_notebooks/l10/Part 1 - Tensors in PyTorch_solution.ipynb\" target=\"_blank\">Solution</a></li><li><a href=\"lesson_notebooks/l10/Part 2 - Neural Networks in PyTorch.ipynb\" target=\"_blank\">Part 2 - Neural Networks In Pytorch</a> :             <a href=\"lesson_notebooks/l10/Part 2 - Neural Networks in PyTorch_solution.ipynb\" target=\"_blank\">Solution</a></li><li><a href=\"lesson_notebooks/l10/Part 3 - Training Neural Networks.ipynb\" target=\"_blank\">Part 3 - Training Neural Networks</a> :             <a href=\"lesson_notebooks/l10/Part 3 - Training Neural Networks_solution.ipynb\" target=\"_blank\">Solution</a></li><li><a href=\"lesson_notebooks/l10/Part 4 - Fashion-MNIST.ipynb\" target=\"_blank\">Part 4 - Fashion-Mnist</a> :             <a href=\"lesson_notebooks/l10/Part 4 - Fashion-MNIST_solution.ipynb\" target=\"_blank\">Solution</a></li><li><a href=\"lesson_notebooks/l10/Part 5 - Inference and Validation.ipynb\" target=\"_blank\">Part 5 - Inference And Validation</a> :             <a href=\"lesson_notebooks/l10/Part 5 - Inference and Validation_solution.ipynb\" target=\"_blank\">Solution</a></li><li><a href=\"lesson_notebooks/l10/Part 6 - Saving and Loading Models.ipynb\" target=\"_blank\">Part 6 - Saving And Loading Models</a></li><li><a href=\"lesson_notebooks/l10/Part 7 - Loading Image Data.ipynb\" target=\"_blank\">Part 7 - Loading Image Data</a> :             <a href=\"lesson_notebooks/l10/Part 7 - Loading Image Data_solution.ipynb\" target=\"_blank\">Solution</a></li><li><a href=\"lesson_notebooks/l10/Part 8 - Transfer Learning.ipynb\" target=\"_blank\">Part 8 - Transfer Learning</a> :             <a href=\"lesson_notebooks/l10/Part 8 - Transfer Learning_solution.ipynb\" target=\"_blank\">Solution</a></li></ul></div>"
      ],
      "text/plain": [
       "<IPython.core.display.HTML object>"
      ]
     },
     "metadata": {},
     "output_type": "display_data"
    }
   ],
   "source": [
    "auto_notebook_links('lesson_notebooks/l10/', '__Lesson Notebooks for PyTorch__')"
   ]
  },
  {
   "cell_type": "markdown",
   "metadata": {},
   "source": [
    "## Lesson 11 - Recurrent Neural Networks\n",
    "**Learn how to use recurrent neural networks to learn from sequential data such as text. Build a network that can generate realistic text one letter at a time.**\n",
    "\n",
    "<ul>\n",
    "<li><a target=\"_blank\" href=\"http://colah.github.io/posts/2015-08-Understanding-LSTMs/\">Chris Olah's LSTM post</a></li>\n",
    "<li><a target=\"_blank\" href=\"http://blog.echen.me/2017/05/30/exploring-lstms/\">Edwin Chen's LSTM post</a></li>\n",
    "<li><a target=\"_blank\" href=\"http://karpathy.github.io/2015/05/21/rnn-effectiveness/\">Andrej Karpathy's blog post</a> on RNNs</li>\n",
    "<li><a target=\"_blank\" href=\"https://www.youtube.com/watch?v=iX5V1WpxxkY\">Andrej Karpathy's lecture</a> on RNNs and LSTMs from CS231n</li>\n",
    "</ul>\n",
    "\n",
    "### Recurrent Layers\n",
    "<p>Here is the documentation for the main types of <a target=\"_blank\" href=\"https://pytorch.org/docs/stable/nn.html#recurrent-layers\">recurrent layers in PyTorch</a>. \n",
    "\n",
    "- Three main types: \n",
    "    - RNN \n",
    "    - LSTM\n",
    "    - GRU"
   ]
  },
  {
   "cell_type": "code",
   "execution_count": 10,
   "metadata": {},
   "outputs": [
    {
     "data": {
      "text/markdown": [
       "### __Lesson Notebooks RNN Time Series__"
      ],
      "text/plain": [
       "<IPython.core.display.Markdown object>"
      ]
     },
     "metadata": {},
     "output_type": "display_data"
    },
    {
     "data": {
      "text/html": [
       "<div style=\"background-color:#f7f7f7;padding:10px;border:1px solid #cfcfcf;     border-radius:4px;line-height:1.2em;\"><ul><li><a href=\"lesson_notebooks/l11/time-series/Simple_RNN.ipynb\" target=\"_blank\">Simple Rnn</a></li></ul></div>"
      ],
      "text/plain": [
       "<IPython.core.display.HTML object>"
      ]
     },
     "metadata": {},
     "output_type": "display_data"
    }
   ],
   "source": [
    "auto_notebook_links('lesson_notebooks/l11/time-series', '__Lesson Notebooks RNN Time Series__')"
   ]
  },
  {
   "cell_type": "code",
   "execution_count": 11,
   "metadata": {
    "scrolled": true
   },
   "outputs": [
    {
     "data": {
      "text/markdown": [
       "### __Lesson Notebooks RNN Character Level__"
      ],
      "text/plain": [
       "<IPython.core.display.Markdown object>"
      ]
     },
     "metadata": {},
     "output_type": "display_data"
    },
    {
     "data": {
      "text/html": [
       "<div style=\"background-color:#f7f7f7;padding:10px;border:1px solid #cfcfcf;     border-radius:4px;line-height:1.2em;\"><ul><li><a href=\"lesson_notebooks/l11/char-rnn/Character_Level_RNN_Exercise.ipynb\" target=\"_blank\">Character Level Rnn Exercise</a> :             <a href=\"lesson_notebooks/l11/char-rnn/Character_Level_RNN_Exercise_solution.ipynb\" target=\"_blank\">Solution</a></li></ul></div>"
      ],
      "text/plain": [
       "<IPython.core.display.HTML object>"
      ]
     },
     "metadata": {},
     "output_type": "display_data"
    }
   ],
   "source": [
    "auto_notebook_links('lesson_notebooks/l11/char-rnn', '__Lesson Notebooks RNN Character Level__')"
   ]
  },
  {
   "cell_type": "markdown",
   "metadata": {},
   "source": [
    "## Lesson 12 - Embeddings & Word2Vec\n",
    "\n",
    "__In this lesson, you'll learn about embeddings in neural networks by implementing the Word2Vec model.__\n",
    "\n",
    "\n",
    "### Supporting Materials\n",
    "\n",
    "- <a href=\"https://s3.amazonaws.com/video.udacity-data.com/topher/2018/October/5bc56d28_word2vec-mikolov/word2vec-mikolov.pdf\" target=\"_blank\" class=\"resources--resource-link--37SIs\">Word2Vec Mikolov</a>\n",
    "- <a href=\"https://s3.amazonaws.com/video.udacity-data.com/topher/2018/October/5bc56da8_distributed-representations-mikolov2/distributed-representations-mikolov2.pdf\" target=\"_blank\" class=\"resources--resource-link--37SIs\"> Distributed Representations, Mikolov 2</a>\n"
   ]
  },
  {
   "cell_type": "code",
   "execution_count": 12,
   "metadata": {
    "scrolled": true
   },
   "outputs": [
    {
     "data": {
      "text/markdown": [
       "### __Lesson Notebooks RNN Character Level__"
      ],
      "text/plain": [
       "<IPython.core.display.Markdown object>"
      ]
     },
     "metadata": {},
     "output_type": "display_data"
    },
    {
     "data": {
      "text/html": [
       "<div style=\"background-color:#f7f7f7;padding:10px;border:1px solid #cfcfcf;     border-radius:4px;line-height:1.2em;\"><ul><li><a href=\"lesson_notebooks/l12/word2vec-embeddings/Negative_Sampling_Exercise.ipynb\" target=\"_blank\">Negative Sampling Exercise</a> :             <a href=\"lesson_notebooks/l12/word2vec-embeddings/Negative_Sampling_Exercise_solution.ipynb\" target=\"_blank\">Solution</a></li><li><a href=\"lesson_notebooks/l12/word2vec-embeddings/Skip_Grams_Exercise.ipynb\" target=\"_blank\">Skip Grams Exercise</a> :             <a href=\"lesson_notebooks/l12/word2vec-embeddings/Skip_Grams_Exercise_solution.ipynb\" target=\"_blank\">Solution</a></li></ul></div>"
      ],
      "text/plain": [
       "<IPython.core.display.HTML object>"
      ]
     },
     "metadata": {},
     "output_type": "display_data"
    }
   ],
   "source": [
    "auto_notebook_links('lesson_notebooks/l12/word2vec-embeddings/', '__Lesson Notebooks RNN Character Level__')"
   ]
  },
  {
   "cell_type": "markdown",
   "metadata": {},
   "source": [
    "## Lesson 13 - Sentiment Prediction RNN\n",
    "__Implement a sentiment prediction RNN for predicting whether a movie review is positive or negative!__"
   ]
  },
  {
   "cell_type": "code",
   "execution_count": 13,
   "metadata": {},
   "outputs": [
    {
     "data": {
      "text/markdown": [
       "### __Lesson Notebooks RNN Character Level__"
      ],
      "text/plain": [
       "<IPython.core.display.Markdown object>"
      ]
     },
     "metadata": {},
     "output_type": "display_data"
    },
    {
     "data": {
      "text/html": [
       "<div style=\"background-color:#f7f7f7;padding:10px;border:1px solid #cfcfcf;     border-radius:4px;line-height:1.2em;\"><ul><li><a href=\"lesson_notebooks/l13/sentiment-rnn/Sentiment_RNN_Exercise.ipynb\" target=\"_blank\">Sentiment Rnn Exercise</a> :             <a href=\"lesson_notebooks/l13/sentiment-rnn/Sentiment_RNN_Exercise_solution.ipynb\" target=\"_blank\">Solution</a></li></ul></div>"
      ],
      "text/plain": [
       "<IPython.core.display.HTML object>"
      ]
     },
     "metadata": {},
     "output_type": "display_data"
    }
   ],
   "source": [
    "auto_notebook_links('lesson_notebooks/l13/sentiment-rnn/', '__Lesson Notebooks RNN Character Level__')"
   ]
  },
  {
   "cell_type": "markdown",
   "metadata": {},
   "source": [
    "## Project 6 - Sentiment Analysis with Neural Networks\n",
    "**Build a deep learning model to classify the sentiment of messages.**\n",
    "\n",
    "\n",
    "[Project 6](project_notebooks/p6/project_6_starter.ipynb)"
   ]
  },
  {
   "cell_type": "markdown",
   "metadata": {},
   "source": [
    "## Lesson 15 - Overview\n",
    "__Learn about machine learning from a bird's-eye-view.__\n",
    "\n",
    "- [Review Multi-factor Models Project 4 (Term 1)](https://github.com/heathdrobertson/ai_algorithms_trading-term1/blob/master/project_notebooks/p4/project_4_starter.ipynb)\n"
   ]
  },
  {
   "cell_type": "markdown",
   "metadata": {},
   "source": [
    "## Lesson 16 - Decision Trees\n",
    "__Decision trees are a structure for decision-making where each decision leads to a set of consequences or additional decisions.__\n",
    "\n",
    "- L16S2\n"
   ]
  },
  {
   "cell_type": "code",
   "execution_count": 14,
   "metadata": {},
   "outputs": [
    {
     "data": {
      "text/markdown": [
       "### __Decision Tree in Sklearn__"
      ],
      "text/plain": [
       "<IPython.core.display.Markdown object>"
      ]
     },
     "metadata": {},
     "output_type": "display_data"
    },
    {
     "data": {
      "text/html": [
       "<div style=\"background-color:#f7f7f7;padding:10px;border:1px solid #cfcfcf;     border-radius:4px;line-height:1.2em;\"><ul><li><a href=\"lesson_notebooks/l16/s21_quiz/s21_quiz.ipynb\" target=\"_blank\">S21 Quiz</a> :             <a href=\"lesson_notebooks/l16/s21_quiz/s21_quiz_solution.ipynb\" target=\"_blank\">Solution</a></li></ul></div>"
      ],
      "text/plain": [
       "<IPython.core.display.HTML object>"
      ]
     },
     "metadata": {},
     "output_type": "display_data"
    },
    {
     "data": {
      "text/markdown": [
       "### __Titanic Survival Model Decision Trees__"
      ],
      "text/plain": [
       "<IPython.core.display.Markdown object>"
      ]
     },
     "metadata": {},
     "output_type": "display_data"
    },
    {
     "data": {
      "text/html": [
       "<div style=\"background-color:#f7f7f7;padding:10px;border:1px solid #cfcfcf;     border-radius:4px;line-height:1.2em;\"><ul><li><a href=\"lesson_notebooks/l16/titanic_survival_model_decision_trees/titanic_survival_exploration.ipynb\" target=\"_blank\">Titanic Survival Exploration</a> :             <a href=\"lesson_notebooks/l16/titanic_survival_model_decision_trees/titanic_survival_exploration_solution.ipynb\" target=\"_blank\">Solution</a></li></ul></div>"
      ],
      "text/plain": [
       "<IPython.core.display.HTML object>"
      ]
     },
     "metadata": {},
     "output_type": "display_data"
    }
   ],
   "source": [
    "auto_notebook_links('lesson_notebooks/l16/s21_quiz/', '__Decision Tree in Sklearn__')\n",
    "auto_notebook_links('lesson_notebooks/l16/titanic_survival_model_decision_trees/', '__Titanic Survival Model Decision Trees__')"
   ]
  },
  {
   "cell_type": "markdown",
   "metadata": {},
   "source": [
    "## Lesson 17 - Model Testing and Evaluation\n",
    "__Learn about metrics to evaluate models and about how to avoid over- and underfitting.__\n",
    "\n"
   ]
  },
  {
   "cell_type": "code",
   "execution_count": 15,
   "metadata": {},
   "outputs": [
    {
     "data": {
      "text/markdown": [
       "### __Testing Your Models__"
      ],
      "text/plain": [
       "<IPython.core.display.Markdown object>"
      ]
     },
     "metadata": {},
     "output_type": "display_data"
    },
    {
     "data": {
      "text/html": [
       "<div style=\"background-color:#f7f7f7;padding:10px;border:1px solid #cfcfcf;     border-radius:4px;line-height:1.2em;\"><ul><li><a href=\"lesson_notebooks/l17/s03_quiz/quiz.ipynb\" target=\"_blank\">Quiz</a> :             <a href=\"lesson_notebooks/l17/s03_quiz/quiz_solution.ipynb\" target=\"_blank\">Solution</a></li></ul></div>"
      ],
      "text/plain": [
       "<IPython.core.display.HTML object>"
      ]
     },
     "metadata": {},
     "output_type": "display_data"
    },
    {
     "data": {
      "text/markdown": [
       "### __Detect Overfitting and Underfitting with Learning Curves__"
      ],
      "text/plain": [
       "<IPython.core.display.Markdown object>"
      ]
     },
     "metadata": {},
     "output_type": "display_data"
    },
    {
     "data": {
      "text/html": [
       "<div style=\"background-color:#f7f7f7;padding:10px;border:1px solid #cfcfcf;     border-radius:4px;line-height:1.2em;\"><ul><li><a href=\"lesson_notebooks/l17/s20_quiz/quiz.ipynb\" target=\"_blank\">Quiz</a> :             <a href=\"lesson_notebooks/l17/s20_quiz/quiz_solution.ipynb\" target=\"_blank\">Solution</a></li></ul></div>"
      ],
      "text/plain": [
       "<IPython.core.display.HTML object>"
      ]
     },
     "metadata": {},
     "output_type": "display_data"
    }
   ],
   "source": [
    "auto_notebook_links('lesson_notebooks/l17/s03_quiz/', '__Testing Your Models__')\n",
    "auto_notebook_links('lesson_notebooks/l17/s20_quiz/', '__Detect Overfitting and Underfitting with Learning Curves__')"
   ]
  },
  {
   "cell_type": "markdown",
   "metadata": {},
   "source": [
    "## Lesson 18 - Random Forests\n",
    "__Learn about random forest models and how to use them to combine alpha factors.__\n",
    "\n",
    "[Random Forests Paper](https://link.springer.com/content/pdf/10.1023%2FA%3A1010933404324.pdf)"
   ]
  },
  {
   "cell_type": "code",
   "execution_count": 16,
   "metadata": {},
   "outputs": [
    {
     "data": {
      "text/markdown": [
       "### __Spam Random Forest Exercise__"
      ],
      "text/plain": [
       "<IPython.core.display.Markdown object>"
      ]
     },
     "metadata": {},
     "output_type": "display_data"
    },
    {
     "data": {
      "text/html": [
       "<div style=\"background-color:#f7f7f7;padding:10px;border:1px solid #cfcfcf;     border-radius:4px;line-height:1.2em;\"><ul><li><a href=\"lesson_notebooks/l18/spam_random_forest/spam_rf.ipynb\" target=\"_blank\">Spam Rf</a> :             <a href=\"lesson_notebooks/l18/spam_random_forest/spam_rf_solution.ipynb\" target=\"_blank\">Solution</a></li></ul></div>"
      ],
      "text/plain": [
       "<IPython.core.display.HTML object>"
      ]
     },
     "metadata": {},
     "output_type": "display_data"
    }
   ],
   "source": [
    "auto_notebook_links('lesson_notebooks/l18/spam_random_forest/', '__Spam Random Forest Exercise__')"
   ]
  },
  {
   "cell_type": "markdown",
   "metadata": {},
   "source": [
    "## Lesson 19 - Feature Engineering\n",
    "__Learn to engineer features such as market dispersion, market volatility, sector and date parts. Also learn to engineer targets (labels) that are robust to market changes over time.__\n",
    "\n",
    "- Supervised Machine Learning Algorithms\n",
    "    - Inputs = Features\n",
    "    - Outputs = Labels"
   ]
  },
  {
   "cell_type": "code",
   "execution_count": 17,
   "metadata": {},
   "outputs": [
    {
     "data": {
      "text/markdown": [
       "### __Lesson 19 & 21 Exercise__"
      ],
      "text/plain": [
       "<IPython.core.display.Markdown object>"
      ]
     },
     "metadata": {},
     "output_type": "display_data"
    },
    {
     "data": {
      "text/html": [
       "<div style=\"background-color:#f7f7f7;padding:10px;border:1px solid #cfcfcf;     border-radius:4px;line-height:1.2em;\"><ul><li><a href=\"lesson_notebooks/l19/calculate_shap.ipynb\" target=\"_blank\">Calculate Shap</a> :             <a href=\"lesson_notebooks/l19/calculate_shap_solution.ipynb\" target=\"_blank\">Solution</a></li><li><a href=\"lesson_notebooks/l19/feature_engineering.ipynb\" target=\"_blank\">Feature Engineering</a> :             <a href=\"lesson_notebooks/l19/feature_engineering_solution.ipynb\" target=\"_blank\">Solution</a></li><li><a href=\"lesson_notebooks/l19/rank_features.ipynb\" target=\"_blank\">Rank Features</a> :             <a href=\"lesson_notebooks/l19/rank_features_solution.ipynb\" target=\"_blank\">Solution</a></li><li><a href=\"lesson_notebooks/l19/sklearn_feature_importance.ipynb\" target=\"_blank\">Sklearn Feature Importance</a> :             <a href=\"lesson_notebooks/l19/sklearn_feature_importance_solution.ipynb\" target=\"_blank\">Solution</a></li><li><a href=\"lesson_notebooks/l19/tree_shap.ipynb\" target=\"_blank\">Tree Shap</a> :             <a href=\"lesson_notebooks/l19/tree_shap_solution.ipynb\" target=\"_blank\">Solution</a></li></ul></div>"
      ],
      "text/plain": [
       "<IPython.core.display.HTML object>"
      ]
     },
     "metadata": {},
     "output_type": "display_data"
    }
   ],
   "source": [
    "auto_notebook_links('lesson_notebooks/l19/', '__Lesson 19 & 21 Exercise__')"
   ]
  },
  {
   "cell_type": "markdown",
   "metadata": {},
   "source": [
    "## Lesson 20 - Overlapping Labels\n",
    "__Learn about an issue with non-independent labels that comes up during alpha combination with machine learning models.__\n",
    "\n"
   ]
  },
  {
   "cell_type": "code",
   "execution_count": 18,
   "metadata": {},
   "outputs": [
    {
     "data": {
      "text/markdown": [
       "### __Lesson 20 Exercise__"
      ],
      "text/plain": [
       "<IPython.core.display.Markdown object>"
      ]
     },
     "metadata": {},
     "output_type": "display_data"
    },
    {
     "data": {
      "text/html": [
       "<div style=\"background-color:#f7f7f7;padding:10px;border:1px solid #cfcfcf;     border-radius:4px;line-height:1.2em;\"><ul><li><a href=\"lesson_notebooks/l20/dependent_labels.ipynb\" target=\"_blank\">Dependent Labels</a> :             <a href=\"lesson_notebooks/l20/dependent_labels_solution.ipynb\" target=\"_blank\">Solution</a></li></ul></div>"
      ],
      "text/plain": [
       "<IPython.core.display.HTML object>"
      ]
     },
     "metadata": {},
     "output_type": "display_data"
    }
   ],
   "source": [
    "auto_notebook_links('lesson_notebooks/l20/', '__Lesson 20 Exercise__')"
   ]
  },
  {
   "cell_type": "markdown",
   "metadata": {},
   "source": [
    "## Lesson 21 - Feature Importance\n",
    "__Feature importance helps us decide how relevant each feature is to a machine learning model's predictions. Learn about two methods for calculating feature importance.__\n",
    "\n"
   ]
  },
  {
   "cell_type": "code",
   "execution_count": 19,
   "metadata": {},
   "outputs": [
    {
     "data": {
      "text/markdown": [
       "### __Lesson 19 & 21 Exercise__"
      ],
      "text/plain": [
       "<IPython.core.display.Markdown object>"
      ]
     },
     "metadata": {},
     "output_type": "display_data"
    },
    {
     "data": {
      "text/html": [
       "<div style=\"background-color:#f7f7f7;padding:10px;border:1px solid #cfcfcf;     border-radius:4px;line-height:1.2em;\"><ul><li><a href=\"lesson_notebooks/l19/calculate_shap.ipynb\" target=\"_blank\">Calculate Shap</a> :             <a href=\"lesson_notebooks/l19/calculate_shap_solution.ipynb\" target=\"_blank\">Solution</a></li><li><a href=\"lesson_notebooks/l19/feature_engineering.ipynb\" target=\"_blank\">Feature Engineering</a> :             <a href=\"lesson_notebooks/l19/feature_engineering_solution.ipynb\" target=\"_blank\">Solution</a></li><li><a href=\"lesson_notebooks/l19/rank_features.ipynb\" target=\"_blank\">Rank Features</a> :             <a href=\"lesson_notebooks/l19/rank_features_solution.ipynb\" target=\"_blank\">Solution</a></li><li><a href=\"lesson_notebooks/l19/sklearn_feature_importance.ipynb\" target=\"_blank\">Sklearn Feature Importance</a> :             <a href=\"lesson_notebooks/l19/sklearn_feature_importance_solution.ipynb\" target=\"_blank\">Solution</a></li><li><a href=\"lesson_notebooks/l19/tree_shap.ipynb\" target=\"_blank\">Tree Shap</a> :             <a href=\"lesson_notebooks/l19/tree_shap_solution.ipynb\" target=\"_blank\">Solution</a></li></ul></div>"
      ],
      "text/plain": [
       "<IPython.core.display.HTML object>"
      ]
     },
     "metadata": {},
     "output_type": "display_data"
    }
   ],
   "source": [
    "auto_notebook_links('lesson_notebooks/l19/', '__Lesson 19 & 21 Exercise__')"
   ]
  },
  {
   "cell_type": "markdown",
   "metadata": {},
   "source": [
    "## Project 7 - Combine Signals for Enhanced Alpha\n",
    "\n",
    "- [Project 7: Combine Signals for Enhanced Alpha](/notebooks/project_notebooks/p7/project_7_starter.ipynb)\n",
    "\n",
    "### Supporting Materials\n",
    "[Overnight Returns and Firm-Specific Investor Sentiment](https://papers.ssrn.com/sol3/papers.cfm?abstract_id=2554010)\n"
   ]
  },
  {
   "cell_type": "markdown",
   "metadata": {},
   "source": [
    "## Strengthen Your Online Presence Using LinkedIn\n",
    "**Find your next job or connect with industry peers on LinkedIn. Ensure your profile attracts relevant leads that will grow your professional network.**\n"
   ]
  },
  {
   "cell_type": "markdown",
   "metadata": {},
   "source": [
    "## Optimize Your GitHub Profile\n",
    "**Other professionals are collaborating on GitHub and growing their network. Submit your profile to ensure your profile is on par with leaders in your field.**"
   ]
  },
  {
   "cell_type": "markdown",
   "metadata": {},
   "source": [
    "## Lesson 25 - Intro to Backtesting\n",
    "__Backtesting helps you determine whether or not your strategies can be generalizable to future unseen data.__\n",
    "\n",
    "### Supporting Materials\n",
    "- [Backtest Overfitting: An Interactive Example](http://datagrid.lbl.gov/backtest/index.php)\n",
    "- [The Elements of Statistical Learning](https://web.stanford.edu/~hastie/Papers/ESLII.pdf)\n"
   ]
  },
  {
   "cell_type": "code",
   "execution_count": 20,
   "metadata": {},
   "outputs": [
    {
     "data": {
      "text/markdown": [
       "### __Lesson 25 Exercise__"
      ],
      "text/plain": [
       "<IPython.core.display.Markdown object>"
      ]
     },
     "metadata": {},
     "output_type": "display_data"
    },
    {
     "data": {
      "text/html": [
       "<div style=\"background-color:#f7f7f7;padding:10px;border:1px solid #cfcfcf;     border-radius:4px;line-height:1.2em;\"><ul><li><a href=\"lesson_notebooks/l25/backtest_best_practices.ipynb\" target=\"_blank\">Backtest Best Practices</a></li><li><a href=\"lesson_notebooks/l25/overfitting_exercise.ipynb\" target=\"_blank\">Overfitting Exercise</a> :             <a href=\"lesson_notebooks/l25/overfitting_exercise_solution.ipynb\" target=\"_blank\">Solution</a></li></ul></div>"
      ],
      "text/plain": [
       "<IPython.core.display.HTML object>"
      ]
     },
     "metadata": {},
     "output_type": "display_data"
    }
   ],
   "source": [
    "auto_notebook_links('lesson_notebooks/l25/', '__Lesson 25 Exercise__')"
   ]
  },
  {
   "cell_type": "markdown",
   "metadata": {},
   "source": [
    "## Lesson 26 - Optimization with Transaction Costs\n",
    "__Learn about how to make the portfolio optimization in a backtest more realistic, and also more computationally efficient.__\n",
    "\n",
    "[Machine Learning for Trading Paper](https://cims.nyu.edu/~ritter/ritter2017machine.pdf) | [Gordon Ritter](https://cims.nyu.edu/~ritter/)\n"
   ]
  },
  {
   "cell_type": "code",
   "execution_count": 22,
   "metadata": {},
   "outputs": [
    {
     "data": {
      "text/markdown": [
       "### __Lesson 26 Exercise__"
      ],
      "text/plain": [
       "<IPython.core.display.Markdown object>"
      ]
     },
     "metadata": {},
     "output_type": "display_data"
    },
    {
     "data": {
      "text/html": [
       "<div style=\"background-color:#f7f7f7;padding:10px;border:1px solid #cfcfcf;     border-radius:4px;line-height:1.2em;\"><ul><li><a href=\"lesson_notebooks/l26/optimization_with_tcosts.ipynb\" target=\"_blank\">Optimization With Tcosts</a> :             <a href=\"lesson_notebooks/l26/optimization_with_tcosts_solution.ipynb\" target=\"_blank\">Solution</a></li></ul></div>"
      ],
      "text/plain": [
       "<IPython.core.display.HTML object>"
      ]
     },
     "metadata": {},
     "output_type": "display_data"
    }
   ],
   "source": [
    "auto_notebook_links('lesson_notebooks/l26/', '__Lesson 26 Exercise__')"
   ]
  },
  {
   "cell_type": "markdown",
   "metadata": {},
   "source": [
    "## Lesson 27 - Attribution\n",
    "__Use performance attribution to determine how each factor contributed to the portfolio's results.__\n"
   ]
  },
  {
   "cell_type": "code",
   "execution_count": 24,
   "metadata": {},
   "outputs": [
    {
     "data": {
      "text/markdown": [
       "### __Lesson 27 Exercise__"
      ],
      "text/plain": [
       "<IPython.core.display.Markdown object>"
      ]
     },
     "metadata": {},
     "output_type": "display_data"
    },
    {
     "data": {
      "text/html": [
       "<div style=\"background-color:#f7f7f7;padding:10px;border:1px solid #cfcfcf;     border-radius:4px;line-height:1.2em;\"><ul><li><a href=\"lesson_notebooks/l27/performance_attribution.ipynb\" target=\"_blank\">Performance Attribution</a> :             <a href=\"lesson_notebooks/l27/performance_attribution_solution.ipynb\" target=\"_blank\">Solution</a></li></ul></div>"
      ],
      "text/plain": [
       "<IPython.core.display.HTML object>"
      ]
     },
     "metadata": {},
     "output_type": "display_data"
    }
   ],
   "source": [
    "auto_notebook_links('lesson_notebooks/l27/', '__Lesson 27 Exercise__')"
   ]
  },
  {
   "cell_type": "markdown",
   "metadata": {},
   "source": [
    "## Project 8 - Backtesting\n",
    "\n",
    "- [Project 8: Backtesting](/notebooks/project_notebooks/p8/project_8_starter.ipynb)"
   ]
  },
  {
   "cell_type": "markdown",
   "metadata": {},
   "source": [
    "# Resources & Links\n",
    "\n",
    "- [MSCI Barra Risk Model](https://www.msci.com/www/research-paper/barra-s-risk-models/014972229)"
   ]
  }
 ],
 "metadata": {
  "kernelspec": {
   "display_name": "Python 3",
   "language": "python",
   "name": "python3"
  },
  "language_info": {
   "codemirror_mode": {
    "name": "ipython",
    "version": 3
   },
   "file_extension": ".py",
   "mimetype": "text/x-python",
   "name": "python",
   "nbconvert_exporter": "python",
   "pygments_lexer": "ipython3",
   "version": "3.6.8"
  },
  "toc": {
   "base_numbering": "1",
   "nav_menu": {
    "height": "295px",
    "width": "480px"
   },
   "number_sections": true,
   "sideBar": true,
   "skip_h1_title": false,
   "title_cell": "Table of Contents",
   "title_sidebar": "Contents",
   "toc_cell": true,
   "toc_position": {
    "height": "calc(100% - 180px)",
    "left": "10px",
    "top": "150px",
    "width": "420.682px"
   },
   "toc_section_display": true,
   "toc_window_display": true
  }
 },
 "nbformat": 4,
 "nbformat_minor": 2
}
