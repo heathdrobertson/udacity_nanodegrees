{
 "cells": [
  {
   "cell_type": "markdown",
   "metadata": {
    "toc": true
   },
   "source": [
    "<h1>Table of Contents<span class=\"tocSkip\"></span></h1>\n",
    "<div class=\"toc\"><ul class=\"toc-item\"></ul></div>"
   ]
  },
  {
   "cell_type": "code",
   "execution_count": 1,
   "metadata": {},
   "outputs": [],
   "source": [
    "import statistics\n",
    "import alphalens\n",
    "\n",
    "import matplotlib.pyplot as plt\n",
    "import numpy as np\n",
    "import pandas as pd\n",
    "\n",
    "# import pyfolio"
   ]
  },
  {
   "cell_type": "code",
   "execution_count": 2,
   "metadata": {},
   "outputs": [
    {
     "ename": "NameError",
     "evalue": "name 'line_eq' is not defined",
     "output_type": "error",
     "traceback": [
      "\u001b[0;31m\u001b[0m",
      "\u001b[0;31mNameError\u001b[0mTraceback (most recent call last)",
      "\u001b[0;32m<ipython-input-2-714a97c74725>\u001b[0m in \u001b[0;36m<module>\u001b[0;34m\u001b[0m\n\u001b[1;32m     18\u001b[0m \u001b[0mlower\u001b[0m \u001b[0;34m=\u001b[0m \u001b[0mpd\u001b[0m\u001b[0;34m.\u001b[0m\u001b[0mDataFrame\u001b[0m\u001b[0;34m(\u001b[0m\u001b[0;34m{\u001b[0m\u001b[0;34m'x'\u001b[0m\u001b[0;34m:\u001b[0m \u001b[0;34m[\u001b[0m\u001b[0;36m43\u001b[0m\u001b[0;34m,\u001b[0m \u001b[0;36m113\u001b[0m\u001b[0;34m]\u001b[0m\u001b[0;34m,\u001b[0m \u001b[0;34m'y'\u001b[0m\u001b[0;34m:\u001b[0m \u001b[0;34m[\u001b[0m\u001b[0;36m4751.00\u001b[0m\u001b[0;34m,\u001b[0m \u001b[0;36m4895.00\u001b[0m\u001b[0;34m]\u001b[0m\u001b[0;34m}\u001b[0m\u001b[0;34m)\u001b[0m\u001b[0;34m\u001b[0m\u001b[0;34m\u001b[0m\u001b[0m\n\u001b[1;32m     19\u001b[0m \u001b[0;34m\u001b[0m\u001b[0m\n\u001b[0;32m---> 20\u001b[0;31m \u001b[0mm\u001b[0m\u001b[0;34m,\u001b[0m \u001b[0mc\u001b[0m \u001b[0;34m=\u001b[0m \u001b[0mline_eq\u001b[0m\u001b[0;34m(\u001b[0m\u001b[0mupper\u001b[0m\u001b[0;34m)\u001b[0m\u001b[0;34m\u001b[0m\u001b[0;34m\u001b[0m\u001b[0m\n\u001b[0m\u001b[1;32m     21\u001b[0m \u001b[0mm1\u001b[0m\u001b[0;34m,\u001b[0m \u001b[0mc1\u001b[0m \u001b[0;34m=\u001b[0m \u001b[0mline_eq\u001b[0m\u001b[0;34m(\u001b[0m\u001b[0mlower\u001b[0m\u001b[0;34m)\u001b[0m\u001b[0;34m\u001b[0m\u001b[0;34m\u001b[0m\u001b[0m\n\u001b[1;32m     22\u001b[0m \u001b[0;34m\u001b[0m\u001b[0m\n",
      "\u001b[0;31mNameError\u001b[0m: name 'line_eq' is not defined"
     ]
    }
   ],
   "source": [
    "# print(\"Line Solution is y = {m}x + {c}\".format(m=m,c=c))\n",
    "\n",
    "class Pennant():\n",
    "    \n",
    "    def __init__(self, data):\n",
    "        self.length =  data.length\n",
    "        self.current_bar = data.current_bar\n",
    "        self.upper = data.upper\n",
    "        self.lower = data.lower\n",
    "\n",
    "    def line_eq(data):\n",
    "\n",
    "        A = np.vstack([data['x'], np.ones(len(data['x']))]).T\n",
    "        m, c = np.linalg.lstsq(A, data['y'], rcond=None)[0]\n",
    "        return m, c\n",
    "\n",
    "upper = pd.DataFrame({'x': [41, 108], 'y': [5363.00, 5240.00]})\n",
    "lower = pd.DataFrame({'x': [43, 113], 'y': [4751.00, 4895.00]})\n",
    "\n",
    "m, c = line_eq(upper)\n",
    "m1, c1 = line_eq(lower)\n",
    "\n",
    "x1 = np.array([0, 200])\n",
    "price_label = (m*134 + c) * 1.01\n",
    "print(price_label)\n",
    "\n",
    "plt.clf()\n",
    "\n",
    "pp = plt.plot(x1, m*x1 + c, '-m')\n",
    "plt.plot(x1, m1*x1 + c1, '-m')\n",
    "\n",
    "plt.plot(134, price_label, 'ro')\n",
    "# https://matplotlib.org/tutorials/introductory/pyplot.html#annotating-text\n",
    "plt.annotate(price_label, xy=(134, price_label))\n",
    "plt.plot(134, m1*134 + c1, 'ro')\n",
    "\n",
    "plt.plot('x', 'y', '-g', data=upper)\n",
    "plt.plot('x', 'y', '-b', data=lower)\n",
    "plt.axis([0, 180, 4500, 5800])\n",
    "plt.show()"
   ]
  },
  {
   "cell_type": "code",
   "execution_count": null,
   "metadata": {},
   "outputs": [],
   "source": [
    "up1 = (41, 5363.00)\n",
    "up2 = (108, 5240.00)\n",
    "\n",
    "lp1 = (41, 5363.00),\n",
    "lp2 = (108, 5240.00)\n",
    "\n",
    "upper = pd.DataFrame({'x': [41, 108], 'y': [5363.00, 5240.00]})\n",
    "lower = pd.DataFrame({'x': [43, 113], 'y': [4751.00, 4895.00]})\n",
    "\n",
    "data = {\n",
    "    'length': 188,\n",
    "    'current_bar': 128,\n",
    "    'upper': upper,\n",
    "    'bottom': lower\n",
    "}"
   ]
  },
  {
   "cell_type": "code",
   "execution_count": null,
   "metadata": {},
   "outputs": [],
   "source": [
    "def short_calculator(short, cover, volume, symbol):\n",
    "    percent = (short - cover) / short\n",
    "    stop_loss = short * 1.08\n",
    "    position = short * volume\n",
    "    buy_back = cover * volume\n",
    "    \n",
    "    print(f'I am short: {volume} {symbol}')\n",
    "    print(f'Stop Loss: ${stop_loss:.2f}')\n",
    "    print(f'Total: ${position:.2f}')\n",
    "    print(f'Total Cover: ${buy_back:.2f}')\n",
    "    print(f'Profit: ${position - buy_back:.2f}')\n",
    "    print(f'Percentage Profit: {percent:.2%}')\n",
    "\n",
    "# 50% fib level at 158.47\n",
    "short_calculator(173.50, 160.17, 8, 'ETH')\n",
    "\n",
    "print('\\n' + '-'*30 + '\\n')\n",
    "\n",
    "short_calculator(4975.17, 4678.17, 1, 'BTC')\n",
    "\n",
    "print('\\n' + '-'*30 + '\\n')\n",
    "\n",
    "short_calculator(5019.50, 4855.17, 0.5, 'BTC')"
   ]
  },
  {
   "cell_type": "code",
   "execution_count": 7,
   "metadata": {},
   "outputs": [
    {
     "name": "stdout",
     "output_type": "stream",
     "text": [
      "I am buying: 25000 ADA\n",
      "With desired profit of: $140.00000000\n",
      "My sell price is: 0.07411000\n",
      "My stop loss is: $0.06028880\n",
      "My stop loss percentage: 12%\n",
      "Total long buy-in: $1712.75\n",
      "Total target sell: $1852.75\n",
      "Percentage Profit: 8.17%\n"
     ]
    }
   ],
   "source": [
    "def long_calculator(buy, profit, volume, stop, symbol):\n",
    "    sell_total = (buy * volume) + profit\n",
    "    sell = sell_total / volume\n",
    "    target = sell_total / volume\n",
    "    percent = (target - buy) / buy\n",
    "    stop_loss = buy * (1 - (stop/100))\n",
    "    stop_loss_percent = (buy - stop_loss) / buy\n",
    "    position = buy * volume\n",
    "    buy_back = target * volume\n",
    "   \n",
    "    print(f'I am buying: {volume} {symbol}')\n",
    "    print(f'With desired profit of: ${buy_back - position:.8f}')\n",
    "    print(f'My sell price is: {sell:.8f}')\n",
    "    print(f'My stop loss is: ${stop_loss:.8f}')\n",
    "    print(f'My stop loss percentage: {round(stop_loss_percent * 100)}%')\n",
    "    print(f'Total long buy-in: ${position:.2f}')\n",
    "    print(f'Total target sell: ${buy_back:.2f}')\n",
    "    print(f'Percentage Profit: {percent:.2%}')\n",
    "\n",
    "\n",
    "    \n",
    "long_buy = 0.06851 \n",
    "desired_profit = 140.00\n",
    "volume = 25000\n",
    "stop_loss_percentage = 12\n",
    "\n",
    "long_calculator(long_buy, desired_profit, volume, stop_loss_percentage, 'ADA')"
   ]
  },
  {
   "cell_type": "code",
   "execution_count": 6,
   "metadata": {},
   "outputs": [
    {
     "name": "stdout",
     "output_type": "stream",
     "text": [
      "Fib list = [0, 1, 1, 2, 3, 5, 8, 13, 21, 34, 55, 89, 144, 233, 377, 610, 987, 1597, 2584, 4181]\n",
      "------------------------------\n",
      "\n",
      "Golden Ratio: 1.618 Formula: (1 + √5) ÷ 2\n",
      "Extension 618: 0.618\n",
      "Extension 318: 0.382\n",
      "Extension 236: 0.236\n"
     ]
    }
   ],
   "source": [
    "def fib(end=20):\n",
    "    n1 = 0\n",
    "    n2 = 1\n",
    "    cntr = 0\n",
    "    fibs = []\n",
    "    \n",
    "    while cntr < end:\n",
    "        fibs.append(n1)\n",
    "        nth = n1 + n2\n",
    "        n1 = n2\n",
    "        n2 = nth\n",
    "        cntr += 1\n",
    "    return fibs\n",
    "\n",
    "fibs = fib(20)\n",
    "print(f'Fib list = {fibs}')\n",
    "\n",
    "print(('-'*30) + '\\n')\n",
    "\n",
    "golden = (1 + np.sqrt(5)) / 2\n",
    "dot618 = -(1 - np.sqrt(5)) / 2\n",
    "dot382 = np.square(dot618)\n",
    "dot236 = dot382 * dot618\n",
    "print(f'Golden Ratio: {golden:.3f} Formula: (1 + \\u221A5) \\u00F7 2')\n",
    "print(f'Extension 618: {dot618:.3f}')\n",
    "print(f'Extension 318: {dot382:.3f}')\n",
    "print(f'Extension 236: {dot236:.3f}')"
   ]
  },
  {
   "cell_type": "code",
   "execution_count": 5,
   "metadata": {},
   "outputs": [
    {
     "data": {
      "text/plain": [
       "0.14589803375031551"
      ]
     },
     "execution_count": 5,
     "metadata": {},
     "output_type": "execute_result"
    }
   ],
   "source": [
    "dot618**4"
   ]
  },
  {
   "cell_type": "code",
   "execution_count": null,
   "metadata": {},
   "outputs": [],
   "source": []
  }
 ],
 "metadata": {
  "kernelspec": {
   "display_name": "Python 3",
   "language": "python",
   "name": "python3"
  },
  "language_info": {
   "codemirror_mode": {
    "name": "ipython",
    "version": 3
   },
   "file_extension": ".py",
   "mimetype": "text/x-python",
   "name": "python",
   "nbconvert_exporter": "python",
   "pygments_lexer": "ipython3",
   "version": "3.6.8"
  },
  "toc": {
   "base_numbering": 1,
   "nav_menu": {},
   "number_sections": true,
   "sideBar": true,
   "skip_h1_title": false,
   "title_cell": "Table of Contents",
   "title_sidebar": "Contents",
   "toc_cell": true,
   "toc_position": {},
   "toc_section_display": true,
   "toc_window_display": true
  }
 },
 "nbformat": 4,
 "nbformat_minor": 2
}
