{
 "cells": [
  {
   "cell_type": "markdown",
   "metadata": {},
   "source": [
    "# Finding MetaCharacters\n",
    "\n",
    "Here’s a complete list of the metacharacters used in regular expressions:\n",
    "\n",
    "```python\n",
    ". ^ $ * + ? { } [ ] \\ | ( )\n",
    "```\n",
    "\n",
    "As we mentioned in the previous lesson, these metacharacters are used to give special instructions and can't be searched for directly. If we want to search for these metacharacters directly in strings we need to escape them first. Just like with Python string literals, we can use the backslash (`\\`) to escape all the metacharacters. Let’s see an example.\n",
    "\n",
    "Let's try to find the period (`.`) at the end of our `sample_text` again, but this time we will use a backslash (`\\`) in our regular expression to remove the period's special meaning, as shown in the code below:"
   ]
  },
  {
   "cell_type": "code",
   "execution_count": 166,
   "metadata": {},
   "outputs": [
    {
     "name": "stdout",
     "output_type": "stream",
     "text": [
      "Walterfoo\n",
      "walkingfoo\n"
     ]
    }
   ],
   "source": [
    "# Import re module\n",
    "import re\n",
    "\n",
    "# Sample text\n",
    "sample_text = 'Alice and Walterfoo are walkingfoo to the store.'\n",
    "\n",
    "# Create a regular expression object with the regular expression '\\.'\n",
    "regex = re.compile(r'\\w*foo\\b')\n",
    "\n",
    "# Search the sample_text for the regular expression\n",
    "matches = regex.finditer(sample_text)\n",
    "\n",
    "# Print all the matches\n",
    "for match in matches:\n",
    "    b, e = match.span()\n",
    "    print(sample_text[b:e])"
   ]
  },
  {
   "cell_type": "markdown",
   "metadata": {},
   "source": [
    "We can see that now, we have managed to find only the period (`.`) at the end of the `sample_text` string, as was intended. \n",
    "\n",
    "To search for any of the other metacharacters we can do exactly the same thing."
   ]
  },
  {
   "cell_type": "markdown",
   "metadata": {},
   "source": [
    "# TODO: Find All The MetaCharacters\n",
    "\n",
    "In the cell below, we have a string that contains all the metacharacters. Write a single regular expression to check that you can match all the metacharacters using a backslash, and save the regular expression object in a variable called `regex`. Then use the `.finditer()` method to search the `sample_text` string for the given regular expression.  Then, write a loop to print all the `matches` found by the `.finditer()` method. Finally, use the ` match.span()` method to print the match from the `sample_text` string."
   ]
  },
  {
   "cell_type": "code",
   "execution_count": 167,
   "metadata": {},
   "outputs": [
    {
     "name": "stdout",
     "output_type": "stream",
     "text": [
      ".\n",
      "^\n",
      "$\n",
      "*\n",
      "+\n",
      "?\n",
      "{\n",
      "}\n",
      "[\n",
      "]\n",
      "\\\n",
      "|\n",
      "(\n",
      ")\n"
     ]
    }
   ],
   "source": [
    "# Import re module\n",
    "\n",
    "\n",
    "# Sample text\n",
    "sample_text = '. ^ $ * + ? { } [ ] \\ | ( )'\n",
    "\n",
    "# Create a regular expression object with the regular expression \n",
    "st = sample_text.split()\n",
    "\n",
    "for r in st:\n",
    "    regex = re.compile(f'\\{r}')\n",
    "    \n",
    "    # Search the sample_text for the regular expression\n",
    "    matches = regex.finditer(sample_text) \n",
    "\n",
    "    # Print all the matches\n",
    "    for match in matches:\n",
    "        #print(match)\n",
    "        s, e = match.span()\n",
    "        print(sample_text[s:e])\n"
   ]
  },
  {
   "cell_type": "markdown",
   "metadata": {},
   "source": [
    "# TODO: Find The Price\n",
    "\n",
    "In the cell below, write a regular expression that matches the price of the coat bought by John and save the regular expression object in a variable called `regex`. Then use the `.finditer()` method to search the `sample_text` string for the given regular expression.  Then, write a loop to print all the `matches` found by the `.finditer()` method . Finally, use the ` match.span()` method to print the match from the `sample_text` string."
   ]
  },
  {
   "cell_type": "code",
   "execution_count": 182,
   "metadata": {},
   "outputs": [
    {
     "name": "stdout",
     "output_type": "stream",
     "text": [
      "<_sre.SRE_Match object; span=(30, 39), match='$1,225.99'>\n",
      "$1,225.99\n"
     ]
    }
   ],
   "source": [
    "# Import re module\n",
    "\n",
    "\n",
    "# Sample text\n",
    "sample_text = 'John bought a winter coat for $1,225.99 dollars.'\n",
    "\n",
    "# Create a regular expression object with the regular expression\n",
    "regex = re.compile(r'\\$\\d,\\d*\\.\\d{2}') \n",
    "\n",
    "# Search the sample_text for the regular expression\n",
    "matches = regex.finditer(sample_text)\n",
    "\n",
    "# Print all the matches\n",
    "for match in matches:\n",
    "    print(match)\n",
    "    b, e = match.span()\n",
    "    print(sample_text[b:e])"
   ]
  },
  {
   "cell_type": "markdown",
   "metadata": {},
   "source": [
    "# Solution\n",
    "\n",
    "[Solution notebook](finding_metacharacters_solution.ipynb)"
   ]
  },
  {
   "cell_type": "code",
   "execution_count": null,
   "metadata": {},
   "outputs": [],
   "source": []
  }
 ],
 "metadata": {
  "kernelspec": {
   "display_name": "Python 3",
   "language": "python",
   "name": "python3"
  },
  "language_info": {
   "codemirror_mode": {
    "name": "ipython",
    "version": 3
   },
   "file_extension": ".py",
   "mimetype": "text/x-python",
   "name": "python",
   "nbconvert_exporter": "python",
   "pygments_lexer": "ipython3",
   "version": "3.6.8"
  },
  "toc": {
   "base_numbering": 1,
   "nav_menu": {},
   "number_sections": true,
   "sideBar": true,
   "skip_h1_title": false,
   "title_cell": "Table of Contents",
   "title_sidebar": "Contents",
   "toc_cell": false,
   "toc_position": {},
   "toc_section_display": true,
   "toc_window_display": false
  }
 },
 "nbformat": 4,
 "nbformat_minor": 2
}
