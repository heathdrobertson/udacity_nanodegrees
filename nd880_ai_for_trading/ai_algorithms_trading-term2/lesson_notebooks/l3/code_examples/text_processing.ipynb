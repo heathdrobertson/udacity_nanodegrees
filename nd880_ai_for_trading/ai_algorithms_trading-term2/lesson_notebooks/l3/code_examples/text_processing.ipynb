{
 "cells": [
  {
   "cell_type": "markdown",
   "metadata": {
    "toc": true
   },
   "source": [
    "<h1>Table of Contents<span class=\"tocSkip\"></span></h1>\n",
    "<div class=\"toc\"><ul class=\"toc-item\"><li><span><a href=\"#Text-Processing\" data-toc-modified-id=\"Text-Processing-1\"><span class=\"toc-item-num\">1&nbsp;&nbsp;</span>Text Processing</a></span><ul class=\"toc-item\"><li><span><a href=\"#Capturing-Text-Data\" data-toc-modified-id=\"Capturing-Text-Data-1.1\"><span class=\"toc-item-num\">1.1&nbsp;&nbsp;</span>Capturing Text Data</a></span><ul class=\"toc-item\"><li><span><a href=\"#Plain-Text\" data-toc-modified-id=\"Plain-Text-1.1.1\"><span class=\"toc-item-num\">1.1.1&nbsp;&nbsp;</span>Plain Text</a></span></li><li><span><a href=\"#Tabular-Data\" data-toc-modified-id=\"Tabular-Data-1.1.2\"><span class=\"toc-item-num\">1.1.2&nbsp;&nbsp;</span>Tabular Data</a></span></li><li><span><a href=\"#Online-Resource\" data-toc-modified-id=\"Online-Resource-1.1.3\"><span class=\"toc-item-num\">1.1.3&nbsp;&nbsp;</span>Online Resource</a></span></li></ul></li><li><span><a href=\"#Cleaning\" data-toc-modified-id=\"Cleaning-1.2\"><span class=\"toc-item-num\">1.2&nbsp;&nbsp;</span>Cleaning</a></span></li><li><span><a href=\"#Normalization\" data-toc-modified-id=\"Normalization-1.3\"><span class=\"toc-item-num\">1.3&nbsp;&nbsp;</span>Normalization</a></span><ul class=\"toc-item\"><li><span><a href=\"#Case-Normalization\" data-toc-modified-id=\"Case-Normalization-1.3.1\"><span class=\"toc-item-num\">1.3.1&nbsp;&nbsp;</span>Case Normalization</a></span></li><li><span><a href=\"#Punctuation-Removal\" data-toc-modified-id=\"Punctuation-Removal-1.3.2\"><span class=\"toc-item-num\">1.3.2&nbsp;&nbsp;</span>Punctuation Removal</a></span></li></ul></li><li><span><a href=\"#Tokenization\" data-toc-modified-id=\"Tokenization-1.4\"><span class=\"toc-item-num\">1.4&nbsp;&nbsp;</span>Tokenization</a></span><ul class=\"toc-item\"><li><span><a href=\"#NLTK:-Natural-Language-ToolKit\" data-toc-modified-id=\"NLTK:-Natural-Language-ToolKit-1.4.1\"><span class=\"toc-item-num\">1.4.1&nbsp;&nbsp;</span>NLTK: Natural Language ToolKit</a></span></li><li><span><a href=\"#Sentence-Parsing\" data-toc-modified-id=\"Sentence-Parsing-1.4.2\"><span class=\"toc-item-num\">1.4.2&nbsp;&nbsp;</span>Sentence Parsing</a></span></li></ul></li><li><span><a href=\"#Stemming-&amp;-Lemmatization\" data-toc-modified-id=\"Stemming-&amp;-Lemmatization-1.5\"><span class=\"toc-item-num\">1.5&nbsp;&nbsp;</span>Stemming &amp; Lemmatization</a></span><ul class=\"toc-item\"><li><span><a href=\"#Stemming\" data-toc-modified-id=\"Stemming-1.5.1\"><span class=\"toc-item-num\">1.5.1&nbsp;&nbsp;</span>Stemming</a></span></li><li><span><a href=\"#Lemmatization\" data-toc-modified-id=\"Lemmatization-1.5.2\"><span class=\"toc-item-num\">1.5.2&nbsp;&nbsp;</span>Lemmatization</a></span></li></ul></li></ul></li></ul></div>"
   ]
  },
  {
   "cell_type": "markdown",
   "metadata": {},
   "source": [
    "# Text Processing\n",
    "\n",
    "## Capturing Text Data\n",
    "\n",
    "### Plain Text"
   ]
  },
  {
   "cell_type": "code",
   "execution_count": 1,
   "metadata": {},
   "outputs": [
    {
     "name": "stdout",
     "output_type": "stream",
     "text": [
      "Hieroglyphic writing dates from c. 3000 BC, and is composed of hundreds of symbols. A hieroglyph can represent a word, a sound, or a silent determinative; and the same symbol can serve different purposes in different contexts. Hieroglyphs were a formal script, used on stone monuments and in tombs, that could be as detailed as individual works of art.\n",
      "\n"
     ]
    }
   ],
   "source": [
    "import os\n",
    "\n",
    "# Read in a plain text file\n",
    "with open(os.path.join(\"data\", \"hieroglyph.txt\"), \"r\") as f:\n",
    "    text = f.read()\n",
    "    print(text)"
   ]
  },
  {
   "cell_type": "markdown",
   "metadata": {},
   "source": [
    "### Tabular Data"
   ]
  },
  {
   "cell_type": "code",
   "execution_count": 2,
   "metadata": {
    "scrolled": true
   },
   "outputs": [
    {
     "data": {
      "text/html": [
       "<div>\n",
       "<style scoped>\n",
       "    .dataframe tbody tr th:only-of-type {\n",
       "        vertical-align: middle;\n",
       "    }\n",
       "\n",
       "    .dataframe tbody tr th {\n",
       "        vertical-align: top;\n",
       "    }\n",
       "\n",
       "    .dataframe thead th {\n",
       "        text-align: right;\n",
       "    }\n",
       "</style>\n",
       "<table border=\"1\" class=\"dataframe\">\n",
       "  <thead>\n",
       "    <tr style=\"text-align: right;\">\n",
       "      <th></th>\n",
       "      <th>publisher</th>\n",
       "      <th>title</th>\n",
       "    </tr>\n",
       "  </thead>\n",
       "  <tbody>\n",
       "    <tr>\n",
       "      <th>0</th>\n",
       "      <td>Livemint</td>\n",
       "      <td>fed's charles plosser sees high bar for change...</td>\n",
       "    </tr>\n",
       "    <tr>\n",
       "      <th>1</th>\n",
       "      <td>IFA Magazine</td>\n",
       "      <td>us open: stocks fall after fed official hints ...</td>\n",
       "    </tr>\n",
       "    <tr>\n",
       "      <th>2</th>\n",
       "      <td>IFA Magazine</td>\n",
       "      <td>fed risks falling 'behind the curve', charles ...</td>\n",
       "    </tr>\n",
       "    <tr>\n",
       "      <th>3</th>\n",
       "      <td>Moneynews</td>\n",
       "      <td>fed's plosser: nasty weather has curbed job gr...</td>\n",
       "    </tr>\n",
       "    <tr>\n",
       "      <th>4</th>\n",
       "      <td>NASDAQ</td>\n",
       "      <td>plosser: fed may have to accelerate tapering pace</td>\n",
       "    </tr>\n",
       "  </tbody>\n",
       "</table>\n",
       "</div>"
      ],
      "text/plain": [
       "      publisher                                              title\n",
       "0      Livemint  fed's charles plosser sees high bar for change...\n",
       "1  IFA Magazine  us open: stocks fall after fed official hints ...\n",
       "2  IFA Magazine  fed risks falling 'behind the curve', charles ...\n",
       "3     Moneynews  fed's plosser: nasty weather has curbed job gr...\n",
       "4        NASDAQ  plosser: fed may have to accelerate tapering pace"
      ]
     },
     "execution_count": 2,
     "metadata": {},
     "output_type": "execute_result"
    }
   ],
   "source": [
    "import pandas as pd\n",
    "\n",
    "# Extract text column from a dataframe\n",
    "df = pd.read_csv(os.path.join(\"data\", \"news.csv\"))\n",
    "df.head()[['publisher', 'title']]\n",
    "\n",
    "# Convert text column to lowercase\n",
    "df['title'] = df['title'].str.lower()\n",
    "df.head()[['publisher', 'title']]"
   ]
  },
  {
   "cell_type": "markdown",
   "metadata": {},
   "source": [
    "### Online Resource"
   ]
  },
  {
   "cell_type": "code",
   "execution_count": 3,
   "metadata": {
    "scrolled": true
   },
   "outputs": [
    {
     "name": "stdout",
     "output_type": "stream",
     "text": [
      "{\n",
      "    \"success\": {\n",
      "        \"total\": 1\n",
      "    },\n",
      "    \"contents\": {\n",
      "        \"quotes\": [\n",
      "            {\n",
      "                \"quote\": \"Once a man has made a commitment to a way of life, he puts the greatest strength in the world behind him. It's something we call heart power. Once a man has made his commitment, nothing will stop him short of success.\",\n",
      "                \"author\": \"Vince Lombardi\",\n",
      "                \"length\": \"217\",\n",
      "                \"tags\": [\n",
      "                    \"commitment\",\n",
      "                    \"inspire\",\n",
      "                    \"life\",\n",
      "                    \"success\"\n",
      "                ],\n",
      "                \"category\": \"inspire\",\n",
      "                \"title\": \"Inspiring Quote of the day\",\n",
      "                \"date\": \"2019-02-21\",\n",
      "                \"id\": null\n",
      "            }\n",
      "        ],\n",
      "        \"copyright\": \"2017-19 theysaidso.com\"\n",
      "    }\n",
      "}\n",
      "Once a man has made a commitment to a way of life, he puts the greatest strength in the world behind him. It's something we call heart power. Once a man has made his commitment, nothing will stop him short of success. \n",
      "-- Vince Lombardi\n"
     ]
    }
   ],
   "source": [
    "import requests\n",
    "import json\n",
    "\n",
    "# Fetch data from a REST API\n",
    "r = requests.get(\n",
    "    \"https://quotes.rest/qod.json\")\n",
    "res = r.json()\n",
    "print(json.dumps(res, indent=4))\n",
    "\n",
    "# Extract relevant object and field\n",
    "q = res[\"contents\"][\"quotes\"][0]\n",
    "print(q[\"quote\"], \"\\n--\", q[\"author\"])"
   ]
  },
  {
   "cell_type": "markdown",
   "metadata": {},
   "source": [
    "## Cleaning"
   ]
  },
  {
   "cell_type": "code",
   "execution_count": 4,
   "metadata": {
    "scrolled": true
   },
   "outputs": [
    {
     "name": "stdout",
     "output_type": "stream",
     "text": [
      "<html op=\"news\"><head><meta name=\"referrer\" content=\"origin\"><meta name=\"viewport\" content=\"width=device-width, initial-scale=1.0\"><link rel=\"stylesheet\" type=\"text/css\" href=\"news.css?CSD7Bg9bhGNzt2AWXpJ9\">\n",
      "            <link rel=\"shortcut icon\" href=\"favicon.ico\">\n",
      "          <link rel=\"alternate\" type=\"application/rss+xml\" title=\"RSS\" href=\"rss\">\n",
      "        <title>Hacker News</title></head><body><center><table id=\"hnmain\" border=\"0\" cellpadding=\"0\" cellspacing=\"0\" width=\"85%\" bgcolor=\"#f6f6ef\">\n",
      "        <tr><td bgcolor=\"#ff6600\"><table border=\"0\" cellpadding=\"0\" cellspacing=\"0\" width=\"100%\" style=\"padding:2px\"><tr><td style=\"width:18px;padding-right:4px\"><a href=\"https://news.ycombinator.com\"><img src=\"y18.gif\" width=\"18\" height=\"18\" style=\"border:1px white solid;\"></a></td>\n",
      "                  <td style=\"line-height:12pt; height:10px;\"><span class=\"pagetop\"><b class=\"hnname\"><a href=\"news\">Hacker News</a></b>\n",
      "              <a href=\"newest\">new</a> | <a href=\"newcomments\">comments</a> | <a href=\"ask\">ask</a> | <a href=\"show\">show</a> | <a href=\"jobs\">jobs</a> | <a href=\"submit\">submit</a>            </span></td><td style=\"text-align:right;padding-right:4px;\"><span class=\"pagetop\">\n",
      "                              <a href=\"login?goto=news\">login</a>\n",
      "                          </span></td>\n",
      "              </tr></table></td></tr>\n",
      "<tr id=\"pagespace\" title=\"\" style=\"height:10px\"></tr><tr><td><table border=\"0\" cellpadding=\"0\" cellspacing=\"0\" class=\"itemlist\">\n",
      "              <tr class='athing' id='19218339'>\n",
      "      <td align=\"right\" valign=\"top\" class=\"title\"><span class=\"rank\">1.</span></td>      <td valign=\"top\" class=\"votelinks\"><center><a id='up_19218339' href='vote?id=19218339&amp;how=up&amp;goto=news'><div class='votearrow' title='upvote'></div></a></center></td><td class=\"title\"><a href=\"https://www.nytimes.com/interactive/2019/02/21/magazine/elite-professionals-jobs-happiness.html\" class=\"storylink\">America’s Professional Elite: Wealthy, Successful and Miserable</a><span class=\"sitebit comhead\"> (<a href=\"from?site=nytimes.com\"><span class=\"sitestr\">nytimes.com</span></a>)</span></td></tr><tr><td colspan=\"2\"></td><td class=\"subtext\">\n",
      "        <span class=\"score\" id=\"score_19218339\">44 points</span> by <a href=\"user?id=ojbyrne\" class=\"hnuser\">ojbyrne</a> <span class=\"age\"><a href=\"item?id=19218339\">25 minutes ago</a></span> <span id=\"unv_19218339\"></span> | <a href=\"hide?id=19218339&amp;goto=news\">hide</a> | <a href=\"item?id=19218339\">33&nbsp;comments</a>              </td></tr>\n",
      "      <tr class=\"spacer\" style=\"height:5px\"></tr>\n",
      "                <tr class='athing' id='19216077'>\n",
      "      <td align=\"right\" valign=\"top\" class=\"title\"><span class=\"rank\">2.</span></td>      <td valign=\"top\" class=\"votelinks\"><center><a id='up_19216077' href='vote?id=19216077&amp;how=up&amp;goto=news'><div class='votearrow' title='upvote'></div></a></center></td><td class=\"title\"><a href=\"https://www.coi-dev.org/\" class=\"storylink\">COI – Chat Over IMAP</a><span class=\"sitebit comhead\"> (<a href=\"from?site=coi-dev.org\"><span class=\"sitestr\">coi-dev.org</span></a>)</span></td></tr><tr><td colspan=\"2\"></td><td class=\"subtext\">\n",
      "        <span class=\"score\" id=\"score_19216077\">394 points</span> by <a href=\"user?id=smartmic\" class=\"hnuser\">smartmic</a> <span class=\"age\"><a href=\"item?id=19216077\">6 hours ago</a></span> <span id=\"unv_19216077\"></span> | <a href=\"hide?id=19216077&amp;goto=news\">hide</a> | <a href=\"item?id=19216077\">153&nbsp;comments</a>              </td></tr>\n",
      "      <tr class=\"spacer\" style=\"height:5px\"></tr>\n",
      "                <tr class='athing' id='19217575'>\n",
      "      <td align=\"right\" valign=\"top\" class=\"title\"><span class=\"rank\">3.</span></td>      <td valign=\"top\" class=\"votelinks\"><center><a id='up_19217575' href='vote?id=19217575&amp;how=up&amp;goto=news'><div class='votearrow' title='upvote'></div></a></center></td><td class=\"title\"><a href=\"https://chartable.com/blog/golden-age-of-podcasts\" class=\"storylink\">We're Entering the Golden Age of Podcasts</a><span class=\"sitebit comhead\"> (<a href=\"from?site=chartable.com\"><span class=\"sitestr\">chartable.com</span></a>)</span></td></tr><tr><td colspan=\"2\"></td><td class=\"subtext\">\n",
      "        <span class=\"score\" id=\"score_19217575\">73 points</span> by <a href=\"user?id=andrewacove\" class=\"hnuser\">andrewacove</a> <span class=\"age\"><a href=\"item?id=19217575\">1 hour ago</a></span> <span id=\"unv_19217575\"></span> | <a href=\"hide?id=19217575&amp;goto=news\">hide</a> | <a href=\"item?id=19217575\">90&nbsp;comments</a>              </td></tr>\n",
      "      <tr class=\"spacer\" style=\"height:5px\"></tr>\n",
      "                <tr class='athing' id='19218097'>\n",
      "      <td align=\"right\" valign=\"top\" class=\"title\"><span class=\"rank\">4.</span></td>      <td valign=\"top\" class=\"votelinks\"><center><a id='up_19218097' href='vote?id=19218097&amp;how=up&amp;goto=news'><div class='votearrow' title='upvote'></div></a></center></td><td class=\"title\"><a href=\"https://dave.cheney.net/practical-go/presentations/qcon-china.html\" class=\"storylink\">Practical Go: Real World Advice for Writing Maintainable Go Programs</a><span class=\"sitebit comhead\"> (<a href=\"from?site=cheney.net\"><span class=\"sitestr\">cheney.net</span></a>)</span></td></tr><tr><td colspan=\"2\"></td><td class=\"subtext\">\n",
      "        <span class=\"score\" id=\"score_19218097\">27 points</span> by <a href=\"user?id=ra7\" class=\"hnuser\">ra7</a> <span class=\"age\"><a href=\"item?id=19218097\">48 minutes ago</a></span> <span id=\"unv_19218097\"></span> | <a href=\"hide?id=19218097&amp;goto=news\">hide</a> | <a href=\"item?id=19218097\">1&nbsp;comment</a>              </td></tr>\n",
      "      <tr class=\"spacer\" style=\"height:5px\"></tr>\n",
      "                <tr class='athing' id='19216315'>\n",
      "      <td align=\"right\" valign=\"top\" class=\"title\"><span class=\"rank\">5.</span></td>      <td valign=\"top\" class=\"votelinks\"><center><a id='up_19216315' href='vote?id=19216315&amp;how=up&amp;goto=news'><div class='votearrow' title='upvote'></div></a></center></td><td class=\"title\"><a href=\"http://explain.depesz.com\" class=\"storylink\">PostgreSQL's Explain Analyze Made Readable</a><span class=\"sitebit comhead\"> (<a href=\"from?site=depesz.com\"><span class=\"sitestr\">depesz.com</span></a>)</span></td></tr><tr><td colspan=\"2\"></td><td class=\"subtext\">\n",
      "        <span class=\"score\" id=\"score_19216315\">167 points</span> by <a href=\"user?id=GordonS\" class=\"hnuser\">GordonS</a> <span class=\"age\"><a href=\"item?id=19216315\">5 hours ago</a></span> <span id=\"unv_19216315\"></span> | <a href=\"hide?id=19216315&amp;goto=news\">hide</a> | <a href=\"item?id=19216315\">33&nbsp;comments</a>              </td></tr>\n",
      "      <tr class=\"spacer\" style=\"height:5px\"></tr>\n",
      "                <tr class='athing' id='19216568'>\n",
      "      <td align=\"right\" valign=\"top\" class=\"title\"><span class=\"rank\">6.</span></td>      <td valign=\"top\" class=\"votelinks\"><center><a id='up_19216568' href='vote?id=19216568&amp;how=up&amp;goto=news'><div class='votearrow' title='upvote'></div></a></center></td><td class=\"title\"><a href=\"https://github.com/GENIVI/ramses\" class=\"storylink\">Ramses – A distributed system for rendering 3D content</a><span class=\"sitebit comhead\"> (<a href=\"from?site=github.com\"><span class=\"sitestr\">github.com</span></a>)</span></td></tr><tr><td colspan=\"2\"></td><td class=\"subtext\">\n",
      "        <span class=\"score\" id=\"score_19216568\">89 points</span> by <a href=\"user?id=desdiv\" class=\"hnuser\">desdiv</a> <span class=\"age\"><a href=\"item?id=19216568\">4 hours ago</a></span> <span id=\"unv_19216568\"></span> | <a href=\"hide?id=19216568&amp;goto=news\">hide</a> | <a href=\"item?id=19216568\">15&nbsp;comments</a>              </td></tr>\n",
      "      <tr class=\"spacer\" style=\"height:5px\"></tr>\n",
      "                <tr class='athing' id='19215934'>\n",
      "      <td align=\"right\" valign=\"top\" class=\"title\"><span class=\"rank\">7.</span></td>      <td valign=\"top\" class=\"votelinks\"><center><a id='up_19215934' href='vote?id=19215934&amp;how=up&amp;goto=news'><div class='votearrow' title='upvote'></div></a></center></td><td class=\"title\"><a href=\"https://www.norway.no/en/indonesia/norway-indonesia/news-events/news2/indonesia-reports-reduced-deforestation-triggering-first-carbon-payment-from-norway/\" class=\"storylink\">Indonesia reports reduced deforestation, triggering carbon payment from Norway</a><span class=\"sitebit comhead\"> (<a href=\"from?site=norway.no\"><span class=\"sitestr\">norway.no</span></a>)</span></td></tr><tr><td colspan=\"2\"></td><td class=\"subtext\">\n",
      "        <span class=\"score\" id=\"score_19215934\">176 points</span> by <a href=\"user?id=ammaristotle\" class=\"hnuser\">ammaristotle</a> <span class=\"age\"><a href=\"item?id=19215934\">6 hours ago</a></span> <span id=\"unv_19215934\"></span> | <a href=\"hide?id=19215934&amp;goto=news\">hide</a> | <a href=\"item?id=19215934\">130&nbsp;comments</a>              </td></tr>\n",
      "      <tr class=\"spacer\" style=\"height:5px\"></tr>\n",
      "                <tr class='athing' id='19218178'>\n",
      "      <td align=\"right\" valign=\"top\" class=\"title\"><span class=\"rank\">8.</span></td>      <td valign=\"top\" class=\"votelinks\"><center><a id='up_19218178' href='vote?id=19218178&amp;how=up&amp;goto=news'><div class='votearrow' title='upvote'></div></a></center></td><td class=\"title\"><a href=\"https://puri.sm/posts/massive-progress-exact-cpu-selected-minor-shipping-adjustment/\" class=\"storylink\">Librem 5 Smartphone: Massive Progress, Exact CPU Selected, Shipping Adjustment</a><span class=\"sitebit comhead\"> (<a href=\"from?site=puri.sm\"><span class=\"sitestr\">puri.sm</span></a>)</span></td></tr><tr><td colspan=\"2\"></td><td class=\"subtext\">\n",
      "        <span class=\"score\" id=\"score_19218178\">12 points</span> by <a href=\"user?id=fghtr\" class=\"hnuser\">fghtr</a> <span class=\"age\"><a href=\"item?id=19218178\">41 minutes ago</a></span> <span id=\"unv_19218178\"></span> | <a href=\"hide?id=19218178&amp;goto=news\">hide</a> | <a href=\"item?id=19218178\">1&nbsp;comment</a>              </td></tr>\n",
      "      <tr class=\"spacer\" style=\"height:5px\"></tr>\n",
      "                <tr class='athing' id='19216101'>\n",
      "      <td align=\"right\" valign=\"top\" class=\"title\"><span class=\"rank\">9.</span></td>      <td valign=\"top\" class=\"votelinks\"><center><a id='up_19216101' href='vote?id=19216101&amp;how=up&amp;goto=news'><div class='votearrow' title='upvote'></div></a></center></td><td class=\"title\"><a href=\"https://www.instructables.com/id/Crazy-Circuits-an-Open-Source-Electronics-Learning/\" class=\"storylink\">Crazy Circuits: An Open Source Electronics Learning System</a><span class=\"sitebit comhead\"> (<a href=\"from?site=instructables.com\"><span class=\"sitestr\">instructables.com</span></a>)</span></td></tr><tr><td colspan=\"2\"></td><td class=\"subtext\">\n",
      "        <span class=\"score\" id=\"score_19216101\">118 points</span> by <a href=\"user?id=skilled\" class=\"hnuser\">skilled</a> <span class=\"age\"><a href=\"item?id=19216101\">5 hours ago</a></span> <span id=\"unv_19216101\"></span> | <a href=\"hide?id=19216101&amp;goto=news\">hide</a> | <a href=\"item?id=19216101\">8&nbsp;comments</a>              </td></tr>\n",
      "      <tr class=\"spacer\" style=\"height:5px\"></tr>\n",
      "                <tr class='athing' id='19216428'>\n",
      "      <td align=\"right\" valign=\"top\" class=\"title\"><span class=\"rank\">10.</span></td>      <td valign=\"top\" class=\"votelinks\"><center><a id='up_19216428' href='vote?id=19216428&amp;how=up&amp;goto=news'><div class='votearrow' title='upvote'></div></a></center></td><td class=\"title\"><a href=\"https://iconsvg.xyz/\" class=\"storylink\">Show HN: ICONSVG – Customize and Generate Common SVG Icons</a><span class=\"sitebit comhead\"> (<a href=\"from?site=iconsvg.xyz\"><span class=\"sitestr\">iconsvg.xyz</span></a>)</span></td></tr><tr><td colspan=\"2\"></td><td class=\"subtext\">\n",
      "        <span class=\"score\" id=\"score_19216428\">111 points</span> by <a href=\"user?id=gaddafirusli\" class=\"hnuser\">gaddafirusli</a> <span class=\"age\"><a href=\"item?id=19216428\">4 hours ago</a></span> <span id=\"unv_19216428\"></span> | <a href=\"hide?id=19216428&amp;goto=news\">hide</a> | <a href=\"item?id=19216428\">19&nbsp;comments</a>              </td></tr>\n",
      "      <tr class=\"spacer\" style=\"height:5px\"></tr>\n",
      "                <tr class='athing' id='19218036'>\n",
      "      <td align=\"right\" valign=\"top\" class=\"title\"><span class=\"rank\">11.</span></td>      <td valign=\"top\" class=\"votelinks\"><center><a id='up_19218036' href='vote?id=19218036&amp;how=up&amp;goto=news'><div class='votearrow' title='upvote'></div></a></center></td><td class=\"title\"><a href=\"https://twitter.com/alicegoldfuss/status/1098604563664420865\" class=\"storylink\">Travis CI Is Laying Off Senior Engineer Staff</a><span class=\"sitebit comhead\"> (<a href=\"from?site=twitter.com\"><span class=\"sitestr\">twitter.com</span></a>)</span></td></tr><tr><td colspan=\"2\"></td><td class=\"subtext\">\n",
      "        <span class=\"score\" id=\"score_19218036\">59 points</span> by <a href=\"user?id=kaycebasques\" class=\"hnuser\">kaycebasques</a> <span class=\"age\"><a href=\"item?id=19218036\">53 minutes ago</a></span> <span id=\"unv_19218036\"></span> | <a href=\"hide?id=19218036&amp;goto=news\">hide</a> | <a href=\"item?id=19218036\">16&nbsp;comments</a>              </td></tr>\n",
      "      <tr class=\"spacer\" style=\"height:5px\"></tr>\n",
      "                <tr class='athing' id='19214387'>\n",
      "      <td align=\"right\" valign=\"top\" class=\"title\"><span class=\"rank\">12.</span></td>      <td valign=\"top\" class=\"votelinks\"><center><a id='up_19214387' href='vote?id=19214387&amp;how=up&amp;goto=news'><div class='votearrow' title='upvote'></div></a></center></td><td class=\"title\"><a href=\"https://github.com/lemire/simdjson\" class=\"storylink\">Simdjson – Parsing Gigabytes of JSON per Second</a><span class=\"sitebit comhead\"> (<a href=\"from?site=github.com\"><span class=\"sitestr\">github.com</span></a>)</span></td></tr><tr><td colspan=\"2\"></td><td class=\"subtext\">\n",
      "        <span class=\"score\" id=\"score_19214387\">497 points</span> by <a href=\"user?id=cmsimike\" class=\"hnuser\">cmsimike</a> <span class=\"age\"><a href=\"item?id=19214387\">13 hours ago</a></span> <span id=\"unv_19214387\"></span> | <a href=\"hide?id=19214387&amp;goto=news\">hide</a> | <a href=\"item?id=19214387\">162&nbsp;comments</a>              </td></tr>\n",
      "      <tr class=\"spacer\" style=\"height:5px\"></tr>\n",
      "                <tr class='athing' id='19215045'>\n",
      "      <td align=\"right\" valign=\"top\" class=\"title\"><span class=\"rank\">13.</span></td>      <td valign=\"top\" class=\"votelinks\"><center><a id='up_19215045' href='vote?id=19215045&amp;how=up&amp;goto=news'><div class='votearrow' title='upvote'></div></a></center></td><td class=\"title\"><a href=\"https://thehypertextual.com/2012/12/10/ts-eliot-and-the-pyramid-of-knowledge-in-organisations/\" class=\"storylink\">TS Eliot and the Pyramid of Organisational Knowledge</a><span class=\"sitebit comhead\"> (<a href=\"from?site=thehypertextual.com\"><span class=\"sitestr\">thehypertextual.com</span></a>)</span></td></tr><tr><td colspan=\"2\"></td><td class=\"subtext\">\n",
      "        <span class=\"score\" id=\"score_19215045\">12 points</span> by <a href=\"user?id=gjvc\" class=\"hnuser\">gjvc</a> <span class=\"age\"><a href=\"item?id=19215045\">1 hour ago</a></span> <span id=\"unv_19215045\"></span> | <a href=\"hide?id=19215045&amp;goto=news\">hide</a> | <a href=\"item?id=19215045\">1&nbsp;comment</a>              </td></tr>\n",
      "      <tr class=\"spacer\" style=\"height:5px\"></tr>\n",
      "                <tr class='athing' id='19216303'>\n",
      "      <td align=\"right\" valign=\"top\" class=\"title\"><span class=\"rank\">14.</span></td>      <td valign=\"top\" class=\"votelinks\"><center><a id='up_19216303' href='vote?id=19216303&amp;how=up&amp;goto=news'><div class='votearrow' title='upvote'></div></a></center></td><td class=\"title\"><a href=\"https://www.newyorker.com/science/elements/a-different-kind-of-theory-of-everything\" class=\"storylink\">A Different Kind of Theory of Everything</a><span class=\"sitebit comhead\"> (<a href=\"from?site=newyorker.com\"><span class=\"sitestr\">newyorker.com</span></a>)</span></td></tr><tr><td colspan=\"2\"></td><td class=\"subtext\">\n",
      "        <span class=\"score\" id=\"score_19216303\">26 points</span> by <a href=\"user?id=evanb\" class=\"hnuser\">evanb</a> <span class=\"age\"><a href=\"item?id=19216303\">2 hours ago</a></span> <span id=\"unv_19216303\"></span> | <a href=\"hide?id=19216303&amp;goto=news\">hide</a> | <a href=\"item?id=19216303\">12&nbsp;comments</a>              </td></tr>\n",
      "      <tr class=\"spacer\" style=\"height:5px\"></tr>\n",
      "                <tr class='athing' id='19216243'>\n",
      "      <td align=\"right\" valign=\"top\" class=\"title\"><span class=\"rank\">15.</span></td>      <td valign=\"top\" class=\"votelinks\"><center><a id='up_19216243' href='vote?id=19216243&amp;how=up&amp;goto=news'><div class='votearrow' title='upvote'></div></a></center></td><td class=\"title\"><a href=\"https://shkspr.mobi/blog/2019/02/why-does-my-remote-control-need-to-know-my-location/\" class=\"storylink\">Why Does My Remote Control Need to Know My Location?</a><span class=\"sitebit comhead\"> (<a href=\"from?site=shkspr.mobi\"><span class=\"sitestr\">shkspr.mobi</span></a>)</span></td></tr><tr><td colspan=\"2\"></td><td class=\"subtext\">\n",
      "        <span class=\"score\" id=\"score_19216243\">130 points</span> by <a href=\"user?id=edent\" class=\"hnuser\">edent</a> <span class=\"age\"><a href=\"item?id=19216243\">5 hours ago</a></span> <span id=\"unv_19216243\"></span> | <a href=\"hide?id=19216243&amp;goto=news\">hide</a> | <a href=\"item?id=19216243\">109&nbsp;comments</a>              </td></tr>\n",
      "      <tr class=\"spacer\" style=\"height:5px\"></tr>\n",
      "                <tr class='athing' id='19215026'>\n",
      "      <td align=\"right\" valign=\"top\" class=\"title\"><span class=\"rank\">16.</span></td>      <td valign=\"top\" class=\"votelinks\"><center><a id='up_19215026' href='vote?id=19215026&amp;how=up&amp;goto=news'><div class='votearrow' title='upvote'></div></a></center></td><td class=\"title\"><a href=\"http://isomorphisms.sdf.org/maxdama.pdf\" class=\"storylink\">Introduction to Algotrading (2011) [pdf]</a><span class=\"sitebit comhead\"> (<a href=\"from?site=sdf.org\"><span class=\"sitestr\">sdf.org</span></a>)</span></td></tr><tr><td colspan=\"2\"></td><td class=\"subtext\">\n",
      "        <span class=\"score\" id=\"score_19215026\">272 points</span> by <a href=\"user?id=steventhedev\" class=\"hnuser\">steventhedev</a> <span class=\"age\"><a href=\"item?id=19215026\">10 hours ago</a></span> <span id=\"unv_19215026\"></span> | <a href=\"hide?id=19215026&amp;goto=news\">hide</a> | <a href=\"item?id=19215026\">67&nbsp;comments</a>              </td></tr>\n",
      "      <tr class=\"spacer\" style=\"height:5px\"></tr>\n",
      "                <tr class='athing' id='19214035'>\n",
      "      <td align=\"right\" valign=\"top\" class=\"title\"><span class=\"rank\">17.</span></td>      <td valign=\"top\" class=\"votelinks\"><center><a id='up_19214035' href='vote?id=19214035&amp;how=up&amp;goto=news'><div class='votearrow' title='upvote'></div></a></center></td><td class=\"title\"><a href=\"https://github.com/googlei18n/libphonenumber/blob/master/FALSEHOODS.md\" class=\"storylink\">Falsehoods Programmers Believe About Phone Numbers (2016)</a><span class=\"sitebit comhead\"> (<a href=\"from?site=github.com\"><span class=\"sitestr\">github.com</span></a>)</span></td></tr><tr><td colspan=\"2\"></td><td class=\"subtext\">\n",
      "        <span class=\"score\" id=\"score_19214035\">401 points</span> by <a href=\"user?id=striking\" class=\"hnuser\">striking</a> <span class=\"age\"><a href=\"item?id=19214035\">15 hours ago</a></span> <span id=\"unv_19214035\"></span> | <a href=\"hide?id=19214035&amp;goto=news\">hide</a> | <a href=\"item?id=19214035\">175&nbsp;comments</a>              </td></tr>\n",
      "      <tr class=\"spacer\" style=\"height:5px\"></tr>\n",
      "                <tr class='athing' id='19216373'>\n",
      "      <td align=\"right\" valign=\"top\" class=\"title\"><span class=\"rank\">18.</span></td>      <td valign=\"top\" class=\"votelinks\"><center><a id='up_19216373' href='vote?id=19216373&amp;how=up&amp;goto=news'><div class='votearrow' title='upvote'></div></a></center></td><td class=\"title\"><a href=\"https://www.vanityfair.com/news/2019/02/inside-elizabeth-holmess-final-months-at-theranos\" class=\"storylink\">Elizabeth Holmes' Final Months at Theranos</a><span class=\"sitebit comhead\"> (<a href=\"from?site=vanityfair.com\"><span class=\"sitestr\">vanityfair.com</span></a>)</span></td></tr><tr><td colspan=\"2\"></td><td class=\"subtext\">\n",
      "        <span class=\"score\" id=\"score_19216373\">51 points</span> by <a href=\"user?id=exogeny\" class=\"hnuser\">exogeny</a> <span class=\"age\"><a href=\"item?id=19216373\">4 hours ago</a></span> <span id=\"unv_19216373\"></span> | <a href=\"hide?id=19216373&amp;goto=news\">hide</a> | <a href=\"item?id=19216373\">31&nbsp;comments</a>              </td></tr>\n",
      "      <tr class=\"spacer\" style=\"height:5px\"></tr>\n",
      "                <tr class='athing' id='19216349'>\n",
      "      <td align=\"right\" valign=\"top\" class=\"title\"><span class=\"rank\">19.</span></td>      <td valign=\"top\" class=\"votelinks\"><center><a id='up_19216349' href='vote?id=19216349&amp;how=up&amp;goto=news'><div class='votearrow' title='upvote'></div></a></center></td><td class=\"title\"><a href=\"https://synthetic-minds.com/try\" class=\"storylink\">From Sudoku Solver to Program Synthesis</a><span class=\"sitebit comhead\"> (<a href=\"from?site=synthetic-minds.com\"><span class=\"sitestr\">synthetic-minds.com</span></a>)</span></td></tr><tr><td colspan=\"2\"></td><td class=\"subtext\">\n",
      "        <span class=\"score\" id=\"score_19216349\">24 points</span> by <a href=\"user?id=saurabh20n\" class=\"hnuser\">saurabh20n</a> <span class=\"age\"><a href=\"item?id=19216349\">3 hours ago</a></span> <span id=\"unv_19216349\"></span> | <a href=\"hide?id=19216349&amp;goto=news\">hide</a> | <a href=\"item?id=19216349\">8&nbsp;comments</a>              </td></tr>\n",
      "      <tr class=\"spacer\" style=\"height:5px\"></tr>\n",
      "                <tr class='athing' id='19215724'>\n",
      "      <td align=\"right\" valign=\"top\" class=\"title\"><span class=\"rank\">20.</span></td>      <td valign=\"top\" class=\"votelinks\"><center><a id='up_19215724' href='vote?id=19215724&amp;how=up&amp;goto=news'><div class='votearrow' title='upvote'></div></a></center></td><td class=\"title\"><a href=\"https://github.com/HarisIqbal88/PlotNeuralNet\" class=\"storylink\">PlotNeuralNet: Latex Code for Drawing Neural Networks</a><span class=\"sitebit comhead\"> (<a href=\"from?site=github.com\"><span class=\"sitestr\">github.com</span></a>)</span></td></tr><tr><td colspan=\"2\"></td><td class=\"subtext\">\n",
      "        <span class=\"score\" id=\"score_19215724\">57 points</span> by <a href=\"user?id=EvgeniyZh\" class=\"hnuser\">EvgeniyZh</a> <span class=\"age\"><a href=\"item?id=19215724\">7 hours ago</a></span> <span id=\"unv_19215724\"></span> | <a href=\"hide?id=19215724&amp;goto=news\">hide</a> | <a href=\"item?id=19215724\">12&nbsp;comments</a>              </td></tr>\n",
      "      <tr class=\"spacer\" style=\"height:5px\"></tr>\n",
      "                <tr class='athing' id='19217495'>\n",
      "      <td align=\"right\" valign=\"top\" class=\"title\"><span class=\"rank\">21.</span></td>      <td></td><td class=\"title\"><a href=\"https://www.flexport.com/careers/department/engineering\" class=\"storylink\" rel=\"nofollow\">Flexport is hiring software engineers in Chicago</a><span class=\"sitebit comhead\"> (<a href=\"from?site=flexport.com\"><span class=\"sitestr\">flexport.com</span></a>)</span></td></tr><tr><td colspan=\"2\"></td><td class=\"subtext\">\n",
      "        <span class=\"age\"><a href=\"item?id=19217495\">2 hours ago</a></span> | <a href=\"hide?id=19217495&amp;goto=news\">hide</a>      </td></tr>\n",
      "      <tr class=\"spacer\" style=\"height:5px\"></tr>\n",
      "                <tr class='athing' id='19216356'>\n",
      "      <td align=\"right\" valign=\"top\" class=\"title\"><span class=\"rank\">22.</span></td>      <td valign=\"top\" class=\"votelinks\"><center><a id='up_19216356' href='vote?id=19216356&amp;how=up&amp;goto=news'><div class='votearrow' title='upvote'></div></a></center></td><td class=\"title\"><a href=\"http://www.oranlooney.com/post/fibonacci/\" class=\"storylink\" rel=\"nofollow\">A Fairly Fast Fibonacci Function</a><span class=\"sitebit comhead\"> (<a href=\"from?site=oranlooney.com\"><span class=\"sitestr\">oranlooney.com</span></a>)</span></td></tr><tr><td colspan=\"2\"></td><td class=\"subtext\">\n",
      "        <span class=\"score\" id=\"score_19216356\">7 points</span> by <a href=\"user?id=olooney\" class=\"hnuser\">olooney</a> <span class=\"age\"><a href=\"item?id=19216356\">1 hour ago</a></span> <span id=\"unv_19216356\"></span> | <a href=\"hide?id=19216356&amp;goto=news\">hide</a> | <a href=\"item?id=19216356\">1&nbsp;comment</a>              </td></tr>\n",
      "      <tr class=\"spacer\" style=\"height:5px\"></tr>\n",
      "                <tr class='athing' id='19214512'>\n",
      "      <td align=\"right\" valign=\"top\" class=\"title\"><span class=\"rank\">23.</span></td>      <td valign=\"top\" class=\"votelinks\"><center><a id='up_19214512' href='vote?id=19214512&amp;how=up&amp;goto=news'><div class='votearrow' title='upvote'></div></a></center></td><td class=\"title\"><a href=\"https://docs.google.com/document/d/1wkJ6Ruh2IiR-caT-PS3n5Yt5VKcmIsVhuQwjgqK7030/edit\" class=\"storylink\">My Notes on How to Start a Startup by YC</a><span class=\"sitebit comhead\"> (<a href=\"from?site=docs.google.com\"><span class=\"sitestr\">docs.google.com</span></a>)</span></td></tr><tr><td colspan=\"2\"></td><td class=\"subtext\">\n",
      "        <span class=\"score\" id=\"score_19214512\">285 points</span> by <a href=\"user?id=charleswzx\" class=\"hnuser\">charleswzx</a> <span class=\"age\"><a href=\"item?id=19214512\">13 hours ago</a></span> <span id=\"unv_19214512\"></span> | <a href=\"hide?id=19214512&amp;goto=news\">hide</a> | <a href=\"item?id=19214512\">61&nbsp;comments</a>              </td></tr>\n",
      "      <tr class=\"spacer\" style=\"height:5px\"></tr>\n",
      "                <tr class='athing' id='19217557'>\n",
      "      <td align=\"right\" valign=\"top\" class=\"title\"><span class=\"rank\">24.</span></td>      <td valign=\"top\" class=\"votelinks\"><center><a id='up_19217557' href='vote?id=19217557&amp;how=up&amp;goto=news'><div class='votearrow' title='upvote'></div></a></center></td><td class=\"title\"><a href=\"https://techcrunch.com/2019/02/21/apple-could-be-working-with-goldman-sachs-on-a-credit-card/\" class=\"storylink\">Apple Could Be Working with Goldman Sachs on a Credit Card</a><span class=\"sitebit comhead\"> (<a href=\"from?site=techcrunch.com\"><span class=\"sitestr\">techcrunch.com</span></a>)</span></td></tr><tr><td colspan=\"2\"></td><td class=\"subtext\">\n",
      "        <span class=\"score\" id=\"score_19217557\">65 points</span> by <a href=\"user?id=sahin-boydas\" class=\"hnuser\">sahin-boydas</a> <span class=\"age\"><a href=\"item?id=19217557\">1 hour ago</a></span> <span id=\"unv_19217557\"></span> | <a href=\"hide?id=19217557&amp;goto=news\">hide</a> | <a href=\"item?id=19217557\">53&nbsp;comments</a>              </td></tr>\n",
      "      <tr class=\"spacer\" style=\"height:5px\"></tr>\n",
      "                <tr class='athing' id='19215276'>\n",
      "      <td align=\"right\" valign=\"top\" class=\"title\"><span class=\"rank\">25.</span></td>      <td valign=\"top\" class=\"votelinks\"><center><a id='up_19215276' href='vote?id=19215276&amp;how=up&amp;goto=news'><div class='votearrow' title='upvote'></div></a></center></td><td class=\"title\"><a href=\"https://www.hjorthjort.xyz/2019/02/20/2.7_million_medical_calls_breached_in_sweden_-_it%27s_pure_commedy.html\" class=\"storylink\">2.7M Medical Calls Breached in Sweden</a><span class=\"sitebit comhead\"> (<a href=\"from?site=hjorthjort.xyz\"><span class=\"sitestr\">hjorthjort.xyz</span></a>)</span></td></tr><tr><td colspan=\"2\"></td><td class=\"subtext\">\n",
      "        <span class=\"score\" id=\"score_19215276\">105 points</span> by <a href=\"user?id=phigcch\" class=\"hnuser\">phigcch</a> <span class=\"age\"><a href=\"item?id=19215276\">9 hours ago</a></span> <span id=\"unv_19215276\"></span> | <a href=\"hide?id=19215276&amp;goto=news\">hide</a> | <a href=\"item?id=19215276\">24&nbsp;comments</a>              </td></tr>\n",
      "      <tr class=\"spacer\" style=\"height:5px\"></tr>\n",
      "                <tr class='athing' id='19216681'>\n",
      "      <td align=\"right\" valign=\"top\" class=\"title\"><span class=\"rank\">26.</span></td>      <td valign=\"top\" class=\"votelinks\"><center><a id='up_19216681' href='vote?id=19216681&amp;how=up&amp;goto=news'><div class='votearrow' title='upvote'></div></a></center></td><td class=\"title\"><a href=\"https://www.reuters.com/article/us-eu-copyright/eu-countries-back-copyright-reforms-aimed-at-google-facebook-idUSKCN1Q91WO\" class=\"storylink\">EU Countries Back Copyright Reforms Aimed at Google, Facebook</a><span class=\"sitebit comhead\"> (<a href=\"from?site=reuters.com\"><span class=\"sitestr\">reuters.com</span></a>)</span></td></tr><tr><td colspan=\"2\"></td><td class=\"subtext\">\n",
      "        <span class=\"score\" id=\"score_19216681\">135 points</span> by <a href=\"user?id=d0ne\" class=\"hnuser\">d0ne</a> <span class=\"age\"><a href=\"item?id=19216681\">4 hours ago</a></span> <span id=\"unv_19216681\"></span> | <a href=\"hide?id=19216681&amp;goto=news\">hide</a> | <a href=\"item?id=19216681\">137&nbsp;comments</a>              </td></tr>\n",
      "      <tr class=\"spacer\" style=\"height:5px\"></tr>\n",
      "                <tr class='athing' id='19216827'>\n",
      "      <td align=\"right\" valign=\"top\" class=\"title\"><span class=\"rank\">27.</span></td>      <td valign=\"top\" class=\"votelinks\"><center><a id='up_19216827' href='vote?id=19216827&amp;how=up&amp;goto=news'><div class='votearrow' title='upvote'></div></a></center></td><td class=\"title\"><a href=\"https://delta.chat/\" class=\"storylink\">Delta Chat</a><span class=\"sitebit comhead\"> (<a href=\"from?site=delta.chat\"><span class=\"sitestr\">delta.chat</span></a>)</span></td></tr><tr><td colspan=\"2\"></td><td class=\"subtext\">\n",
      "        <span class=\"score\" id=\"score_19216827\">65 points</span> by <a href=\"user?id=AlphaWeaver\" class=\"hnuser\">AlphaWeaver</a> <span class=\"age\"><a href=\"item?id=19216827\">3 hours ago</a></span> <span id=\"unv_19216827\"></span> | <a href=\"hide?id=19216827&amp;goto=news\">hide</a> | <a href=\"item?id=19216827\">24&nbsp;comments</a>              </td></tr>\n",
      "      <tr class=\"spacer\" style=\"height:5px\"></tr>\n",
      "                <tr class='athing' id='19214141'>\n",
      "      <td align=\"right\" valign=\"top\" class=\"title\"><span class=\"rank\">28.</span></td>      <td valign=\"top\" class=\"votelinks\"><center><a id='up_19214141' href='vote?id=19214141&amp;how=up&amp;goto=news'><div class='votearrow' title='upvote'></div></a></center></td><td class=\"title\"><a href=\"http://www.esa.int/Our_Activities/Space_Science/Earth_s_atmosphere_stretches_out_to_the_Moon_and_beyond\" class=\"storylink\">Earth’s Atmosphere Stretches Out to the Moon and Beyond</a><span class=\"sitebit comhead\"> (<a href=\"from?site=esa.int\"><span class=\"sitestr\">esa.int</span></a>)</span></td></tr><tr><td colspan=\"2\"></td><td class=\"subtext\">\n",
      "        <span class=\"score\" id=\"score_19214141\">171 points</span> by <a href=\"user?id=sohkamyung\" class=\"hnuser\">sohkamyung</a> <span class=\"age\"><a href=\"item?id=19214141\">14 hours ago</a></span> <span id=\"unv_19214141\"></span> | <a href=\"hide?id=19214141&amp;goto=news\">hide</a> | <a href=\"item?id=19214141\">65&nbsp;comments</a>              </td></tr>\n",
      "      <tr class=\"spacer\" style=\"height:5px\"></tr>\n",
      "                <tr class='athing' id='19209957'>\n",
      "      <td align=\"right\" valign=\"top\" class=\"title\"><span class=\"rank\">29.</span></td>      <td valign=\"top\" class=\"votelinks\"><center><a id='up_19209957' href='vote?id=19209957&amp;how=up&amp;goto=news'><div class='votearrow' title='upvote'></div></a></center></td><td class=\"title\"><a href=\"https://www.nytimes.com/2019/02/20/us/politics/civil-asset-forfeiture-supreme-court.html\" class=\"storylink\">U.S. Supreme Court Puts Limits on Police Power to Seize Private Property</a><span class=\"sitebit comhead\"> (<a href=\"from?site=nytimes.com\"><span class=\"sitestr\">nytimes.com</span></a>)</span></td></tr><tr><td colspan=\"2\"></td><td class=\"subtext\">\n",
      "        <span class=\"score\" id=\"score_19209957\">1316 points</span> by <a href=\"user?id=ComputerGuru\" class=\"hnuser\">ComputerGuru</a> <span class=\"age\"><a href=\"item?id=19209957\">23 hours ago</a></span> <span id=\"unv_19209957\"></span> | <a href=\"hide?id=19209957&amp;goto=news\">hide</a> | <a href=\"item?id=19209957\">383&nbsp;comments</a>              </td></tr>\n",
      "      <tr class=\"spacer\" style=\"height:5px\"></tr>\n",
      "                <tr class='athing' id='19203772'>\n",
      "      <td align=\"right\" valign=\"top\" class=\"title\"><span class=\"rank\">30.</span></td>      <td valign=\"top\" class=\"votelinks\"><center><a id='up_19203772' href='vote?id=19203772&amp;how=up&amp;goto=news'><div class='votearrow' title='upvote'></div></a></center></td><td class=\"title\"><a href=\"http://news.cision.com/metsa-wood/r/metsa-wood--at-18-storeys--mjosa-tower-in-brumunddal-to-take-title-of-world-s-tallest-wooden-buildin,c2325089\" class=\"storylink\">At 18 Stories, Mjøsa Tower Is World’s Tallest Wooden Building</a><span class=\"sitebit comhead\"> (<a href=\"from?site=cision.com\"><span class=\"sitestr\">cision.com</span></a>)</span></td></tr><tr><td colspan=\"2\"></td><td class=\"subtext\">\n",
      "        <span class=\"score\" id=\"score_19203772\">180 points</span> by <a href=\"user?id=prostoalex\" class=\"hnuser\">prostoalex</a> <span class=\"age\"><a href=\"item?id=19203772\">14 hours ago</a></span> <span id=\"unv_19203772\"></span> | <a href=\"hide?id=19203772&amp;goto=news\">hide</a> | <a href=\"item?id=19203772\">134&nbsp;comments</a>              </td></tr>\n",
      "      <tr class=\"spacer\" style=\"height:5px\"></tr>\n",
      "            <tr class=\"morespace\" style=\"height:10px\"></tr><tr><td colspan=\"2\"></td><td class=\"title\"><a href=\"news?p=2\" class=\"morelink\" rel=\"nofollow\">More</a></td></tr>\n",
      "  </table>\n",
      "</td></tr>\n",
      "<tr><td><img src=\"s.gif\" height=\"10\" width=\"0\"><table width=\"100%\" cellspacing=\"0\" cellpadding=\"1\"><tr><td bgcolor=\"#ff6600\"></td></tr></table><br><center><a href=\"https://www.ycombinator.com/apply/\">\n",
      "        Applications are open for YC Summer 2019\n",
      "      </a></center><br><center><span class=\"yclinks\"><a href=\"newsguidelines.html\">Guidelines</a>\n",
      "        | <a href=\"newsfaq.html\">FAQ</a>\n",
      "        | <a href=\"mailto:hn@ycombinator.com\">Support</a>\n",
      "        | <a href=\"https://github.com/HackerNews/API\">API</a>\n",
      "        | <a href=\"security.html\">Security</a>\n",
      "        | <a href=\"lists\">Lists</a>\n",
      "        | <a href=\"bookmarklet.html\" rel=\"nofollow\">Bookmarklet</a>\n",
      "        | <a href=\"http://www.ycombinator.com/legal/\">Legal</a>\n",
      "        | <a href=\"http://www.ycombinator.com/apply/\">Apply to YC</a>\n",
      "        | <a href=\"mailto:hn@ycombinator.com\">Contact</a></span><br><br><form method=\"get\" action=\"//hn.algolia.com/\">Search:\n",
      "          <input type=\"text\" name=\"q\" value=\"\" size=\"17\" autocorrect=\"off\" spellcheck=\"false\" autocapitalize=\"off\" autocomplete=\"false\"></form>\n",
      "            </center></td></tr>\n",
      "      </table></center></body><script type='text/javascript' src='hn.js?CSD7Bg9bhGNzt2AWXpJ9'></script>\n",
      "  </html>\n",
      "\n"
     ]
    }
   ],
   "source": [
    "import requests\n",
    "\n",
    "# Fetch a web page\n",
    "r = requests.get(\"https://news.ycombinator.com\")\n",
    "print(r.text)"
   ]
  },
  {
   "cell_type": "code",
   "execution_count": 7,
   "metadata": {},
   "outputs": [
    {
     "name": "stdout",
     "output_type": "stream",
     "text": [
      "\n",
      "            \n",
      "          \n",
      "        Hacker News\n",
      "        \n",
      "                  Hacker News\n",
      "              new | comments | ask | show | jobs | submit            \n",
      "                              login\n",
      "                          \n",
      "              \n",
      "\n",
      "              \n",
      "      1.      America’s Professional Elite: Wealthy, Successful and Miserable (nytimes.com)\n",
      "        44 points by ojbyrne 25 minutes ago  | hide | 33&nbsp;comments              \n",
      "      \n",
      "                \n",
      "      2.      COI – Chat Over IMAP (coi-dev.org)\n",
      "        394 points by smartmic 6 hours ago  | hide | 153&nbsp;comments              \n",
      "      \n",
      "                \n",
      "      3.      We're Entering the Golden Age of Podcasts (chartable.com)\n",
      "        73 points by andrewacove 1 hour ago  | hide | 90&nbsp;comments              \n",
      "      \n",
      "                \n",
      "      4.      Practical Go: Real World Advice for Writing Maintainable Go Programs (cheney.net)\n",
      "        27 points by ra7 48 minutes ago  | hide | 1&nbsp;comment              \n",
      "      \n",
      "                \n",
      "      5.      PostgreSQL's Explain Analyze Made Readable (depesz.com)\n",
      "        167 points by GordonS 5 hours ago  | hide | 33&nbsp;comments              \n",
      "      \n",
      "                \n",
      "      6.      Ramses – A distributed system for rendering 3D content (github.com)\n",
      "        89 points by desdiv 4 hours ago  | hide | 15&nbsp;comments              \n",
      "      \n",
      "                \n",
      "      7.      Indonesia reports reduced deforestation, triggering carbon payment from Norway (norway.no)\n",
      "        176 points by ammaristotle 6 hours ago  | hide | 130&nbsp;comments              \n",
      "      \n",
      "                \n",
      "      8.      Librem 5 Smartphone: Massive Progress, Exact CPU Selected, Shipping Adjustment (puri.sm)\n",
      "        12 points by fghtr 41 minutes ago  | hide | 1&nbsp;comment              \n",
      "      \n",
      "                \n",
      "      9.      Crazy Circuits: An Open Source Electronics Learning System (instructables.com)\n",
      "        118 points by skilled 5 hours ago  | hide | 8&nbsp;comments              \n",
      "      \n",
      "                \n",
      "      10.      Show HN: ICONSVG – Customize and Generate Common SVG Icons (iconsvg.xyz)\n",
      "        111 points by gaddafirusli 4 hours ago  | hide | 19&nbsp;comments              \n",
      "      \n",
      "                \n",
      "      11.      Travis CI Is Laying Off Senior Engineer Staff (twitter.com)\n",
      "        59 points by kaycebasques 53 minutes ago  | hide | 16&nbsp;comments              \n",
      "      \n",
      "                \n",
      "      12.      Simdjson – Parsing Gigabytes of JSON per Second (github.com)\n",
      "        497 points by cmsimike 13 hours ago  | hide | 162&nbsp;comments              \n",
      "      \n",
      "                \n",
      "      13.      TS Eliot and the Pyramid of Organisational Knowledge (thehypertextual.com)\n",
      "        12 points by gjvc 1 hour ago  | hide | 1&nbsp;comment              \n",
      "      \n",
      "                \n",
      "      14.      A Different Kind of Theory of Everything (newyorker.com)\n",
      "        26 points by evanb 2 hours ago  | hide | 12&nbsp;comments              \n",
      "      \n",
      "                \n",
      "      15.      Why Does My Remote Control Need to Know My Location? (shkspr.mobi)\n",
      "        130 points by edent 5 hours ago  | hide | 109&nbsp;comments              \n",
      "      \n",
      "                \n",
      "      16.      Introduction to Algotrading (2011) [pdf] (sdf.org)\n",
      "        272 points by steventhedev 10 hours ago  | hide | 67&nbsp;comments              \n",
      "      \n",
      "                \n",
      "      17.      Falsehoods Programmers Believe About Phone Numbers (2016) (github.com)\n",
      "        401 points by striking 15 hours ago  | hide | 175&nbsp;comments              \n",
      "      \n",
      "                \n",
      "      18.      Elizabeth Holmes' Final Months at Theranos (vanityfair.com)\n",
      "        51 points by exogeny 4 hours ago  | hide | 31&nbsp;comments              \n",
      "      \n",
      "                \n",
      "      19.      From Sudoku Solver to Program Synthesis (synthetic-minds.com)\n",
      "        24 points by saurabh20n 3 hours ago  | hide | 8&nbsp;comments              \n",
      "      \n",
      "                \n",
      "      20.      PlotNeuralNet: Latex Code for Drawing Neural Networks (github.com)\n",
      "        57 points by EvgeniyZh 7 hours ago  | hide | 12&nbsp;comments              \n",
      "      \n",
      "                \n",
      "      21.      Flexport is hiring software engineers in Chicago (flexport.com)\n",
      "        2 hours ago | hide      \n",
      "      \n",
      "                \n",
      "      22.      A Fairly Fast Fibonacci Function (oranlooney.com)\n",
      "        7 points by olooney 1 hour ago  | hide | 1&nbsp;comment              \n",
      "      \n",
      "                \n",
      "      23.      My Notes on How to Start a Startup by YC (docs.google.com)\n",
      "        285 points by charleswzx 13 hours ago  | hide | 61&nbsp;comments              \n",
      "      \n",
      "                \n",
      "      24.      Apple Could Be Working with Goldman Sachs on a Credit Card (techcrunch.com)\n",
      "        65 points by sahin-boydas 1 hour ago  | hide | 53&nbsp;comments              \n",
      "      \n",
      "                \n",
      "      25.      2.7M Medical Calls Breached in Sweden (hjorthjort.xyz)\n",
      "        105 points by phigcch 9 hours ago  | hide | 24&nbsp;comments              \n",
      "      \n",
      "                \n",
      "      26.      EU Countries Back Copyright Reforms Aimed at Google, Facebook (reuters.com)\n",
      "        135 points by d0ne 4 hours ago  | hide | 137&nbsp;comments              \n",
      "      \n",
      "                \n",
      "      27.      Delta Chat (delta.chat)\n",
      "        65 points by AlphaWeaver 3 hours ago  | hide | 24&nbsp;comments              \n",
      "      \n",
      "                \n",
      "      28.      Earth’s Atmosphere Stretches Out to the Moon and Beyond (esa.int)\n",
      "        171 points by sohkamyung 14 hours ago  | hide | 65&nbsp;comments              \n",
      "      \n",
      "                \n",
      "      29.      U.S. Supreme Court Puts Limits on Police Power to Seize Private Property (nytimes.com)\n",
      "        1316 points by ComputerGuru 23 hours ago  | hide | 383&nbsp;comments              \n",
      "      \n",
      "                \n",
      "      30.      At 18 Stories, Mjøsa Tower Is World’s Tallest Wooden Building (cision.com)\n",
      "        180 points by prostoalex 14 hours ago  | hide | 134&nbsp;comments              \n",
      "      \n",
      "            More\n",
      "  \n",
      "\n",
      "\n",
      "        Applications are open for YC Summer 2019\n",
      "      Guidelines\n",
      "        | FAQ\n",
      "        | Support\n",
      "        | API\n",
      "        | Security\n",
      "        | Lists\n",
      "        | Bookmarklet\n",
      "        | Legal\n",
      "        | Apply to YC\n",
      "        | ContactSearch:\n",
      "          \n",
      "            \n",
      "      \n",
      "  \n",
      "\n"
     ]
    }
   ],
   "source": [
    "import re\n",
    "\n",
    "# Remove HTML tags using RegEx\n",
    "pattern = re.compile(r'<.*?>')  # tags look like <...>\n",
    "print(pattern.sub('', r.text))  # replace them with blank"
   ]
  },
  {
   "cell_type": "code",
   "execution_count": 12,
   "metadata": {},
   "outputs": [
    {
     "name": "stdout",
     "output_type": "stream",
     "text": [
      "\n",
      "\n",
      "\n",
      "Hacker News\n",
      "\n",
      "Hacker News\n",
      "new | comments | ask | show | jobs | submit \n",
      "login\n",
      "\n",
      "\n",
      "\n",
      "\n",
      "1. America’s Professional Elite: Wealthy, Successful and Miserable (nytimes.com)\n",
      "44 points by ojbyrne 25 minutes ago  | hide | 33 comments \n",
      "\n",
      "\n",
      "2. COI – Chat Over IMAP (coi-dev.org)\n",
      "394 points by smartmic 6 hours ago  | hide | 153 comments \n",
      "\n",
      "\n",
      "3. We're Entering the Golden Age of Podcasts (chartable.com)\n",
      "73 points by andrewacove 1 hour ago  | hide | 90 comments \n",
      "\n",
      "\n",
      "4. Practical Go: Real World Advice for Writing Maintainable Go Programs (cheney.net)\n",
      "27 points by ra7 48 minutes ago  | hide | 1 comment \n",
      "\n",
      "\n",
      "5. PostgreSQL's Explain Analyze Made Readable (depesz.com)\n",
      "167 points by GordonS 5 hours ago  | hide | 33 comments \n",
      "\n",
      "\n",
      "6. Ramses – A distributed system for rendering 3D content (github.com)\n",
      "89 points by desdiv 4 hours ago  | hide | 15 comments \n",
      "\n",
      "\n",
      "7. Indonesia reports reduced deforestation, triggering carbon payment from Norway (norway.no)\n",
      "176 points by ammaristotle 6 hours ago  | hide | 130 comments \n",
      "\n",
      "\n",
      "8. Librem 5 Smartphone: Massive Progress, Exact CPU Selected, Shipping Adjustment (puri.sm)\n",
      "12 points by fghtr 41 minutes ago  | hide | 1 comment \n",
      "\n",
      "\n",
      "9. Crazy Circuits: An Open Source Electronics Learning System (instructables.com)\n",
      "118 points by skilled 5 hours ago  | hide | 8 comments \n",
      "\n",
      "\n",
      "10. Show HN: ICONSVG – Customize and Generate Common SVG Icons (iconsvg.xyz)\n",
      "111 points by gaddafirusli 4 hours ago  | hide | 19 comments \n",
      "\n",
      "\n",
      "11. Travis CI Is Laying Off Senior Engineer Staff (twitter.com)\n",
      "59 points by kaycebasques 53 minutes ago  | hide | 16 comments \n",
      "\n",
      "\n",
      "12. Simdjson – Parsing Gigabytes of JSON per Second (github.com)\n",
      "497 points by cmsimike 13 hours ago  | hide | 162 comments \n",
      "\n",
      "\n",
      "13. TS Eliot and the Pyramid of Organisational Knowledge (thehypertextual.com)\n",
      "12 points by gjvc 1 hour ago  | hide | 1 comment \n",
      "\n",
      "\n",
      "14. A Different Kind of Theory of Everything (newyorker.com)\n",
      "26 points by evanb 2 hours ago  | hide | 12 comments \n",
      "\n",
      "\n",
      "15. Why Does My Remote Control Need to Know My Location? (shkspr.mobi)\n",
      "130 points by edent 5 hours ago  | hide | 109 comments \n",
      "\n",
      "\n",
      "16. Introduction to Algotrading (2011) [pdf] (sdf.org)\n",
      "272 points by steventhedev 10 hours ago  | hide | 67 comments \n",
      "\n",
      "\n",
      "17. Falsehoods Programmers Believe About Phone Numbers (2016) (github.com)\n",
      "401 points by striking 15 hours ago  | hide | 175 comments \n",
      "\n",
      "\n",
      "18. Elizabeth Holmes' Final Months at Theranos (vanityfair.com)\n",
      "51 points by exogeny 4 hours ago  | hide | 31 comments \n",
      "\n",
      "\n",
      "19. From Sudoku Solver to Program Synthesis (synthetic-minds.com)\n",
      "24 points by saurabh20n 3 hours ago  | hide | 8 comments \n",
      "\n",
      "\n",
      "20. PlotNeuralNet: Latex Code for Drawing Neural Networks (github.com)\n",
      "57 points by EvgeniyZh 7 hours ago  | hide | 12 comments \n",
      "\n",
      "\n",
      "21. Flexport is hiring software engineers in Chicago (flexport.com)\n",
      "2 hours ago | hide \n",
      "\n",
      "\n",
      "22. A Fairly Fast Fibonacci Function (oranlooney.com)\n",
      "7 points by olooney 1 hour ago  | hide | 1 comment \n",
      "\n",
      "\n",
      "23. My Notes on How to Start a Startup by YC (docs.google.com)\n",
      "285 points by charleswzx 13 hours ago  | hide | 61 comments \n",
      "\n",
      "\n",
      "24. Apple Could Be Working with Goldman Sachs on a Credit Card (techcrunch.com)\n",
      "65 points by sahin-boydas 1 hour ago  | hide | 53 comments \n",
      "\n",
      "\n",
      "25. 2.7M Medical Calls Breached in Sweden (hjorthjort.xyz)\n",
      "105 points by phigcch 9 hours ago  | hide | 24 comments \n",
      "\n",
      "\n",
      "26. EU Countries Back Copyright Reforms Aimed at Google, Facebook (reuters.com)\n",
      "135 points by d0ne 4 hours ago  | hide | 137 comments \n",
      "\n",
      "\n",
      "27. Delta Chat (delta.chat)\n",
      "65 points by AlphaWeaver 3 hours ago  | hide | 24 comments \n",
      "\n",
      "\n",
      "28. Earth’s Atmosphere Stretches Out to the Moon and Beyond (esa.int)\n",
      "171 points by sohkamyung 14 hours ago  | hide | 65 comments \n",
      "\n",
      "\n",
      "29. U.S. Supreme Court Puts Limits on Police Power to Seize Private Property (nytimes.com)\n",
      "1316 points by ComputerGuru 23 hours ago  | hide | 383 comments \n",
      "\n",
      "\n",
      "30. At 18 Stories, Mjøsa Tower Is World’s Tallest Wooden Building (cision.com)\n",
      "180 points by prostoalex 14 hours ago  | hide | 134 comments \n",
      "\n",
      "More\n",
      "\n",
      "\n",
      "\n",
      "        Applications are open for YC Summer 2019\n",
      "      Guidelines\n",
      "        | FAQ\n",
      "        | Support\n",
      "        | API\n",
      "        | Security\n",
      "        | Lists\n",
      "        | Bookmarklet\n",
      "        | Legal\n",
      "        | Apply to YC\n",
      "        | ContactSearch:\n",
      "          \n",
      "\n",
      "\n",
      "\n",
      "\n"
     ]
    }
   ],
   "source": [
    "from bs4 import BeautifulSoup\n",
    "\n",
    "# Remove HTML tags using Beautiful Soup library\n",
    "soup = BeautifulSoup(r.text, \"html.parser\")\n",
    "print(soup.get_text())"
   ]
  },
  {
   "cell_type": "code",
   "execution_count": 13,
   "metadata": {
    "scrolled": true
   },
   "outputs": [
    {
     "data": {
      "text/plain": [
       "<tr class=\"athing\" id=\"19218339\">\n",
       "<td align=\"right\" class=\"title\" valign=\"top\"><span class=\"rank\">1.</span></td> <td class=\"votelinks\" valign=\"top\"><center><a href=\"vote?id=19218339&amp;how=up&amp;goto=news\" id=\"up_19218339\"><div class=\"votearrow\" title=\"upvote\"></div></a></center></td><td class=\"title\"><a class=\"storylink\" href=\"https://www.nytimes.com/interactive/2019/02/21/magazine/elite-professionals-jobs-happiness.html\">America’s Professional Elite: Wealthy, Successful and Miserable</a><span class=\"sitebit comhead\"> (<a href=\"from?site=nytimes.com\"><span class=\"sitestr\">nytimes.com</span></a>)</span></td></tr>"
      ]
     },
     "execution_count": 13,
     "metadata": {},
     "output_type": "execute_result"
    }
   ],
   "source": [
    "# Find all articles\n",
    "summaries = soup.find_all(\"tr\", class_=\"athing\")\n",
    "summaries[0]"
   ]
  },
  {
   "cell_type": "code",
   "execution_count": 14,
   "metadata": {},
   "outputs": [
    {
     "data": {
      "text/plain": [
       "'America’s Professional Elite: Wealthy, Successful and Miserable'"
      ]
     },
     "execution_count": 14,
     "metadata": {},
     "output_type": "execute_result"
    }
   ],
   "source": [
    "# Extract title\n",
    "summaries[0].find(\"a\", class_=\"storylink\").get_text().strip()"
   ]
  },
  {
   "cell_type": "code",
   "execution_count": 15,
   "metadata": {},
   "outputs": [
    {
     "name": "stdout",
     "output_type": "stream",
     "text": [
      "30 Article summaries found. Sample:\n",
      "America’s Professional Elite: Wealthy, Successful and Miserable\n"
     ]
    }
   ],
   "source": [
    "# Find all articles, extract titles\n",
    "articles = []\n",
    "summaries = soup.find_all(\"tr\", class_=\"athing\")\n",
    "for summary in summaries:\n",
    "    title = summary.find(\"a\", class_=\"storylink\").get_text().strip()\n",
    "    articles.append((title))\n",
    "\n",
    "print(len(articles), \"Article summaries found. Sample:\")\n",
    "print(articles[0])"
   ]
  },
  {
   "cell_type": "markdown",
   "metadata": {
    "collapsed": true
   },
   "source": [
    "## Normalization"
   ]
  },
  {
   "cell_type": "markdown",
   "metadata": {},
   "source": [
    "### Case Normalization"
   ]
  },
  {
   "cell_type": "code",
   "execution_count": 16,
   "metadata": {},
   "outputs": [
    {
     "name": "stdout",
     "output_type": "stream",
     "text": [
      "The first time you see The Second Renaissance it may look boring. Look at it at least twice and definitely watch part 2. It will change your view of the matrix. Are the human people the ones who started the war ? Is AI a bad thing ?\n"
     ]
    }
   ],
   "source": [
    "# Sample text\n",
    "text = \"The first time you see The Second Renaissance it may look boring. Look at it at least twice and definitely watch part 2. It will change your view of the matrix. Are the human people the ones who started the war ? Is AI a bad thing ?\"\n",
    "print(text)"
   ]
  },
  {
   "cell_type": "code",
   "execution_count": 17,
   "metadata": {},
   "outputs": [
    {
     "name": "stdout",
     "output_type": "stream",
     "text": [
      "the first time you see the second renaissance it may look boring. look at it at least twice and definitely watch part 2. it will change your view of the matrix. are the human people the ones who started the war ? is ai a bad thing ?\n"
     ]
    }
   ],
   "source": [
    "# Convert to lowercase\n",
    "text = text.lower() \n",
    "print(text)"
   ]
  },
  {
   "cell_type": "markdown",
   "metadata": {},
   "source": [
    "### Punctuation Removal"
   ]
  },
  {
   "cell_type": "code",
   "execution_count": 18,
   "metadata": {},
   "outputs": [
    {
     "name": "stdout",
     "output_type": "stream",
     "text": [
      "the first time you see the second renaissance it may look boring  look at it at least twice and definitely watch part 2  it will change your view of the matrix  are the human people the ones who started the war   is ai a bad thing  \n"
     ]
    }
   ],
   "source": [
    "import re\n",
    "\n",
    "# Remove punctuation characters\n",
    "text = re.sub(r\"[^a-zA-Z0-9]\", \" \", text) \n",
    "print(text)"
   ]
  },
  {
   "cell_type": "markdown",
   "metadata": {},
   "source": [
    "## Tokenization"
   ]
  },
  {
   "cell_type": "code",
   "execution_count": 19,
   "metadata": {},
   "outputs": [
    {
     "name": "stdout",
     "output_type": "stream",
     "text": [
      "['the', 'first', 'time', 'you', 'see', 'the', 'second', 'renaissance', 'it', 'may', 'look', 'boring', 'look', 'at', 'it', 'at', 'least', 'twice', 'and', 'definitely', 'watch', 'part', '2', 'it', 'will', 'change', 'your', 'view', 'of', 'the', 'matrix', 'are', 'the', 'human', 'people', 'the', 'ones', 'who', 'started', 'the', 'war', 'is', 'ai', 'a', 'bad', 'thing']\n"
     ]
    }
   ],
   "source": [
    "# Split text into tokens (words)\n",
    "words = text.split()\n",
    "print(words)"
   ]
  },
  {
   "cell_type": "markdown",
   "metadata": {},
   "source": [
    "### NLTK: Natural Language ToolKit"
   ]
  },
  {
   "cell_type": "code",
   "execution_count": 20,
   "metadata": {},
   "outputs": [],
   "source": [
    "import os\n",
    "import nltk\n",
    "nltk.data.path.append(os.path.join(os.getcwd(), \"nltk_data\"))"
   ]
  },
  {
   "cell_type": "code",
   "execution_count": 21,
   "metadata": {},
   "outputs": [
    {
     "name": "stdout",
     "output_type": "stream",
     "text": [
      "Dr. Smith graduated from the University of Washington. He later started an analytics firm called Lux, which catered to enterprise customers.\n"
     ]
    }
   ],
   "source": [
    "# Another sample text\n",
    "text = \"Dr. Smith graduated from the University of Washington. He later started an analytics firm called Lux, which catered to enterprise customers.\"\n",
    "print(text)"
   ]
  },
  {
   "cell_type": "code",
   "execution_count": 22,
   "metadata": {},
   "outputs": [
    {
     "name": "stdout",
     "output_type": "stream",
     "text": [
      "['Dr.', 'Smith', 'graduated', 'from', 'the', 'University', 'of', 'Washington', '.', 'He', 'later', 'started', 'an', 'analytics', 'firm', 'called', 'Lux', ',', 'which', 'catered', 'to', 'enterprise', 'customers', '.']\n"
     ]
    }
   ],
   "source": [
    "from nltk.tokenize import word_tokenize\n",
    "\n",
    "# Split text into words using NLTK\n",
    "words = word_tokenize(text)\n",
    "print(words)"
   ]
  },
  {
   "cell_type": "code",
   "execution_count": 23,
   "metadata": {},
   "outputs": [
    {
     "name": "stdout",
     "output_type": "stream",
     "text": [
      "['Dr. Smith graduated from the University of Washington.', 'He later started an analytics firm called Lux, which catered to enterprise customers.']\n"
     ]
    }
   ],
   "source": [
    "from nltk.tokenize import sent_tokenize\n",
    "\n",
    "# Split text into sentences\n",
    "sentences = sent_tokenize(text)\n",
    "print(sentences)"
   ]
  },
  {
   "cell_type": "code",
   "execution_count": 24,
   "metadata": {},
   "outputs": [
    {
     "name": "stdout",
     "output_type": "stream",
     "text": [
      "['i', 'me', 'my', 'myself', 'we', 'our', 'ours', 'ourselves', 'you', \"you're\", \"you've\", \"you'll\", \"you'd\", 'your', 'yours', 'yourself', 'yourselves', 'he', 'him', 'his', 'himself', 'she', \"she's\", 'her', 'hers', 'herself', 'it', \"it's\", 'its', 'itself', 'they', 'them', 'their', 'theirs', 'themselves', 'what', 'which', 'who', 'whom', 'this', 'that', \"that'll\", 'these', 'those', 'am', 'is', 'are', 'was', 'were', 'be', 'been', 'being', 'have', 'has', 'had', 'having', 'do', 'does', 'did', 'doing', 'a', 'an', 'the', 'and', 'but', 'if', 'or', 'because', 'as', 'until', 'while', 'of', 'at', 'by', 'for', 'with', 'about', 'against', 'between', 'into', 'through', 'during', 'before', 'after', 'above', 'below', 'to', 'from', 'up', 'down', 'in', 'out', 'on', 'off', 'over', 'under', 'again', 'further', 'then', 'once', 'here', 'there', 'when', 'where', 'why', 'how', 'all', 'any', 'both', 'each', 'few', 'more', 'most', 'other', 'some', 'such', 'no', 'nor', 'not', 'only', 'own', 'same', 'so', 'than', 'too', 'very', 's', 't', 'can', 'will', 'just', 'don', \"don't\", 'should', \"should've\", 'now', 'd', 'll', 'm', 'o', 're', 've', 'y', 'ain', 'aren', \"aren't\", 'couldn', \"couldn't\", 'didn', \"didn't\", 'doesn', \"doesn't\", 'hadn', \"hadn't\", 'hasn', \"hasn't\", 'haven', \"haven't\", 'isn', \"isn't\", 'ma', 'mightn', \"mightn't\", 'mustn', \"mustn't\", 'needn', \"needn't\", 'shan', \"shan't\", 'shouldn', \"shouldn't\", 'wasn', \"wasn't\", 'weren', \"weren't\", 'won', \"won't\", 'wouldn', \"wouldn't\"]\n"
     ]
    }
   ],
   "source": [
    "# List stop words\n",
    "from nltk.corpus import stopwords\n",
    "print(stopwords.words(\"english\"))"
   ]
  },
  {
   "cell_type": "code",
   "execution_count": 25,
   "metadata": {},
   "outputs": [
    {
     "name": "stdout",
     "output_type": "stream",
     "text": [
      "['the', 'first', 'time', 'you', 'see', 'the', 'second', 'renaissance', 'it', 'may', 'look', 'boring', 'look', 'at', 'it', 'at', 'least', 'twice', 'and', 'definitely', 'watch', 'part', '2', 'it', 'will', 'change', 'your', 'view', 'of', 'the', 'matrix', 'are', 'the', 'human', 'people', 'the', 'ones', 'who', 'started', 'the', 'war', 'is', 'ai', 'a', 'bad', 'thing']\n"
     ]
    }
   ],
   "source": [
    "# Reset text\n",
    "text = \"The first time you see The Second Renaissance it may look boring. Look at it at least twice and definitely watch part 2. It will change your view of the matrix. Are the human people the ones who started the war ? Is AI a bad thing ?\"\n",
    "\n",
    "# Normalize it\n",
    "text = re.sub(r\"[^a-zA-Z0-9]\", \" \", text.lower())\n",
    "\n",
    "# Tokenize it\n",
    "words = text.split()\n",
    "print(words)"
   ]
  },
  {
   "cell_type": "code",
   "execution_count": 26,
   "metadata": {},
   "outputs": [
    {
     "name": "stdout",
     "output_type": "stream",
     "text": [
      "['first', 'time', 'see', 'second', 'renaissance', 'may', 'look', 'boring', 'look', 'least', 'twice', 'definitely', 'watch', 'part', '2', 'change', 'view', 'matrix', 'human', 'people', 'ones', 'started', 'war', 'ai', 'bad', 'thing']\n"
     ]
    }
   ],
   "source": [
    "# Remove stop words\n",
    "words = [w for w in words if w not in stopwords.words(\"english\")]\n",
    "print(words)"
   ]
  },
  {
   "cell_type": "markdown",
   "metadata": {},
   "source": [
    "### Sentence Parsing"
   ]
  },
  {
   "cell_type": "code",
   "execution_count": 27,
   "metadata": {},
   "outputs": [
    {
     "name": "stdout",
     "output_type": "stream",
     "text": [
      "(S\n",
      "  (NP I)\n",
      "  (VP\n",
      "    (VP (V shot) (NP (Det an) (N elephant)))\n",
      "    (PP (P in) (NP (Det my) (N pajamas)))))\n",
      "(S\n",
      "  (NP I)\n",
      "  (VP\n",
      "    (V shot)\n",
      "    (NP (Det an) (N elephant) (PP (P in) (NP (Det my) (N pajamas))))))\n"
     ]
    }
   ],
   "source": [
    "import nltk\n",
    "\n",
    "# Define a custom grammar\n",
    "my_grammar = nltk.CFG.fromstring(\"\"\"\n",
    "S -> NP VP\n",
    "PP -> P NP\n",
    "NP -> Det N | Det N PP | 'I'\n",
    "VP -> V NP | VP PP\n",
    "Det -> 'an' | 'my'\n",
    "N -> 'elephant' | 'pajamas'\n",
    "V -> 'shot'\n",
    "P -> 'in'\n",
    "\"\"\")\n",
    "parser = nltk.ChartParser(my_grammar)\n",
    "\n",
    "# Parse a sentence\n",
    "sentence = word_tokenize(\"I shot an elephant in my pajamas\")\n",
    "for tree in parser.parse(sentence):\n",
    "    print(tree)"
   ]
  },
  {
   "cell_type": "markdown",
   "metadata": {},
   "source": [
    "## Stemming & Lemmatization\n",
    "\n",
    "### Stemming"
   ]
  },
  {
   "cell_type": "code",
   "execution_count": 28,
   "metadata": {},
   "outputs": [
    {
     "name": "stdout",
     "output_type": "stream",
     "text": [
      "['first', 'time', 'see', 'second', 'renaiss', 'may', 'look', 'bore', 'look', 'least', 'twice', 'definit', 'watch', 'part', '2', 'chang', 'view', 'matrix', 'human', 'peopl', 'one', 'start', 'war', 'ai', 'bad', 'thing']\n"
     ]
    }
   ],
   "source": [
    "from nltk.stem.porter import PorterStemmer\n",
    "\n",
    "# Reduce words to their stems\n",
    "stemmed = [PorterStemmer().stem(w) for w in words]\n",
    "print(stemmed)"
   ]
  },
  {
   "cell_type": "markdown",
   "metadata": {},
   "source": [
    "### Lemmatization"
   ]
  },
  {
   "cell_type": "code",
   "execution_count": 29,
   "metadata": {},
   "outputs": [
    {
     "name": "stdout",
     "output_type": "stream",
     "text": [
      "['first', 'time', 'see', 'second', 'renaissance', 'may', 'look', 'boring', 'look', 'least', 'twice', 'definitely', 'watch', 'part', '2', 'change', 'view', 'matrix', 'human', 'people', 'one', 'started', 'war', 'ai', 'bad', 'thing']\n"
     ]
    }
   ],
   "source": [
    "from nltk.stem.wordnet import WordNetLemmatizer\n",
    "\n",
    "# Reduce words to their root form\n",
    "lemmed = [WordNetLemmatizer().lemmatize(w) for w in words]\n",
    "print(lemmed)"
   ]
  },
  {
   "cell_type": "code",
   "execution_count": 30,
   "metadata": {},
   "outputs": [
    {
     "name": "stdout",
     "output_type": "stream",
     "text": [
      "['first', 'time', 'see', 'second', 'renaissance', 'may', 'look', 'bore', 'look', 'least', 'twice', 'definitely', 'watch', 'part', '2', 'change', 'view', 'matrix', 'human', 'people', 'one', 'start', 'war', 'ai', 'bad', 'thing']\n"
     ]
    }
   ],
   "source": [
    "# Lemmatize verbs by specifying pos\n",
    "lemmed = [WordNetLemmatizer().lemmatize(w, pos='v') for w in lemmed]\n",
    "print(lemmed)"
   ]
  }
 ],
 "metadata": {
  "kernelspec": {
   "display_name": "Python 3",
   "language": "python",
   "name": "python3"
  },
  "language_info": {
   "codemirror_mode": {
    "name": "ipython",
    "version": 3
   },
   "file_extension": ".py",
   "mimetype": "text/x-python",
   "name": "python",
   "nbconvert_exporter": "python",
   "pygments_lexer": "ipython3",
   "version": "3.6.8"
  },
  "toc": {
   "base_numbering": 1,
   "nav_menu": {},
   "number_sections": true,
   "sideBar": true,
   "skip_h1_title": false,
   "title_cell": "Table of Contents",
   "title_sidebar": "Contents",
   "toc_cell": true,
   "toc_position": {},
   "toc_section_display": true,
   "toc_window_display": true
  }
 },
 "nbformat": 4,
 "nbformat_minor": 2
}
