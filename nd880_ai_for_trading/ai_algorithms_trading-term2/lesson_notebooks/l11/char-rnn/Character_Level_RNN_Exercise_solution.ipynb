{
 "cells": [
  {
   "cell_type": "markdown",
   "metadata": {
    "toc": true
   },
   "source": [
    "<h1>Table of Contents<span class=\"tocSkip\"></span></h1>\n",
    "<div class=\"toc\"><ul class=\"toc-item\"><li><span><a href=\"#Character-Level-LSTM-in-PyTorch\" data-toc-modified-id=\"Character-Level-LSTM-in-PyTorch-1\"><span class=\"toc-item-num\">1&nbsp;&nbsp;</span>Character-Level LSTM in PyTorch</a></span><ul class=\"toc-item\"><li><span><a href=\"#Load-in-Data\" data-toc-modified-id=\"Load-in-Data-1.1\"><span class=\"toc-item-num\">1.1&nbsp;&nbsp;</span>Load in Data</a></span><ul class=\"toc-item\"><li><span><a href=\"#Tokenization\" data-toc-modified-id=\"Tokenization-1.1.1\"><span class=\"toc-item-num\">1.1.1&nbsp;&nbsp;</span>Tokenization</a></span></li></ul></li><li><span><a href=\"#Pre-processing-the-data\" data-toc-modified-id=\"Pre-processing-the-data-1.2\"><span class=\"toc-item-num\">1.2&nbsp;&nbsp;</span>Pre-processing the data</a></span></li><li><span><a href=\"#Making-training-mini-batches\" data-toc-modified-id=\"Making-training-mini-batches-1.3\"><span class=\"toc-item-num\">1.3&nbsp;&nbsp;</span>Making training mini-batches</a></span><ul class=\"toc-item\"><li><span><a href=\"#Creating-Batches\" data-toc-modified-id=\"Creating-Batches-1.3.1\"><span class=\"toc-item-num\">1.3.1&nbsp;&nbsp;</span>Creating Batches</a></span></li><li><span><a href=\"#Test-Your-Implementation\" data-toc-modified-id=\"Test-Your-Implementation-1.3.2\"><span class=\"toc-item-num\">1.3.2&nbsp;&nbsp;</span>Test Your Implementation</a></span></li></ul></li><li><span><a href=\"#Defining-the-network-with-PyTorch\" data-toc-modified-id=\"Defining-the-network-with-PyTorch-1.4\"><span class=\"toc-item-num\">1.4&nbsp;&nbsp;</span>Defining the network with PyTorch</a></span><ul class=\"toc-item\"><li><span><a href=\"#Model-Structure\" data-toc-modified-id=\"Model-Structure-1.4.1\"><span class=\"toc-item-num\">1.4.1&nbsp;&nbsp;</span>Model Structure</a></span></li><li><span><a href=\"#LSTM-Inputs/Outputs\" data-toc-modified-id=\"LSTM-Inputs/Outputs-1.4.2\"><span class=\"toc-item-num\">1.4.2&nbsp;&nbsp;</span>LSTM Inputs/Outputs</a></span></li></ul></li><li><span><a href=\"#Time-to-train\" data-toc-modified-id=\"Time-to-train-1.5\"><span class=\"toc-item-num\">1.5&nbsp;&nbsp;</span>Time to train</a></span></li><li><span><a href=\"#Instantiating-the-model\" data-toc-modified-id=\"Instantiating-the-model-1.6\"><span class=\"toc-item-num\">1.6&nbsp;&nbsp;</span>Instantiating the model</a></span></li><li><span><a href=\"#Getting-the-best-model\" data-toc-modified-id=\"Getting-the-best-model-1.7\"><span class=\"toc-item-num\">1.7&nbsp;&nbsp;</span>Getting the best model</a></span></li><li><span><a href=\"#Hyperparameters\" data-toc-modified-id=\"Hyperparameters-1.8\"><span class=\"toc-item-num\">1.8&nbsp;&nbsp;</span>Hyperparameters</a></span></li><li><span><a href=\"#Tips-and-Tricks\" data-toc-modified-id=\"Tips-and-Tricks-1.9\"><span class=\"toc-item-num\">1.9&nbsp;&nbsp;</span>Tips and Tricks</a></span><ul class=\"toc-item\"><li><span><a href=\"#Monitoring-Validation-Loss-vs.-Training-Loss\" data-toc-modified-id=\"Monitoring-Validation-Loss-vs.-Training-Loss-1.9.1\"><span class=\"toc-item-num\">1.9.1&nbsp;&nbsp;</span>Monitoring Validation Loss vs. Training Loss</a></span></li><li><span><a href=\"#Approximate-number-of-parameters\" data-toc-modified-id=\"Approximate-number-of-parameters-1.9.2\"><span class=\"toc-item-num\">1.9.2&nbsp;&nbsp;</span>Approximate number of parameters</a></span></li><li><span><a href=\"#Best-models-strategy\" data-toc-modified-id=\"Best-models-strategy-1.9.3\"><span class=\"toc-item-num\">1.9.3&nbsp;&nbsp;</span>Best models strategy</a></span></li></ul></li><li><span><a href=\"#Checkpoint\" data-toc-modified-id=\"Checkpoint-1.10\"><span class=\"toc-item-num\">1.10&nbsp;&nbsp;</span>Checkpoint</a></span></li><li><span><a href=\"#Making-Predictions\" data-toc-modified-id=\"Making-Predictions-1.11\"><span class=\"toc-item-num\">1.11&nbsp;&nbsp;</span>Making Predictions</a></span><ul class=\"toc-item\"><li><span><a href=\"#A-note-on-the-predict--function\" data-toc-modified-id=\"A-note-on-the-predict--function-1.11.1\"><span class=\"toc-item-num\">1.11.1&nbsp;&nbsp;</span>A note on the <code>predict</code>  function</a></span></li><li><span><a href=\"#Top-K-sampling\" data-toc-modified-id=\"Top-K-sampling-1.11.2\"><span class=\"toc-item-num\">1.11.2&nbsp;&nbsp;</span>Top K sampling</a></span></li><li><span><a href=\"#Priming-and-generating-text\" data-toc-modified-id=\"Priming-and-generating-text-1.11.3\"><span class=\"toc-item-num\">1.11.3&nbsp;&nbsp;</span>Priming and generating text</a></span></li></ul></li><li><span><a href=\"#Loading-a-checkpoint\" data-toc-modified-id=\"Loading-a-checkpoint-1.12\"><span class=\"toc-item-num\">1.12&nbsp;&nbsp;</span>Loading a checkpoint</a></span></li></ul></li></ul></div>"
   ]
  },
  {
   "cell_type": "markdown",
   "metadata": {},
   "source": [
    "# Character-Level LSTM in PyTorch\n",
    "\n",
    "In this notebook, I'll construct a character-level LSTM with PyTorch. The network will train character by character on some text, then generate new text character by character. As an example, I will train on Anna Karenina. **This model will be able to generate new text based on the text from the book!**\n",
    "\n",
    "This network is based off of Andrej Karpathy's [post on RNNs](http://karpathy.github.io/2015/05/21/rnn-effectiveness/) and [implementation in Torch](https://github.com/karpathy/char-rnn). Below is the general architecture of the character-wise RNN.\n",
    "\n",
    "<img src=\"assets/charseq.jpeg\" width=\"500\">"
   ]
  },
  {
   "cell_type": "markdown",
   "metadata": {},
   "source": [
    "First let's load in our required resources for data loading and model creation."
   ]
  },
  {
   "cell_type": "code",
   "execution_count": 4,
   "metadata": {},
   "outputs": [],
   "source": [
    "import numpy as np\n",
    "import torch\n",
    "from torch import nn\n",
    "import torch.nn.functional as F"
   ]
  },
  {
   "cell_type": "markdown",
   "metadata": {},
   "source": [
    "## Load in Data\n",
    "\n",
    "Then, we'll load the Anna Karenina text file and convert it into integers for our network to use. "
   ]
  },
  {
   "cell_type": "code",
   "execution_count": 5,
   "metadata": {},
   "outputs": [],
   "source": [
    "# open text file and read in data as `text`\n",
    "with open('data/anna.txt', 'r') as f:\n",
    "    text = f.read()"
   ]
  },
  {
   "cell_type": "markdown",
   "metadata": {},
   "source": [
    "Let's check out the first 100 characters, make sure everything is peachy. According to the [American Book Review](http://americanbookreview.org/100bestlines.asp), this is the 6th best first line of a book ever."
   ]
  },
  {
   "cell_type": "code",
   "execution_count": 6,
   "metadata": {},
   "outputs": [
    {
     "data": {
      "text/plain": [
       "'Chapter 1\\n\\n\\nHappy families are all alike; every unhappy family is unhappy in its own\\nway.\\n\\nEverythin'"
      ]
     },
     "execution_count": 6,
     "metadata": {},
     "output_type": "execute_result"
    }
   ],
   "source": [
    "text[:100]"
   ]
  },
  {
   "cell_type": "markdown",
   "metadata": {},
   "source": [
    "### Tokenization\n",
    "\n",
    "In the cells, below, I'm creating a couple **dictionaries** to convert the characters to and from integers. Encoding the characters as integers makes it easier to use as input in the network."
   ]
  },
  {
   "cell_type": "code",
   "execution_count": 7,
   "metadata": {},
   "outputs": [],
   "source": [
    "# encode the text and map each character to an integer and vice versa\n",
    "\n",
    "# we create two dictionaries:\n",
    "# 1. int2char, which maps integers to characters\n",
    "# 2. char2int, which maps characters to unique integers\n",
    "chars = tuple(set(text))\n",
    "int2char = dict(enumerate(chars))\n",
    "char2int = {ch: ii for ii, ch in int2char.items()}\n",
    "\n",
    "# encode the text\n",
    "encoded = np.array([char2int[ch] for ch in text])"
   ]
  },
  {
   "cell_type": "markdown",
   "metadata": {},
   "source": [
    "And we can see those same characters from above, encoded as integers."
   ]
  },
  {
   "cell_type": "code",
   "execution_count": 8,
   "metadata": {},
   "outputs": [
    {
     "data": {
      "text/plain": [
       "array([80, 28, 70, 20, 25, 36, 67, 48, 45, 79, 79, 79, 47, 70, 20, 20, 29,\n",
       "       48, 56, 70,  6,  9, 44,  9, 36, 31, 48, 70, 67, 36, 48, 70, 44, 44,\n",
       "       48, 70, 44,  9, 49, 36, 19, 48, 36, 58, 36, 67, 29, 48,  4,  3, 28,\n",
       "       70, 20, 20, 29, 48, 56, 70,  6,  9, 44, 29, 48,  9, 31, 48,  4,  3,\n",
       "       28, 70, 20, 20, 29, 48,  9,  3, 48,  9, 25, 31, 48, 13, 30,  3, 79,\n",
       "       30, 70, 29, 60, 79, 79, 64, 58, 36, 67, 29, 25, 28,  9,  3])"
      ]
     },
     "execution_count": 8,
     "metadata": {},
     "output_type": "execute_result"
    }
   ],
   "source": [
    "encoded[:100]"
   ]
  },
  {
   "cell_type": "markdown",
   "metadata": {},
   "source": [
    "## Pre-processing the data\n",
    "\n",
    "As you can see in our char-RNN image above, our LSTM expects an input that is **one-hot encoded** meaning that each character is converted into an integer (via our created dictionary) and *then* converted into a column vector where only it's corresponding integer index will have the value of 1 and the rest of the vector will be filled with 0's. Since we're one-hot encoding the data, let's make a function to do that!\n"
   ]
  },
  {
   "cell_type": "code",
   "execution_count": 9,
   "metadata": {},
   "outputs": [],
   "source": [
    "def one_hot_encode(arr, n_labels):\n",
    "    \n",
    "    # Initialize the the encoded array\n",
    "    one_hot = np.zeros((np.multiply(*arr.shape), n_labels), dtype=np.float32)\n",
    "    \n",
    "    # Fill the appropriate elements with ones\n",
    "    one_hot[np.arange(one_hot.shape[0]), arr.flatten()] = 1.\n",
    "    \n",
    "    # Finally reshape it to get back to the original array\n",
    "    one_hot = one_hot.reshape((*arr.shape, n_labels))\n",
    "    \n",
    "    return one_hot"
   ]
  },
  {
   "cell_type": "code",
   "execution_count": 10,
   "metadata": {},
   "outputs": [
    {
     "name": "stdout",
     "output_type": "stream",
     "text": [
      "[[[0. 0. 0. 1. 0. 0. 0. 0.]\n",
      "  [0. 0. 0. 0. 0. 1. 0. 0.]\n",
      "  [0. 1. 0. 0. 0. 0. 0. 0.]]]\n"
     ]
    }
   ],
   "source": [
    "# check that the function works as expected\n",
    "test_seq = np.array([[3, 5, 1]])\n",
    "one_hot = one_hot_encode(test_seq, 8)\n",
    "\n",
    "print(one_hot)"
   ]
  },
  {
   "cell_type": "markdown",
   "metadata": {},
   "source": [
    "## Making training mini-batches\n",
    "\n",
    "\n",
    "To train on this data, we also want to create mini-batches for training. Remember that we want our batches to be multiple sequences of some desired number of sequence steps. Considering a simple example, our batches would look like this:\n",
    "\n",
    "<img src=\"assets/sequence_batching@1x.png\" width=500px>\n",
    "\n",
    "\n",
    "<br>\n",
    "\n",
    "In this example, we'll take the encoded characters (passed in as the `arr` parameter) and split them into multiple sequences, given by `batch_size`. Each of our sequences will be `seq_length` long.\n",
    "\n",
    "### Creating Batches\n",
    "\n",
    "**1. The first thing we need to do is discard some of the text so we only have completely full mini-batches. **\n",
    "\n",
    "Each batch contains $N \\times M$ characters, where $N$ is the batch size (the number of sequences in a batch) and $M$ is the seq_length or number of time steps in a sequence. Then, to get the total number of batches, $K$, that we can make from the array `arr`, you divide the length of `arr` by the number of characters per batch. Once you know the number of batches, you can get the total number of characters to keep from `arr`, $N * M * K$.\n",
    "\n",
    "**2. After that, we need to split `arr` into $N$ batches. ** \n",
    "\n",
    "You can do this using `arr.reshape(size)` where `size` is a tuple containing the dimensions sizes of the reshaped array. We know we want $N$ sequences in a batch, so let's make that the size of the first dimension. For the second dimension, you can use `-1` as a placeholder in the size, it'll fill up the array with the appropriate data for you. After this, you should have an array that is $N \\times (M * K)$.\n",
    "\n",
    "**3. Now that we have this array, we can iterate through it to get our mini-batches. **\n",
    "\n",
    "The idea is each batch is a $N \\times M$ window on the $N \\times (M * K)$ array. For each subsequent batch, the window moves over by `seq_length`. We also want to create both the input and target arrays. Remember that the targets are just the inputs shifted over by one character. The way I like to do this window is use `range` to take steps of size `n_steps` from $0$ to `arr.shape[1]`, the total number of tokens in each sequence. That way, the integers you get from `range` always point to the start of a batch, and each window is `seq_length` wide.\n",
    "\n",
    "> **TODO:** Write the code for creating batches in the function below. The exercises in this notebook _will not be easy_. I've provided a notebook with solutions alongside this notebook. If you get stuck, checkout the solutions. The most important thing is that you don't copy and paste the code into here, **type out the solution code yourself.**"
   ]
  },
  {
   "cell_type": "code",
   "execution_count": 11,
   "metadata": {},
   "outputs": [],
   "source": [
    "def get_batches(arr, batch_size, seq_length):\n",
    "    '''Create a generator that returns batches of size\n",
    "       batch_size x seq_length from arr.\n",
    "       \n",
    "       Arguments\n",
    "       ---------\n",
    "       arr: Array you want to make batches from\n",
    "       batch_size: Batch size, the number of sequences per batch\n",
    "       seq_length: Number of encoded chars in a sequence\n",
    "    '''\n",
    "    \n",
    "    batch_size_total = batch_size * seq_length\n",
    "    # total number of batches we can make\n",
    "    n_batches = len(arr)//batch_size_total\n",
    "    \n",
    "    # Keep only enough characters to make full batches\n",
    "    arr = arr[:n_batches * batch_size_total]\n",
    "    # Reshape into batch_size rows\n",
    "    arr = arr.reshape((batch_size, -1))\n",
    "    \n",
    "    # iterate through the array, one sequence at a time\n",
    "    for n in range(0, arr.shape[1], seq_length):\n",
    "        # The features\n",
    "        x = arr[:, n:n+seq_length]\n",
    "        # The targets, shifted by one\n",
    "        y = np.zeros_like(x)\n",
    "        try:\n",
    "            y[:, :-1], y[:, -1] = x[:, 1:], arr[:, n+seq_length]\n",
    "        except IndexError:\n",
    "            y[:, :-1], y[:, -1] = x[:, 1:], arr[:, 0]\n",
    "        yield x, y"
   ]
  },
  {
   "cell_type": "markdown",
   "metadata": {},
   "source": [
    "### Test Your Implementation\n",
    "\n",
    "Now I'll make some data sets and we can check out what's going on as we batch data. Here, as an example, I'm going to use a batch size of 8 and 50 sequence steps."
   ]
  },
  {
   "cell_type": "code",
   "execution_count": 12,
   "metadata": {},
   "outputs": [],
   "source": [
    "batches = get_batches(encoded, 8, 50)\n",
    "x, y = next(batches)"
   ]
  },
  {
   "cell_type": "code",
   "execution_count": 13,
   "metadata": {},
   "outputs": [
    {
     "name": "stdout",
     "output_type": "stream",
     "text": [
      "x\n",
      " [[80 28 70 20 25 36 67 48 45 79]\n",
      " [31 13  3 48 25 28 70 25 48 70]\n",
      " [36  3 77 48 13 67 48 70 48 56]\n",
      " [31 48 25 28 36 48 32 28  9 36]\n",
      " [48 31 70 30 48 28 36 67 48 25]\n",
      " [32  4 31 31  9 13  3 48 70  3]\n",
      " [48 35  3  3 70 48 28 70 77 48]\n",
      " [14 15 44 13  3 31 49 29 60 48]]\n",
      "\n",
      "y\n",
      " [[28 70 20 25 36 67 48 45 79 79]\n",
      " [13  3 48 25 28 70 25 48 70 25]\n",
      " [ 3 77 48 13 67 48 70 48 56 13]\n",
      " [48 25 28 36 48 32 28  9 36 56]\n",
      " [31 70 30 48 28 36 67 48 25 36]\n",
      " [ 4 31 31  9 13  3 48 70  3 77]\n",
      " [35  3  3 70 48 28 70 77 48 31]\n",
      " [15 44 13  3 31 49 29 60 48 43]]\n"
     ]
    }
   ],
   "source": [
    "# printing out the first 10 items in a sequence\n",
    "print('x\\n', x[:10, :10])\n",
    "print('\\ny\\n', y[:10, :10])"
   ]
  },
  {
   "cell_type": "markdown",
   "metadata": {},
   "source": [
    "If you implemented `get_batches` correctly, the above output should look something like \n",
    "```\n",
    "x\n",
    " [[25  8 60 11 45 27 28 73  1  2]\n",
    " [17  7 20 73 45  8 60 45 73 60]\n",
    " [27 20 80 73  7 28 73 60 73 65]\n",
    " [17 73 45  8 27 73 66  8 46 27]\n",
    " [73 17 60 12 73  8 27 28 73 45]\n",
    " [66 64 17 17 46  7 20 73 60 20]\n",
    " [73 76 20 20 60 73  8 60 80 73]\n",
    " [47 35 43  7 20 17 24 50 37 73]]\n",
    "\n",
    "y\n",
    " [[ 8 60 11 45 27 28 73  1  2  2]\n",
    " [ 7 20 73 45  8 60 45 73 60 45]\n",
    " [20 80 73  7 28 73 60 73 65  7]\n",
    " [73 45  8 27 73 66  8 46 27 65]\n",
    " [17 60 12 73  8 27 28 73 45 27]\n",
    " [64 17 17 46  7 20 73 60 20 80]\n",
    " [76 20 20 60 73  8 60 80 73 17]\n",
    " [35 43  7 20 17 24 50 37 73 36]]\n",
    " ```\n",
    " although the exact numbers may be different. Check to make sure the data is shifted over one step for `y`."
   ]
  },
  {
   "cell_type": "markdown",
   "metadata": {},
   "source": [
    "---\n",
    "## Defining the network with PyTorch\n",
    "\n",
    "Below is where you'll define the network.\n",
    "\n",
    "<img src=\"assets/charRNN.png\" width=500px>\n",
    "\n",
    "Next, you'll use PyTorch to define the architecture of the network. We start by defining the layers and operations we want. Then, define a method for the forward pass. You've also been given a method for predicting characters."
   ]
  },
  {
   "cell_type": "markdown",
   "metadata": {},
   "source": [
    "### Model Structure\n",
    "\n",
    "In `__init__` the suggested structure is as follows:\n",
    "* Create and store the necessary dictionaries (this has been done for you)\n",
    "* Define an LSTM layer that takes as params: an input size (the number of characters), a hidden layer size `n_hidden`, a number of layers `n_layers`, a dropout probability `drop_prob`, and a batch_first boolean (True, since we are batching)\n",
    "* Define a dropout layer with `drop_prob`\n",
    "* Define a fully-connected layer with params: input size `n_hidden` and output size (the number of characters)\n",
    "* Finally, initialize the weights (again, this has been given)\n",
    "\n",
    "Note that some parameters have been named and given in the `__init__` function, and we use them and store them by doing something like `self.drop_prob = drop_prob`."
   ]
  },
  {
   "cell_type": "markdown",
   "metadata": {},
   "source": [
    "---\n",
    "### LSTM Inputs/Outputs\n",
    "\n",
    "You can create a basic [LSTM layer](https://pytorch.org/docs/stable/nn.html#lstm) as follows\n",
    "\n",
    "```python\n",
    "self.lstm = nn.LSTM(input_size, n_hidden, n_layers, \n",
    "                            dropout=drop_prob, batch_first=True)\n",
    "```\n",
    "\n",
    "where `input_size` is the number of characters this cell expects to see as sequential input, and `n_hidden` is the number of units in the hidden layers in the cell. And we can add dropout by adding a dropout parameter with a specified probability; this will automatically add dropout to the inputs or outputs. Finally, in the `forward` function, we can stack up the LSTM cells into layers using `.view`. With this, you pass in a list of cells and it will send the output of one cell into the next cell.\n",
    "\n",
    "We also need to create an initial hidden state of all zeros. This is done like so\n",
    "\n",
    "```python\n",
    "self.init_hidden()\n",
    "```"
   ]
  },
  {
   "cell_type": "code",
   "execution_count": 14,
   "metadata": {},
   "outputs": [
    {
     "name": "stdout",
     "output_type": "stream",
     "text": [
      "No GPU available, training on CPU; consider making n_epochs very small.\n"
     ]
    }
   ],
   "source": [
    "# check if GPU is available\n",
    "train_on_gpu = torch.cuda.is_available()\n",
    "if(train_on_gpu):\n",
    "    print('Training on GPU!')\n",
    "else: \n",
    "    print('No GPU available, training on CPU; consider making n_epochs very small.')"
   ]
  },
  {
   "cell_type": "code",
   "execution_count": 15,
   "metadata": {},
   "outputs": [],
   "source": [
    "class CharRNN(nn.Module):\n",
    "    \n",
    "    def __init__(self, tokens, n_hidden=256, n_layers=2,\n",
    "                               drop_prob=0.5, lr=0.001):\n",
    "        super().__init__()\n",
    "        self.drop_prob = drop_prob\n",
    "        self.n_layers = n_layers\n",
    "        self.n_hidden = n_hidden\n",
    "        self.lr = lr\n",
    "        \n",
    "        # creating character dictionaries\n",
    "        self.chars = tokens\n",
    "        self.int2char = dict(enumerate(self.chars))\n",
    "        self.char2int = {ch: ii for ii, ch in self.int2char.items()}\n",
    "        \n",
    "        ## TODO: define the LSTM\n",
    "        self.lstm = nn.LSTM(len(self.chars), n_hidden, n_layers, \n",
    "                            dropout=drop_prob, batch_first=True)\n",
    "        \n",
    "        ## TODO: define a dropout layer\n",
    "        self.dropout = nn.Dropout(drop_prob)\n",
    "        \n",
    "        ## TODO: define the final, fully-connected output layer\n",
    "        self.fc = nn.Linear(n_hidden, len(self.chars))\n",
    "      \n",
    "    \n",
    "    def forward(self, x, hidden):\n",
    "        ''' Forward pass through the network. \n",
    "            These inputs are x, and the hidden/cell state `hidden`. '''\n",
    "                \n",
    "        ## TODO: Get the outputs and the new hidden state from the lstm\n",
    "        r_output, hidden = self.lstm(x, hidden)\n",
    "        \n",
    "        ## TODO: pass through a dropout layer\n",
    "        out = self.dropout(r_output)\n",
    "        \n",
    "        # Stack up LSTM outputs using view\n",
    "        # you may need to use contiguous to reshape the output\n",
    "        out = out.contiguous().view(-1, self.n_hidden)\n",
    "        \n",
    "        ## TODO: put x through the fully-connected layer\n",
    "        out = self.fc(out)\n",
    "        \n",
    "        # return the final output and the hidden state\n",
    "        return out, hidden\n",
    "    \n",
    "    \n",
    "    def init_hidden(self, batch_size):\n",
    "        ''' Initializes hidden state '''\n",
    "        # Create two new tensors with sizes n_layers x batch_size x n_hidden,\n",
    "        # initialized to zero, for hidden state and cell state of LSTM\n",
    "        weight = next(self.parameters()).data\n",
    "        \n",
    "        if (train_on_gpu):\n",
    "            hidden = (weight.new(self.n_layers, batch_size, self.n_hidden).zero_().cuda(),\n",
    "                  weight.new(self.n_layers, batch_size, self.n_hidden).zero_().cuda())\n",
    "        else:\n",
    "            hidden = (weight.new(self.n_layers, batch_size, self.n_hidden).zero_(),\n",
    "                      weight.new(self.n_layers, batch_size, self.n_hidden).zero_())\n",
    "        \n",
    "        return hidden\n",
    "        "
   ]
  },
  {
   "cell_type": "markdown",
   "metadata": {},
   "source": [
    "## Time to train\n",
    "\n",
    "The train function gives us the ability to set the number of epochs, the learning rate, and other parameters.\n",
    "\n",
    "Below we're using an Adam optimizer and cross entropy loss since we are looking at character class scores as output. We calculate the loss and perform backpropagation, as usual!\n",
    "\n",
    "A couple of details about training: \n",
    ">* Within the batch loop, we detach the hidden state from its history; this time setting it equal to a new *tuple* variable because an LSTM has a hidden state that is a tuple of the hidden and cell states.\n",
    "* We use [`clip_grad_norm_`](https://pytorch.org/docs/stable/_modules/torch/nn/utils/clip_grad.html) to help prevent exploding gradients."
   ]
  },
  {
   "cell_type": "code",
   "execution_count": 16,
   "metadata": {},
   "outputs": [],
   "source": [
    "def train(net, data, epochs=10, batch_size=10, seq_length=50, lr=0.001, clip=5, val_frac=0.1, print_every=10):\n",
    "    ''' Training a network \n",
    "    \n",
    "        Arguments\n",
    "        ---------\n",
    "        \n",
    "        net: CharRNN network\n",
    "        data: text data to train the network\n",
    "        epochs: Number of epochs to train\n",
    "        batch_size: Number of mini-sequences per mini-batch, aka batch size\n",
    "        seq_length: Number of character steps per mini-batch\n",
    "        lr: learning rate\n",
    "        clip: gradient clipping\n",
    "        val_frac: Fraction of data to hold out for validation\n",
    "        print_every: Number of steps for printing training and validation loss\n",
    "    \n",
    "    '''\n",
    "    net.train()\n",
    "    \n",
    "    opt = torch.optim.Adam(net.parameters(), lr=lr)\n",
    "    criterion = nn.CrossEntropyLoss()\n",
    "    \n",
    "    # create training and validation data\n",
    "    val_idx = int(len(data)*(1-val_frac))\n",
    "    data, val_data = data[:val_idx], data[val_idx:]\n",
    "    \n",
    "    if(train_on_gpu):\n",
    "        net.cuda()\n",
    "    \n",
    "    counter = 0\n",
    "    n_chars = len(net.chars)\n",
    "    for e in range(epochs):\n",
    "        # initialize hidden state\n",
    "        h = net.init_hidden(batch_size)\n",
    "        \n",
    "        for x, y in get_batches(data, batch_size, seq_length):\n",
    "            counter += 1\n",
    "            \n",
    "            # One-hot encode our data and make them Torch tensors\n",
    "            x = one_hot_encode(x, n_chars)\n",
    "            inputs, targets = torch.from_numpy(x), torch.from_numpy(y)\n",
    "            \n",
    "            if(train_on_gpu):\n",
    "                inputs, targets = inputs.cuda(), targets.cuda()\n",
    "\n",
    "            # Creating new variables for the hidden state, otherwise\n",
    "            # we'd backprop through the entire training history\n",
    "            h = tuple([each.data for each in h])\n",
    "\n",
    "            # zero accumulated gradients\n",
    "            net.zero_grad()\n",
    "            \n",
    "            # get the output from the model\n",
    "            output, h = net(inputs, h)\n",
    "            \n",
    "            # calculate the loss and perform backprop\n",
    "            loss = criterion(output, targets.view(batch_size*seq_length).long())\n",
    "            loss.backward()\n",
    "            # `clip_grad_norm` helps prevent the exploding gradient problem in RNNs / LSTMs.\n",
    "            nn.utils.clip_grad_norm_(net.parameters(), clip)\n",
    "            opt.step()\n",
    "            \n",
    "            # loss stats\n",
    "            if counter % print_every == 0:\n",
    "                # Get validation loss\n",
    "                val_h = net.init_hidden(batch_size)\n",
    "                val_losses = []\n",
    "                net.eval()\n",
    "                for x, y in get_batches(val_data, batch_size, seq_length):\n",
    "                    # One-hot encode our data and make them Torch tensors\n",
    "                    x = one_hot_encode(x, n_chars)\n",
    "                    x, y = torch.from_numpy(x), torch.from_numpy(y)\n",
    "                    \n",
    "                    # Creating new variables for the hidden state, otherwise\n",
    "                    # we'd backprop through the entire training history\n",
    "                    val_h = tuple([each.data for each in val_h])\n",
    "                    \n",
    "                    inputs, targets = x, y\n",
    "                    if(train_on_gpu):\n",
    "                        inputs, targets = inputs.cuda(), targets.cuda()\n",
    "\n",
    "                    output, val_h = net(inputs, val_h)\n",
    "                    val_loss = criterion(output, targets.view(batch_size*seq_length).long())\n",
    "                \n",
    "                    val_losses.append(val_loss.item())\n",
    "                \n",
    "                net.train() # reset to train mode after iterationg through validation data\n",
    "                \n",
    "                print(\"Epoch: {}/{}...\".format(e+1, epochs),\n",
    "                      \"Step: {}...\".format(counter),\n",
    "                      \"Loss: {:.4f}...\".format(loss.item()),\n",
    "                      \"Val Loss: {:.4f}\".format(np.mean(val_losses)))"
   ]
  },
  {
   "cell_type": "markdown",
   "metadata": {},
   "source": [
    "## Instantiating the model\n",
    "\n",
    "Now we can actually train the network. First we'll create the network itself, with some given hyperparameters. Then, define the mini-batches sizes, and start training!"
   ]
  },
  {
   "cell_type": "code",
   "execution_count": 17,
   "metadata": {},
   "outputs": [
    {
     "name": "stdout",
     "output_type": "stream",
     "text": [
      "CharRNN(\n",
      "  (lstm): LSTM(83, 512, num_layers=2, batch_first=True, dropout=0.5)\n",
      "  (dropout): Dropout(p=0.5)\n",
      "  (fc): Linear(in_features=512, out_features=83, bias=True)\n",
      ")\n"
     ]
    }
   ],
   "source": [
    "# define and print the net\n",
    "n_hidden=512\n",
    "n_layers=2\n",
    "\n",
    "net = CharRNN(chars, n_hidden, n_layers)\n",
    "print(net)"
   ]
  },
  {
   "cell_type": "code",
   "execution_count": 18,
   "metadata": {
    "scrolled": true
   },
   "outputs": [
    {
     "name": "stdout",
     "output_type": "stream",
     "text": [
      "Epoch: 1/20... Step: 10... Loss: 3.2449... Val Loss: 3.1999\n",
      "Epoch: 1/20... Step: 20... Loss: 3.1429... Val Loss: 3.1389\n",
      "Epoch: 1/20... Step: 30... Loss: 3.1401... Val Loss: 3.1241\n",
      "Epoch: 1/20... Step: 40... Loss: 3.1126... Val Loss: 3.1198\n",
      "Epoch: 1/20... Step: 50... Loss: 3.1411... Val Loss: 3.1163\n",
      "Epoch: 1/20... Step: 60... Loss: 3.1173... Val Loss: 3.1131\n",
      "Epoch: 1/20... Step: 70... Loss: 3.1018... Val Loss: 3.1080\n",
      "Epoch: 1/20... Step: 80... Loss: 3.1083... Val Loss: 3.0964\n",
      "Epoch: 1/20... Step: 90... Loss: 3.0825... Val Loss: 3.0658\n",
      "Epoch: 1/20... Step: 100... Loss: 3.0219... Val Loss: 2.9987\n",
      "Epoch: 1/20... Step: 110... Loss: 2.9391... Val Loss: 2.9102\n",
      "Epoch: 1/20... Step: 120... Loss: 2.8468... Val Loss: 2.8203\n",
      "Epoch: 1/20... Step: 130... Loss: 2.7413... Val Loss: 2.6945\n",
      "Epoch: 2/20... Step: 140... Loss: 2.6424... Val Loss: 2.5871\n",
      "Epoch: 2/20... Step: 150... Loss: 2.5648... Val Loss: 2.5247\n",
      "Epoch: 2/20... Step: 160... Loss: 2.5146... Val Loss: 2.4769\n",
      "Epoch: 2/20... Step: 170... Loss: 2.4495... Val Loss: 2.4344\n",
      "Epoch: 2/20... Step: 180... Loss: 2.4270... Val Loss: 2.4191\n",
      "Epoch: 2/20... Step: 190... Loss: 2.3794... Val Loss: 2.3781\n",
      "Epoch: 2/20... Step: 200... Loss: 2.3728... Val Loss: 2.3469\n",
      "Epoch: 2/20... Step: 210... Loss: 2.3526... Val Loss: 2.3248\n",
      "Epoch: 2/20... Step: 220... Loss: 2.3067... Val Loss: 2.2949\n",
      "Epoch: 2/20... Step: 230... Loss: 2.2921... Val Loss: 2.2634\n",
      "Epoch: 2/20... Step: 240... Loss: 2.2689... Val Loss: 2.2398\n",
      "Epoch: 2/20... Step: 250... Loss: 2.1958... Val Loss: 2.2099\n",
      "Epoch: 2/20... Step: 260... Loss: 2.1722... Val Loss: 2.1841\n",
      "Epoch: 2/20... Step: 270... Loss: 2.1876... Val Loss: 2.1604\n",
      "Epoch: 3/20... Step: 280... Loss: 2.1827... Val Loss: 2.1357\n",
      "Epoch: 3/20... Step: 290... Loss: 2.1423... Val Loss: 2.1098\n",
      "Epoch: 3/20... Step: 300... Loss: 2.1189... Val Loss: 2.0872\n",
      "Epoch: 3/20... Step: 310... Loss: 2.0939... Val Loss: 2.0712\n",
      "Epoch: 3/20... Step: 320... Loss: 2.0677... Val Loss: 2.0476\n",
      "Epoch: 3/20... Step: 330... Loss: 2.0363... Val Loss: 2.0322\n",
      "Epoch: 3/20... Step: 340... Loss: 2.0536... Val Loss: 2.0133\n",
      "Epoch: 3/20... Step: 350... Loss: 2.0316... Val Loss: 1.9981\n",
      "Epoch: 3/20... Step: 360... Loss: 1.9693... Val Loss: 1.9814\n",
      "Epoch: 3/20... Step: 370... Loss: 1.9892... Val Loss: 1.9655\n",
      "Epoch: 3/20... Step: 380... Loss: 1.9684... Val Loss: 1.9480\n",
      "Epoch: 3/20... Step: 390... Loss: 1.9404... Val Loss: 1.9306\n",
      "Epoch: 3/20... Step: 400... Loss: 1.9148... Val Loss: 1.9147\n",
      "Epoch: 3/20... Step: 410... Loss: 1.9233... Val Loss: 1.9041\n",
      "Epoch: 4/20... Step: 420... Loss: 1.9165... Val Loss: 1.8886\n",
      "Epoch: 4/20... Step: 430... Loss: 1.8955... Val Loss: 1.8711\n",
      "Epoch: 4/20... Step: 440... Loss: 1.8944... Val Loss: 1.8644\n",
      "Epoch: 4/20... Step: 450... Loss: 1.8254... Val Loss: 1.8469\n",
      "Epoch: 4/20... Step: 460... Loss: 1.8128... Val Loss: 1.8364\n",
      "Epoch: 4/20... Step: 470... Loss: 1.8568... Val Loss: 1.8278\n",
      "Epoch: 4/20... Step: 480... Loss: 1.8336... Val Loss: 1.8097\n",
      "Epoch: 4/20... Step: 490... Loss: 1.8340... Val Loss: 1.8016\n",
      "Epoch: 4/20... Step: 500... Loss: 1.8345... Val Loss: 1.7927\n",
      "Epoch: 4/20... Step: 510... Loss: 1.7995... Val Loss: 1.7791\n",
      "Epoch: 4/20... Step: 520... Loss: 1.8223... Val Loss: 1.7745\n",
      "Epoch: 4/20... Step: 530... Loss: 1.7703... Val Loss: 1.7620\n",
      "Epoch: 4/20... Step: 540... Loss: 1.7461... Val Loss: 1.7536\n",
      "Epoch: 4/20... Step: 550... Loss: 1.7918... Val Loss: 1.7388\n",
      "Epoch: 5/20... Step: 560... Loss: 1.7487... Val Loss: 1.7309\n",
      "Epoch: 5/20... Step: 570... Loss: 1.7354... Val Loss: 1.7268\n",
      "Epoch: 5/20... Step: 580... Loss: 1.7237... Val Loss: 1.7110\n",
      "Epoch: 5/20... Step: 590... Loss: 1.7226... Val Loss: 1.7049\n",
      "Epoch: 5/20... Step: 600... Loss: 1.6995... Val Loss: 1.7001\n",
      "Epoch: 5/20... Step: 610... Loss: 1.6917... Val Loss: 1.6916\n",
      "Epoch: 5/20... Step: 620... Loss: 1.6987... Val Loss: 1.6871\n",
      "Epoch: 5/20... Step: 630... Loss: 1.7049... Val Loss: 1.6777\n",
      "Epoch: 5/20... Step: 640... Loss: 1.6754... Val Loss: 1.6700\n",
      "Epoch: 5/20... Step: 650... Loss: 1.6637... Val Loss: 1.6607\n",
      "Epoch: 5/20... Step: 660... Loss: 1.6488... Val Loss: 1.6553\n",
      "Epoch: 5/20... Step: 670... Loss: 1.6752... Val Loss: 1.6473\n",
      "Epoch: 5/20... Step: 680... Loss: 1.6752... Val Loss: 1.6437\n",
      "Epoch: 5/20... Step: 690... Loss: 1.6434... Val Loss: 1.6387\n",
      "Epoch: 6/20... Step: 700... Loss: 1.6462... Val Loss: 1.6348\n",
      "Epoch: 6/20... Step: 710... Loss: 1.6276... Val Loss: 1.6227\n",
      "Epoch: 6/20... Step: 720... Loss: 1.6199... Val Loss: 1.6164\n",
      "Epoch: 6/20... Step: 730... Loss: 1.6298... Val Loss: 1.6089\n",
      "Epoch: 6/20... Step: 740... Loss: 1.6042... Val Loss: 1.6088\n",
      "Epoch: 6/20... Step: 750... Loss: 1.5850... Val Loss: 1.6043\n",
      "Epoch: 6/20... Step: 760... Loss: 1.6160... Val Loss: 1.6012\n",
      "Epoch: 6/20... Step: 770... Loss: 1.6007... Val Loss: 1.5931\n",
      "Epoch: 6/20... Step: 780... Loss: 1.5809... Val Loss: 1.5871\n",
      "Epoch: 6/20... Step: 790... Loss: 1.5648... Val Loss: 1.5806\n",
      "Epoch: 6/20... Step: 800... Loss: 1.5905... Val Loss: 1.5788\n",
      "Epoch: 6/20... Step: 810... Loss: 1.5726... Val Loss: 1.5726\n",
      "Epoch: 6/20... Step: 820... Loss: 1.5348... Val Loss: 1.5694\n",
      "Epoch: 6/20... Step: 830... Loss: 1.5817... Val Loss: 1.5644\n",
      "Epoch: 7/20... Step: 840... Loss: 1.5351... Val Loss: 1.5606\n",
      "Epoch: 7/20... Step: 850... Loss: 1.5603... Val Loss: 1.5551\n",
      "Epoch: 7/20... Step: 860... Loss: 1.5388... Val Loss: 1.5491\n",
      "Epoch: 7/20... Step: 870... Loss: 1.5496... Val Loss: 1.5435\n",
      "Epoch: 7/20... Step: 880... Loss: 1.5434... Val Loss: 1.5391\n",
      "Epoch: 7/20... Step: 890... Loss: 1.5432... Val Loss: 1.5391\n",
      "Epoch: 7/20... Step: 900... Loss: 1.5355... Val Loss: 1.5430\n",
      "Epoch: 7/20... Step: 910... Loss: 1.4963... Val Loss: 1.5334\n",
      "Epoch: 7/20... Step: 920... Loss: 1.5274... Val Loss: 1.5284\n",
      "Epoch: 7/20... Step: 930... Loss: 1.5122... Val Loss: 1.5249\n",
      "Epoch: 7/20... Step: 940... Loss: 1.5170... Val Loss: 1.5238\n",
      "Epoch: 7/20... Step: 950... Loss: 1.5187... Val Loss: 1.5184\n",
      "Epoch: 7/20... Step: 960... Loss: 1.5322... Val Loss: 1.5144\n",
      "Epoch: 7/20... Step: 970... Loss: 1.5309... Val Loss: 1.5107\n",
      "Epoch: 8/20... Step: 980... Loss: 1.4999... Val Loss: 1.5031\n",
      "Epoch: 8/20... Step: 990... Loss: 1.4995... Val Loss: 1.5006\n",
      "Epoch: 8/20... Step: 1000... Loss: 1.4936... Val Loss: 1.4987\n",
      "Epoch: 8/20... Step: 1010... Loss: 1.5299... Val Loss: 1.4967\n",
      "Epoch: 8/20... Step: 1020... Loss: 1.4978... Val Loss: 1.4939\n",
      "Epoch: 8/20... Step: 1030... Loss: 1.4838... Val Loss: 1.4921\n",
      "Epoch: 8/20... Step: 1040... Loss: 1.4910... Val Loss: 1.4888\n",
      "Epoch: 8/20... Step: 1050... Loss: 1.4758... Val Loss: 1.4862\n",
      "Epoch: 8/20... Step: 1060... Loss: 1.4730... Val Loss: 1.4812\n",
      "Epoch: 8/20... Step: 1070... Loss: 1.4764... Val Loss: 1.4786\n",
      "Epoch: 8/20... Step: 1080... Loss: 1.4727... Val Loss: 1.4784\n",
      "Epoch: 8/20... Step: 1090... Loss: 1.4611... Val Loss: 1.4719\n",
      "Epoch: 8/20... Step: 1100... Loss: 1.4512... Val Loss: 1.4734\n",
      "Epoch: 8/20... Step: 1110... Loss: 1.4618... Val Loss: 1.4693\n",
      "Epoch: 9/20... Step: 1120... Loss: 1.4763... Val Loss: 1.4647\n",
      "Epoch: 9/20... Step: 1130... Loss: 1.4612... Val Loss: 1.4618\n",
      "Epoch: 9/20... Step: 1140... Loss: 1.4676... Val Loss: 1.4584\n",
      "Epoch: 9/20... Step: 1150... Loss: 1.4818... Val Loss: 1.4593\n",
      "Epoch: 9/20... Step: 1160... Loss: 1.4373... Val Loss: 1.4563\n",
      "Epoch: 9/20... Step: 1170... Loss: 1.4473... Val Loss: 1.4562\n",
      "Epoch: 9/20... Step: 1180... Loss: 1.4402... Val Loss: 1.4554\n",
      "Epoch: 9/20... Step: 1190... Loss: 1.4760... Val Loss: 1.4505\n",
      "Epoch: 9/20... Step: 1200... Loss: 1.4248... Val Loss: 1.4461\n",
      "Epoch: 9/20... Step: 1210... Loss: 1.4310... Val Loss: 1.4445\n",
      "Epoch: 9/20... Step: 1220... Loss: 1.4284... Val Loss: 1.4446\n",
      "Epoch: 9/20... Step: 1230... Loss: 1.4149... Val Loss: 1.4408\n",
      "Epoch: 9/20... Step: 1240... Loss: 1.4187... Val Loss: 1.4335\n",
      "Epoch: 9/20... Step: 1250... Loss: 1.4275... Val Loss: 1.4342\n",
      "Epoch: 10/20... Step: 1260... Loss: 1.4269... Val Loss: 1.4335\n",
      "Epoch: 10/20... Step: 1270... Loss: 1.4288... Val Loss: 1.4293\n",
      "Epoch: 10/20... Step: 1280... Loss: 1.4350... Val Loss: 1.4277\n",
      "Epoch: 10/20... Step: 1290... Loss: 1.4198... Val Loss: 1.4314\n",
      "Epoch: 10/20... Step: 1300... Loss: 1.4142... Val Loss: 1.4261\n",
      "Epoch: 10/20... Step: 1310... Loss: 1.4262... Val Loss: 1.4244\n",
      "Epoch: 10/20... Step: 1320... Loss: 1.3902... Val Loss: 1.4241\n",
      "Epoch: 10/20... Step: 1330... Loss: 1.4012... Val Loss: 1.4214\n",
      "Epoch: 10/20... Step: 1340... Loss: 1.3928... Val Loss: 1.4165\n"
     ]
    },
    {
     "name": "stdout",
     "output_type": "stream",
     "text": [
      "Epoch: 10/20... Step: 1350... Loss: 1.3770... Val Loss: 1.4181\n",
      "Epoch: 10/20... Step: 1360... Loss: 1.3894... Val Loss: 1.4156\n",
      "Epoch: 10/20... Step: 1370... Loss: 1.3696... Val Loss: 1.4171\n",
      "Epoch: 10/20... Step: 1380... Loss: 1.4185... Val Loss: 1.4068\n",
      "Epoch: 10/20... Step: 1390... Loss: 1.4221... Val Loss: 1.4129\n",
      "Epoch: 11/20... Step: 1400... Loss: 1.4206... Val Loss: 1.4066\n",
      "Epoch: 11/20... Step: 1410... Loss: 1.4410... Val Loss: 1.4076\n",
      "Epoch: 11/20... Step: 1420... Loss: 1.4254... Val Loss: 1.4081\n",
      "Epoch: 11/20... Step: 1430... Loss: 1.3873... Val Loss: 1.4094\n",
      "Epoch: 11/20... Step: 1440... Loss: 1.4133... Val Loss: 1.3997\n",
      "Epoch: 11/20... Step: 1450... Loss: 1.3491... Val Loss: 1.4057\n",
      "Epoch: 11/20... Step: 1460... Loss: 1.3710... Val Loss: 1.4040\n",
      "Epoch: 11/20... Step: 1470... Loss: 1.3584... Val Loss: 1.3983\n",
      "Epoch: 11/20... Step: 1480... Loss: 1.3846... Val Loss: 1.3936\n",
      "Epoch: 11/20... Step: 1490... Loss: 1.3730... Val Loss: 1.3921\n",
      "Epoch: 11/20... Step: 1500... Loss: 1.3603... Val Loss: 1.3961\n",
      "Epoch: 11/20... Step: 1510... Loss: 1.3364... Val Loss: 1.3936\n",
      "Epoch: 11/20... Step: 1520... Loss: 1.3784... Val Loss: 1.3889\n",
      "Epoch: 12/20... Step: 1530... Loss: 1.4333... Val Loss: 1.3890\n",
      "Epoch: 12/20... Step: 1540... Loss: 1.3882... Val Loss: 1.3856\n",
      "Epoch: 12/20... Step: 1550... Loss: 1.3764... Val Loss: 1.3839\n",
      "Epoch: 12/20... Step: 1560... Loss: 1.3958... Val Loss: 1.3819\n",
      "Epoch: 12/20... Step: 1570... Loss: 1.3412... Val Loss: 1.3833\n",
      "Epoch: 12/20... Step: 1580... Loss: 1.3299... Val Loss: 1.3802\n",
      "Epoch: 12/20... Step: 1590... Loss: 1.3225... Val Loss: 1.3812\n",
      "Epoch: 12/20... Step: 1600... Loss: 1.3417... Val Loss: 1.3834\n",
      "Epoch: 12/20... Step: 1610... Loss: 1.3345... Val Loss: 1.3800\n",
      "Epoch: 12/20... Step: 1620... Loss: 1.3392... Val Loss: 1.3753\n",
      "Epoch: 12/20... Step: 1630... Loss: 1.3502... Val Loss: 1.3759\n",
      "Epoch: 12/20... Step: 1640... Loss: 1.3445... Val Loss: 1.3745\n",
      "Epoch: 12/20... Step: 1650... Loss: 1.3157... Val Loss: 1.3703\n",
      "Epoch: 12/20... Step: 1660... Loss: 1.3599... Val Loss: 1.3711\n",
      "Epoch: 13/20... Step: 1670... Loss: 1.3451... Val Loss: 1.3705\n",
      "Epoch: 13/20... Step: 1680... Loss: 1.3477... Val Loss: 1.3668\n",
      "Epoch: 13/20... Step: 1690... Loss: 1.3237... Val Loss: 1.3640\n",
      "Epoch: 13/20... Step: 1700... Loss: 1.3307... Val Loss: 1.3638\n",
      "Epoch: 13/20... Step: 1710... Loss: 1.3161... Val Loss: 1.3667\n",
      "Epoch: 13/20... Step: 1720... Loss: 1.3223... Val Loss: 1.3639\n",
      "Epoch: 13/20... Step: 1730... Loss: 1.3599... Val Loss: 1.3589\n",
      "Epoch: 13/20... Step: 1740... Loss: 1.3155... Val Loss: 1.3657\n",
      "Epoch: 13/20... Step: 1750... Loss: 1.2911... Val Loss: 1.3588\n",
      "Epoch: 13/20... Step: 1760... Loss: 1.3164... Val Loss: 1.3542\n",
      "Epoch: 13/20... Step: 1770... Loss: 1.3423... Val Loss: 1.3544\n",
      "Epoch: 13/20... Step: 1780... Loss: 1.3099... Val Loss: 1.3523\n",
      "Epoch: 13/20... Step: 1790... Loss: 1.2932... Val Loss: 1.3512\n",
      "Epoch: 13/20... Step: 1800... Loss: 1.3202... Val Loss: 1.3498\n",
      "Epoch: 14/20... Step: 1810... Loss: 1.3235... Val Loss: 1.3472\n",
      "Epoch: 14/20... Step: 1820... Loss: 1.3149... Val Loss: 1.3416\n",
      "Epoch: 14/20... Step: 1830... Loss: 1.3292... Val Loss: 1.3432\n",
      "Epoch: 14/20... Step: 1840... Loss: 1.2737... Val Loss: 1.3447\n",
      "Epoch: 14/20... Step: 1850... Loss: 1.2588... Val Loss: 1.3446\n",
      "Epoch: 14/20... Step: 1860... Loss: 1.3144... Val Loss: 1.3486\n",
      "Epoch: 14/20... Step: 1870... Loss: 1.3231... Val Loss: 1.3350\n",
      "Epoch: 14/20... Step: 1880... Loss: 1.3124... Val Loss: 1.3400\n",
      "Epoch: 14/20... Step: 1890... Loss: 1.3314... Val Loss: 1.3360\n",
      "Epoch: 14/20... Step: 1900... Loss: 1.2959... Val Loss: 1.3311\n",
      "Epoch: 14/20... Step: 1910... Loss: 1.3007... Val Loss: 1.3351\n",
      "Epoch: 14/20... Step: 1920... Loss: 1.3003... Val Loss: 1.3319\n",
      "Epoch: 14/20... Step: 1930... Loss: 1.2595... Val Loss: 1.3302\n",
      "Epoch: 14/20... Step: 1940... Loss: 1.3266... Val Loss: 1.3278\n",
      "Epoch: 15/20... Step: 1950... Loss: 1.2846... Val Loss: 1.3420\n",
      "Epoch: 15/20... Step: 1960... Loss: 1.2865... Val Loss: 1.3248\n",
      "Epoch: 15/20... Step: 1970... Loss: 1.2836... Val Loss: 1.3259\n",
      "Epoch: 15/20... Step: 1980... Loss: 1.2786... Val Loss: 1.3215\n",
      "Epoch: 15/20... Step: 1990... Loss: 1.2841... Val Loss: 1.3228\n",
      "Epoch: 15/20... Step: 2000... Loss: 1.2670... Val Loss: 1.3231\n",
      "Epoch: 15/20... Step: 2010... Loss: 1.2786... Val Loss: 1.3226\n",
      "Epoch: 15/20... Step: 2020... Loss: 1.3015... Val Loss: 1.3253\n",
      "Epoch: 15/20... Step: 2030... Loss: 1.2679... Val Loss: 1.3205\n",
      "Epoch: 15/20... Step: 2040... Loss: 1.2846... Val Loss: 1.3180\n",
      "Epoch: 15/20... Step: 2050... Loss: 1.2674... Val Loss: 1.3201\n",
      "Epoch: 15/20... Step: 2060... Loss: 1.2754... Val Loss: 1.3175\n",
      "Epoch: 15/20... Step: 2070... Loss: 1.2931... Val Loss: 1.3158\n",
      "Epoch: 15/20... Step: 2080... Loss: 1.2791... Val Loss: 1.3171\n",
      "Epoch: 16/20... Step: 2090... Loss: 1.2778... Val Loss: 1.3205\n",
      "Epoch: 16/20... Step: 2100... Loss: 1.2655... Val Loss: 1.3136\n",
      "Epoch: 16/20... Step: 2110... Loss: 1.2514... Val Loss: 1.3140\n",
      "Epoch: 16/20... Step: 2120... Loss: 1.2743... Val Loss: 1.3096\n",
      "Epoch: 16/20... Step: 2130... Loss: 1.2517... Val Loss: 1.3121\n",
      "Epoch: 16/20... Step: 2140... Loss: 1.2591... Val Loss: 1.3138\n",
      "Epoch: 16/20... Step: 2150... Loss: 1.2818... Val Loss: 1.3059\n",
      "Epoch: 16/20... Step: 2160... Loss: 1.2569... Val Loss: 1.3134\n",
      "Epoch: 16/20... Step: 2170... Loss: 1.2549... Val Loss: 1.3070\n",
      "Epoch: 16/20... Step: 2180... Loss: 1.2533... Val Loss: 1.3027\n",
      "Epoch: 16/20... Step: 2190... Loss: 1.2756... Val Loss: 1.3063\n",
      "Epoch: 16/20... Step: 2200... Loss: 1.2519... Val Loss: 1.3059\n",
      "Epoch: 16/20... Step: 2210... Loss: 1.2197... Val Loss: 1.3047\n",
      "Epoch: 16/20... Step: 2220... Loss: 1.2755... Val Loss: 1.3082\n",
      "Epoch: 17/20... Step: 2230... Loss: 1.2343... Val Loss: 1.3048\n",
      "Epoch: 17/20... Step: 2240... Loss: 1.2562... Val Loss: 1.3005\n",
      "Epoch: 17/20... Step: 2250... Loss: 1.2345... Val Loss: 1.3072\n",
      "Epoch: 17/20... Step: 2260... Loss: 1.2477... Val Loss: 1.3059\n",
      "Epoch: 17/20... Step: 2270... Loss: 1.2493... Val Loss: 1.3046\n",
      "Epoch: 17/20... Step: 2280... Loss: 1.2489... Val Loss: 1.3026\n",
      "Epoch: 17/20... Step: 2290... Loss: 1.2608... Val Loss: 1.2984\n",
      "Epoch: 17/20... Step: 2300... Loss: 1.2219... Val Loss: 1.3014\n",
      "Epoch: 17/20... Step: 2310... Loss: 1.2432... Val Loss: 1.2986\n",
      "Epoch: 17/20... Step: 2320... Loss: 1.2379... Val Loss: 1.2967\n",
      "Epoch: 17/20... Step: 2330... Loss: 1.2390... Val Loss: 1.2995\n",
      "Epoch: 17/20... Step: 2340... Loss: 1.2516... Val Loss: 1.2974\n",
      "Epoch: 17/20... Step: 2350... Loss: 1.2510... Val Loss: 1.2991\n",
      "Epoch: 17/20... Step: 2360... Loss: 1.2633... Val Loss: 1.2986\n",
      "Epoch: 18/20... Step: 2370... Loss: 1.2304... Val Loss: 1.2998\n",
      "Epoch: 18/20... Step: 2380... Loss: 1.2414... Val Loss: 1.2929\n",
      "Epoch: 18/20... Step: 2390... Loss: 1.2357... Val Loss: 1.2969\n",
      "Epoch: 18/20... Step: 2400... Loss: 1.2570... Val Loss: 1.2947\n",
      "Epoch: 18/20... Step: 2410... Loss: 1.2586... Val Loss: 1.2946\n",
      "Epoch: 18/20... Step: 2420... Loss: 1.2281... Val Loss: 1.2945\n",
      "Epoch: 18/20... Step: 2430... Loss: 1.2418... Val Loss: 1.2926\n",
      "Epoch: 18/20... Step: 2440... Loss: 1.2238... Val Loss: 1.2932\n",
      "Epoch: 18/20... Step: 2450... Loss: 1.2212... Val Loss: 1.2901\n",
      "Epoch: 18/20... Step: 2460... Loss: 1.2325... Val Loss: 1.2894\n",
      "Epoch: 18/20... Step: 2470... Loss: 1.2201... Val Loss: 1.2899\n",
      "Epoch: 18/20... Step: 2480... Loss: 1.2216... Val Loss: 1.2919\n",
      "Epoch: 18/20... Step: 2490... Loss: 1.2156... Val Loss: 1.2892\n",
      "Epoch: 18/20... Step: 2500... Loss: 1.2188... Val Loss: 1.2872\n",
      "Epoch: 19/20... Step: 2510... Loss: 1.2230... Val Loss: 1.2896\n",
      "Epoch: 19/20... Step: 2520... Loss: 1.2379... Val Loss: 1.2869\n",
      "Epoch: 19/20... Step: 2530... Loss: 1.2514... Val Loss: 1.2868\n",
      "Epoch: 19/20... Step: 2540... Loss: 1.2548... Val Loss: 1.2838\n",
      "Epoch: 19/20... Step: 2550... Loss: 1.2171... Val Loss: 1.2893\n",
      "Epoch: 19/20... Step: 2560... Loss: 1.2270... Val Loss: 1.2855\n",
      "Epoch: 19/20... Step: 2570... Loss: 1.2033... Val Loss: 1.2840\n",
      "Epoch: 19/20... Step: 2580... Loss: 1.2486... Val Loss: 1.2833\n",
      "Epoch: 19/20... Step: 2590... Loss: 1.2103... Val Loss: 1.2847\n",
      "Epoch: 19/20... Step: 2600... Loss: 1.2019... Val Loss: 1.2836\n",
      "Epoch: 19/20... Step: 2610... Loss: 1.2167... Val Loss: 1.2859\n",
      "Epoch: 19/20... Step: 2620... Loss: 1.1996... Val Loss: 1.2805\n",
      "Epoch: 19/20... Step: 2630... Loss: 1.2096... Val Loss: 1.2805\n",
      "Epoch: 19/20... Step: 2640... Loss: 1.2207... Val Loss: 1.2811\n",
      "Epoch: 20/20... Step: 2650... Loss: 1.2292... Val Loss: 1.2905\n"
     ]
    },
    {
     "name": "stdout",
     "output_type": "stream",
     "text": [
      "Epoch: 20/20... Step: 2660... Loss: 1.2301... Val Loss: 1.2813\n",
      "Epoch: 20/20... Step: 2670... Loss: 1.2274... Val Loss: 1.2774\n",
      "Epoch: 20/20... Step: 2680... Loss: 1.2216... Val Loss: 1.2811\n",
      "Epoch: 20/20... Step: 2690... Loss: 1.2123... Val Loss: 1.2824\n",
      "Epoch: 20/20... Step: 2700... Loss: 1.2229... Val Loss: 1.2762\n",
      "Epoch: 20/20... Step: 2710... Loss: 1.1946... Val Loss: 1.2746\n",
      "Epoch: 20/20... Step: 2720... Loss: 1.1907... Val Loss: 1.2753\n",
      "Epoch: 20/20... Step: 2730... Loss: 1.1932... Val Loss: 1.2777\n",
      "Epoch: 20/20... Step: 2740... Loss: 1.1868... Val Loss: 1.2772\n",
      "Epoch: 20/20... Step: 2750... Loss: 1.1947... Val Loss: 1.2773\n",
      "Epoch: 20/20... Step: 2760... Loss: 1.1876... Val Loss: 1.2799\n",
      "Epoch: 20/20... Step: 2770... Loss: 1.2263... Val Loss: 1.2736\n",
      "Epoch: 20/20... Step: 2780... Loss: 1.2509... Val Loss: 1.2709\n"
     ]
    }
   ],
   "source": [
    "batch_size = 128\n",
    "seq_length = 100\n",
    "n_epochs = 20 # start smaller if you are just testing initial behavior\n",
    "\n",
    "# train the model\n",
    "train(net, encoded, epochs=n_epochs, batch_size=batch_size, seq_length=seq_length, lr=0.001, print_every=10)"
   ]
  },
  {
   "cell_type": "markdown",
   "metadata": {},
   "source": [
    "## Getting the best model\n",
    "\n",
    "To set your hyperparameters to get the best performance, you'll want to watch the training and validation losses. If your training loss is much lower than the validation loss, you're overfitting. Increase regularization (more dropout) or use a smaller network. If the training and validation losses are close, you're underfitting so you can increase the size of the network."
   ]
  },
  {
   "cell_type": "markdown",
   "metadata": {},
   "source": [
    "## Hyperparameters\n",
    "\n",
    "Here are the hyperparameters for the network.\n",
    "\n",
    "In defining the model:\n",
    "* `n_hidden` - The number of units in the hidden layers.\n",
    "* `n_layers` - Number of hidden LSTM layers to use.\n",
    "\n",
    "We assume that dropout probability and learning rate will be kept at the default, in this example.\n",
    "\n",
    "And in training:\n",
    "* `batch_size` - Number of sequences running through the network in one pass.\n",
    "* `seq_length` - Number of characters in the sequence the network is trained on. Larger is better typically, the network will learn more long range dependencies. But it takes longer to train. 100 is typically a good number here.\n",
    "* `lr` - Learning rate for training\n",
    "\n",
    "Here's some good advice from Andrej Karpathy on training the network. I'm going to copy it in here for your benefit, but also link to [where it originally came from](https://github.com/karpathy/char-rnn#tips-and-tricks).\n",
    "\n",
    "> ## Tips and Tricks\n",
    "\n",
    ">### Monitoring Validation Loss vs. Training Loss\n",
    ">If you're somewhat new to Machine Learning or Neural Networks it can take a bit of expertise to get good models. The most important quantity to keep track of is the difference between your training loss (printed during training) and the validation loss (printed once in a while when the RNN is run on the validation data (by default every 1000 iterations)). In particular:\n",
    "\n",
    "> - If your training loss is much lower than validation loss then this means the network might be **overfitting**. Solutions to this are to decrease your network size, or to increase dropout. For example you could try dropout of 0.5 and so on.\n",
    "> - If your training/validation loss are about equal then your model is **underfitting**. Increase the size of your model (either number of layers or the raw number of neurons per layer)\n",
    "\n",
    "> ### Approximate number of parameters\n",
    "\n",
    "> The two most important parameters that control the model are `n_hidden` and `n_layers`. I would advise that you always use `n_layers` of either 2/3. The `n_hidden` can be adjusted based on how much data you have. The two important quantities to keep track of here are:\n",
    "\n",
    "> - The number of parameters in your model. This is printed when you start training.\n",
    "> - The size of your dataset. 1MB file is approximately 1 million characters.\n",
    "\n",
    ">These two should be about the same order of magnitude. It's a little tricky to tell. Here are some examples:\n",
    "\n",
    "> - I have a 100MB dataset and I'm using the default parameter settings (which currently print 150K parameters). My data size is significantly larger (100 mil >> 0.15 mil), so I expect to heavily underfit. I am thinking I can comfortably afford to make `n_hidden` larger.\n",
    "> - I have a 10MB dataset and running a 10 million parameter model. I'm slightly nervous and I'm carefully monitoring my validation loss. If it's larger than my training loss then I may want to try to increase dropout a bit and see if that helps the validation loss.\n",
    "\n",
    "> ### Best models strategy\n",
    "\n",
    ">The winning strategy to obtaining very good models (if you have the compute time) is to always err on making the network larger (as large as you're willing to wait for it to compute) and then try different dropout values (between 0,1). Whatever model has the best validation performance (the loss, written in the checkpoint filename, low is good) is the one you should use in the end.\n",
    "\n",
    ">It is very common in deep learning to run many different models with many different hyperparameter settings, and in the end take whatever checkpoint gave the best validation performance.\n",
    "\n",
    ">By the way, the size of your training and validation splits are also parameters. Make sure you have a decent amount of data in your validation set or otherwise the validation performance will be noisy and not very informative."
   ]
  },
  {
   "cell_type": "markdown",
   "metadata": {},
   "source": [
    "## Checkpoint\n",
    "\n",
    "After training, we'll save the model so we can load it again later if we need too. Here I'm saving the parameters needed to create the same architecture, the hidden layer hyperparameters and the text characters."
   ]
  },
  {
   "cell_type": "code",
   "execution_count": 25,
   "metadata": {},
   "outputs": [],
   "source": [
    "# change the name, for saving multiple files\n",
    "model_name = 'rnn_20_epoch.net'\n",
    "\n",
    "checkpoint = {'n_hidden': net.n_hidden,\n",
    "              'n_layers': net.n_layers,\n",
    "              'state_dict': net.state_dict(),\n",
    "              'tokens': net.chars}\n",
    "\n",
    "with open(model_name, 'wb') as f:\n",
    "    torch.save(checkpoint, f)"
   ]
  },
  {
   "cell_type": "markdown",
   "metadata": {},
   "source": [
    "---\n",
    "## Making Predictions\n",
    "\n",
    "Now that the model is trained, we'll want to sample from it and make predictions about next characters! To sample, we pass in a character and have the network predict the next character. Then we take that character, pass it back in, and get another predicted character. Just keep doing this and you'll generate a bunch of text!\n",
    "\n",
    "### A note on the `predict`  function\n",
    "\n",
    "The output of our RNN is from a fully-connected layer and it outputs a **distribution of next-character scores**.\n",
    "\n",
    "> To actually get the next character, we apply a softmax function, which gives us a *probability* distribution that we can then sample to predict the next character.\n",
    "\n",
    "### Top K sampling\n",
    "\n",
    "Our predictions come from a categorical probability distribution over all the possible characters. We can make the sample text and make it more reasonable to handle (with less variables) by only considering some $K$ most probable characters. This will prevent the network from giving us completely absurd characters while allowing it to introduce some noise and randomness into the sampled text. Read more about [topk, here](https://pytorch.org/docs/stable/torch.html#torch.topk).\n"
   ]
  },
  {
   "cell_type": "code",
   "execution_count": 26,
   "metadata": {},
   "outputs": [],
   "source": [
    "def predict(net, char, h=None, top_k=None):\n",
    "        ''' Given a character, predict the next character.\n",
    "            Returns the predicted character and the hidden state.\n",
    "        '''\n",
    "        \n",
    "        # tensor inputs\n",
    "        x = np.array([[net.char2int[char]]])\n",
    "        x = one_hot_encode(x, len(net.chars))\n",
    "        inputs = torch.from_numpy(x)\n",
    "        \n",
    "        if(train_on_gpu):\n",
    "            inputs = inputs.cuda()\n",
    "        \n",
    "        # detach hidden state from history\n",
    "        h = tuple([each.data for each in h])\n",
    "        # get the output of the model\n",
    "        out, h = net(inputs, h)\n",
    "\n",
    "        # get the character probabilities\n",
    "        p = F.softmax(out, dim=1).data\n",
    "        if(train_on_gpu):\n",
    "            p = p.cpu() # move to cpu\n",
    "        \n",
    "        # get top characters\n",
    "        if top_k is None:\n",
    "            top_ch = np.arange(len(net.chars))\n",
    "        else:\n",
    "            p, top_ch = p.topk(top_k)\n",
    "            top_ch = top_ch.numpy().squeeze()\n",
    "        \n",
    "        # select the likely next character with some element of randomness\n",
    "        p = p.numpy().squeeze()\n",
    "        char = np.random.choice(top_ch, p=p/p.sum())\n",
    "        \n",
    "        # return the encoded value of the predicted char and the hidden state\n",
    "        return net.int2char[char], h"
   ]
  },
  {
   "cell_type": "markdown",
   "metadata": {},
   "source": [
    "### Priming and generating text \n",
    "\n",
    "Typically you'll want to prime the network so you can build up a hidden state. Otherwise the network will start out generating characters at random. In general the first bunch of characters will be a little rough since it hasn't built up a long history of characters to predict from."
   ]
  },
  {
   "cell_type": "code",
   "execution_count": 27,
   "metadata": {},
   "outputs": [],
   "source": [
    "def sample(net, size, prime='The', top_k=None):\n",
    "        \n",
    "    if(train_on_gpu):\n",
    "        net.cuda()\n",
    "    else:\n",
    "        net.cpu()\n",
    "    \n",
    "    net.eval() # eval mode\n",
    "    \n",
    "    # First off, run through the prime characters\n",
    "    chars = [ch for ch in prime]\n",
    "    h = net.init_hidden(1)\n",
    "    for ch in prime:\n",
    "        char, h = predict(net, ch, h, top_k=top_k)\n",
    "\n",
    "    chars.append(char)\n",
    "    \n",
    "    # Now pass in the previous character and get a new one\n",
    "    for ii in range(size):\n",
    "        char, h = predict(net, chars[-1], h, top_k=top_k)\n",
    "        chars.append(char)\n",
    "\n",
    "    return ''.join(chars)"
   ]
  },
  {
   "cell_type": "code",
   "execution_count": 28,
   "metadata": {},
   "outputs": [
    {
     "name": "stdout",
     "output_type": "stream",
     "text": [
      "Anna Arkadyevna, then\n",
      "attanding a cap of his short at her hand.\n",
      "\n",
      "\"That's the second man, that is the country of the same fails. I'm no\n",
      "position to the crutious, what I's said that I do too see it. What\n",
      "all I am not to be storing at that? I can't have a strength for the\n",
      "provorder, this man so much to the stirn and condiding it. They all says\n",
      "it someone is so it in sube.\"\n",
      "\n",
      "\"Ah! It's only being the children?\"\n",
      "\n",
      "And he saw his wife he felt so than a streng of high cards when said,\n",
      "all this she went off of her, as she stopped, both a state of the\n",
      "far hested, had started him.\n",
      "\n",
      "\"I have no money, and having some day, that I could have to be and she would.\n",
      "Tare it or an incapition of myself. I don't know what you would can a\n",
      "cart in the powith!\" he said at the tenderness over the sofe, as she said\n",
      "to Vronsky. \"I do not say to my cheek, there was so much\n",
      "so indifference on the praice of the saling, and that it's not one\n",
      "condition, a signife in a shrink. Would I do, you well, I are at once\n",
      "to say that \n"
     ]
    }
   ],
   "source": [
    "print(sample(net, 1000, prime='Anna', top_k=5))"
   ]
  },
  {
   "cell_type": "markdown",
   "metadata": {},
   "source": [
    "## Loading a checkpoint"
   ]
  },
  {
   "cell_type": "code",
   "execution_count": 31,
   "metadata": {},
   "outputs": [],
   "source": [
    "# Here we have loaded in a model that trained over 20 epochs `rnn_20_epoch.net`\n",
    "with open('rnn_20_epoch.net', 'rb') as f:\n",
    "    checkpoint = torch.load(f)\n",
    "    \n",
    "loaded = CharRNN(checkpoint['tokens'], n_hidden=checkpoint['n_hidden'], n_layers=checkpoint['n_layers'])\n",
    "loaded.load_state_dict(checkpoint['state_dict'])"
   ]
  },
  {
   "cell_type": "code",
   "execution_count": 32,
   "metadata": {},
   "outputs": [
    {
     "name": "stdout",
     "output_type": "stream",
     "text": [
      "And Levin said that\n",
      "an incoperious woman to believe that weary she would not brought the\n",
      "princess, and the first minute hanged all the sould of sought to the past\n",
      "the measor too and so as to be a pate that had barned three doubts, and the meriages than\n",
      "anything was not something as her husband was the force to arrive in a convectious\n",
      "friend and subper for two dead attention and taken, and he felt that\n",
      "they said that he was asked her son when she was simply and ashed her,\n",
      "than a lare and the failed of himself as a subsers. And to\n",
      "say that had been all three displees for at the table-treachering of\n",
      "him, but she decised to speak of this tenderness. The chief with\n",
      "the prince had said, as though he did not come into his brother's arrival\n",
      "which, had not been asking of the prance, and at a child of a conditions\n",
      "and the cloud, with the steps of her letter and the same time with the\n",
      "crowd, a single man, the dress was intellectualicy. He had stond a single\n",
      "steps, and the more arranged their soul, as a possible arrival, and work at\n",
      "the marshal of the position at the pronitence, husband, he would not\n",
      "help beginning in the face in this faint, but she dad to say, that\n",
      "he had thrown forward to the start of all that still when they was not a\n",
      "peasants. But he was not to come to her, and the place he had asked him a\n",
      "little said at the strange of the social suddencis and there in their\n",
      "classical steps,\" he asked, and what she had to see all she was in taking the\n",
      "part of a state. At this muscles of hands, with a smell of the supprising and\n",
      "he had succeeded and his brother, and still made up the masher to his\n",
      "wife's face, he caught to his wife's face to set the party of the\n",
      "religion, and work and an instinctive of all supper and anxiety, and she\n",
      "still, she her desprited too, had not a feal silence with her hands,\n",
      "when he was a silence of his fire who can her hat had been that in his\n",
      "heart, and he would be at his hand to himself, who did not suffer. He\n",
      "could not have always talking to him, as it was a \n"
     ]
    }
   ],
   "source": [
    "# Sample using a loaded model\n",
    "print(sample(loaded, 2000, top_k=5, prime=\"And Levin said\"))"
   ]
  },
  {
   "cell_type": "code",
   "execution_count": null,
   "metadata": {
    "collapsed": true
   },
   "outputs": [],
   "source": []
  }
 ],
 "metadata": {
  "kernelspec": {
   "display_name": "Python 3",
   "language": "python",
   "name": "python3"
  },
  "language_info": {
   "codemirror_mode": {
    "name": "ipython",
    "version": 3
   },
   "file_extension": ".py",
   "mimetype": "text/x-python",
   "name": "python",
   "nbconvert_exporter": "python",
   "pygments_lexer": "ipython3",
   "version": "3.6.8"
  },
  "toc": {
   "base_numbering": 1,
   "nav_menu": {},
   "number_sections": true,
   "sideBar": true,
   "skip_h1_title": false,
   "title_cell": "Table of Contents",
   "title_sidebar": "Contents",
   "toc_cell": true,
   "toc_position": {
    "height": "calc(100% - 180px)",
    "left": "10px",
    "top": "150px",
    "width": "345.455px"
   },
   "toc_section_display": true,
   "toc_window_display": true
  }
 },
 "nbformat": 4,
 "nbformat_minor": 2
}
